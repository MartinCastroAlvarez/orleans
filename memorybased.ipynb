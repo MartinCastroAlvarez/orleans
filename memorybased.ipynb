{
 "cells": [
  {
   "cell_type": "markdown",
   "metadata": {},
   "source": [
    "# Memory Based Collaborative Filtering"
   ]
  },
  {
   "cell_type": "code",
   "execution_count": 1,
   "metadata": {},
   "outputs": [],
   "source": [
    "import numpy as np\n",
    "\n",
    "import matplotlib.pyplot as plt\n",
    "from matplotlib.figure import Figure\n",
    "from matplotlib.axes import Axes"
   ]
  },
  {
   "cell_type": "markdown",
   "metadata": {},
   "source": [
    "## User-Rating Matrix"
   ]
  },
  {
   "cell_type": "markdown",
   "metadata": {},
   "source": [
    "The ratings matrix is denoted by `R` and it is an `m` by `n` matrix containing `m` users and `n` items. The rating of user `u1` for item `i3` is denoted by `r13`."
   ]
  },
  {
   "cell_type": "markdown",
   "metadata": {},
   "source": [
    "$$ U = \\{ u_1, u_2 ... u_m \\} \\land |U| = m $$"
   ]
  },
  {
   "cell_type": "markdown",
   "metadata": {},
   "source": [
    "$$ I = \\{ i_1, i_2 ... i_n \\} \\land |I| = n $$"
   ]
  },
  {
   "cell_type": "markdown",
   "metadata": {},
   "source": [
    "$$ R = \\{ r_{1,1}, r_{1,2} ... r_{2,1}, r_{2,2} ... r_{m,n} \\} \\land |R| = m \\times n $$"
   ]
  },
  {
   "cell_type": "code",
   "execution_count": 2,
   "metadata": {},
   "outputs": [],
   "source": [
    "USERS: int = 10\n",
    "ITEMS: int = 15\n",
    "\n",
    "MIN_RATING: int = 0\n",
    "MAX_RATING: int = 5\n",
    "    \n",
    "MIN_SHARED_RATINGS: int = 3"
   ]
  },
  {
   "cell_type": "code",
   "execution_count": 3,
   "metadata": {},
   "outputs": [
    {
     "name": "stdout",
     "output_type": "stream",
     "text": [
      "[[nan  0. nan nan  5. nan  1.  2. nan  2. nan  0. nan  5.  5.]\n",
      " [ 4. nan nan  5.  3. nan nan nan  2.  0.  5.  1.  3.  3.  4.]\n",
      " [ 3.  0. nan  1. nan  0. nan nan  4. nan  5. nan  5.  4. nan]\n",
      " [nan nan nan nan nan nan nan  1.  5.  5.  0. nan nan nan  3.]\n",
      " [ 3.  1.  0.  1. nan  5.  5.  1. nan  1. nan nan nan nan nan]\n",
      " [nan  1. nan  5. nan  3.  5.  5. nan  2.  1.  4.  5.  5.  1.]\n",
      " [ 5. nan  5. nan nan  5.  3. nan nan nan nan  4.  2. nan nan]\n",
      " [ 5.  5.  5.  0. nan nan  1. nan  4.  5. nan  0. nan nan nan]\n",
      " [nan  2. nan nan  3.  3.  1. nan nan nan  0. nan nan nan nan]\n",
      " [ 3. nan  0. nan nan nan nan  1. nan nan  3. nan  5.  1.  0.]]\n"
     ]
    }
   ],
   "source": [
    "ratings: np.array = MAX_RATING * np.random.randn(USERS, ITEMS)\n",
    "ratings[ratings < MIN_RATING] = np.nan\n",
    "ratings[ratings > MAX_RATING] = MAX_RATING\n",
    "ratings = np.floor(ratings)\n",
    "print(ratings)"
   ]
  },
  {
   "cell_type": "markdown",
   "metadata": {},
   "source": [
    "## Normalization"
   ]
  },
  {
   "cell_type": "markdown",
   "metadata": {},
   "source": [
    "- https://en.wikipedia.org/wiki/Normalization_(statistics)"
   ]
  },
  {
   "cell_type": "markdown",
   "metadata": {},
   "source": [
    "In statistics and applications of statistics, normalization can have a range of meanings. In the simplest cases, normalization of ratings means adjusting values measured on different scales to a notionally common scale, often prior to averaging."
   ]
  },
  {
   "cell_type": "markdown",
   "metadata": {},
   "source": [
    "$$ \\bar{\\mu} = \\frac{\\sum\\limits^{^n}_{i=1} x_i}{n}\t $$"
   ]
  },
  {
   "cell_type": "markdown",
   "metadata": {},
   "source": [
    "$$ σ^2 = \\frac{\\sum\\limits^{^n}_{i=1} (x_i - \\bar{\\mu})^2}{n}\t $$"
   ]
  },
  {
   "cell_type": "markdown",
   "metadata": {},
   "source": [
    "$$ z = \\frac{x_i - \\bar{\\mu}}{σ}\t $$"
   ]
  },
  {
   "cell_type": "code",
   "execution_count": 4,
   "metadata": {},
   "outputs": [],
   "source": [
    "def get_normalized_matrix(matrix: np.array) -> tuple:\n",
    "    \"\"\"\n",
    "    Normalization Function.\n",
    "    Returns z-score of each element in the input matrix.\n",
    "    \"\"\"    \n",
    "    sample_size: np.array = np.sum(~np.isnan(matrix), axis=1)\n",
    "    sample_size[sample_size == 0] = 1    \n",
    "    mean: np.array = np.nansum(matrix, axis=1) / sample_size\n",
    "    mean = mean.reshape(mean.shape[0], 1)\n",
    "    variance: np.array = np.nansum(np.power(matrix - mean, 2), axis=1) / sample_size\n",
    "    variance = variance.reshape(variance.shape[0], 1)\n",
    "    variance[variance == 0] = 1\n",
    "    variation: np.array = np.sqrt(variance)\n",
    "    normalized: np.array = (matrix - variation) / variation\n",
    "    return mean, variation, normalized"
   ]
  },
  {
   "cell_type": "code",
   "execution_count": 5,
   "metadata": {},
   "outputs": [
    {
     "name": "stdout",
     "output_type": "stream",
     "text": [
      "ORIGINAL [[-0.37341985  0.53709025  3.3252004   2.33483917  3.79859824  5.7956564\n",
      "   7.24311885  9.42478936  8.71480907 10.63627607]\n",
      " [20.10353651 26.32697886 32.04976426 39.64818044 46.69843111 54.39478915\n",
      "  59.51595133 66.74614796 72.69768483 81.20996277]]\n",
      "NORMALIZED [[-1.10327177 -0.85146408 -0.08039347 -0.35428453  0.05052788  0.60282774\n",
      "   1.00313321  1.60648886  1.41013903  1.94153365]\n",
      " [ 0.03483699  0.35519099  0.64977349  1.04090477  1.40381904  1.79999192\n",
      "   2.06360564  2.43578269  2.74214025  3.18031291]]\n"
     ]
    },
    {
     "data": {
      "image/png": "[encoded data removed]",
      "text/plain": [
       "<Figure size 432x288 with 4 Axes>"
      ]
     },
     "metadata": {
      "needs_background": "light"
     },
     "output_type": "display_data"
    }
   ],
   "source": [
    "x: np.array = np.vstack([\n",
    "    np.linspace(0, 10, 10) + np.random.normal(0, 1, 10),\n",
    "    20 + np.linspace(0, 60, 10) + np.random.normal(0, 1, 10),\n",
    "])\n",
    "mean, variation, y = get_normalized_matrix(x)\n",
    "assert x.shape == y.shape\n",
    "print('ORIGINAL', x)\n",
    "print('NORMALIZED', y)\n",
    "grid = np.arange(x.shape[1])\n",
    "figure: Figure = plt.figure()\n",
    "axes: Axes = figure.add_subplot(2, 2, 1)\n",
    "axes.plot(grid, x[0].flat, 'o', color='blue')\n",
    "axes: Axes = figure.add_subplot(2, 2, 2)\n",
    "axes.plot(grid, y[0].flat, 'o', color='red')\n",
    "axes: Axes = figure.add_subplot(2, 2, 3)\n",
    "axes.plot(grid, x[1].flat, 'o', color='blue')\n",
    "axes: Axes = figure.add_subplot(2, 2, 4)\n",
    "axes.plot(grid, y[1].flat, 'o', color='red')\n",
    "plt.show()"
   ]
  },
  {
   "cell_type": "markdown",
   "metadata": {},
   "source": [
    "## Entropy"
   ]
  },
  {
   "cell_type": "markdown",
   "metadata": {},
   "source": [
    "- https://en.wikipedia.org/wiki/Entropy_(information_theory)"
   ]
  },
  {
   "cell_type": "markdown",
   "metadata": {},
   "source": [
    "In information theory, the entropy of a random variable is the average level of \"information\", \"surprise\", or \"uncertainty\" inherent in the variable's possible outcomes."
   ]
  },
  {
   "cell_type": "markdown",
   "metadata": {},
   "source": [
    "$$ H(x) = - \\sum\\limits^{^n}_{i=1} P(x_i) \\cdot log P(x_i) $$"
   ]
  },
  {
   "cell_type": "code",
   "execution_count": 6,
   "metadata": {},
   "outputs": [],
   "source": [
    "def get_entropy_array(matrix: np.array) -> np.array:\n",
    "    \"\"\"\n",
    "    Entropy Matrix.\n",
    "    \"\"\"\n",
    "    P: np.matrix = np.count_nonzero(~np.isnan(matrix.T), axis=1) / matrix.shape[0]\n",
    "    P[P == 0] = 1\n",
    "    return np.abs(np.log(P))"
   ]
  },
  {
   "cell_type": "code",
   "execution_count": 7,
   "metadata": {},
   "outputs": [
    {
     "name": "stdout",
     "output_type": "stream",
     "text": [
      "[[ 1. nan  3. nan nan]\n",
      " [ 4.  5. nan nan nan]\n",
      " [ 7.  8.  9.  5. nan]\n",
      " [ 7.  8.  9. nan nan]\n",
      " [ 7.  8.  9. nan nan]\n",
      " [ 7.  8.  9. nan nan]\n",
      " [ 7.  8.  9. nan nan]\n",
      " [ 1.  2.  2. nan nan]]\n",
      "[0.         0.13353139 0.13353139 2.07944154 0.        ]\n"
     ]
    }
   ],
   "source": [
    "X: np.array = np.array([\n",
    "    [1, np.nan, 3, np.nan, np.nan],\n",
    "    [4, 5, np.nan, np.nan, np.nan],\n",
    "    [7, 8, 9, 5, np.nan],\n",
    "    [7, 8, 9, np.nan, np.nan],\n",
    "    [7, 8, 9, np.nan, np.nan],\n",
    "    [7, 8, 9, np.nan, np.nan],\n",
    "    [7, 8, 9, np.nan, np.nan],\n",
    "    [1, 2, 2, np.nan, np.nan]\n",
    "])\n",
    "E: np.array = get_entropy_array(X)\n",
    "print(X)\n",
    "print(E)"
   ]
  },
  {
   "cell_type": "markdown",
   "metadata": {},
   "source": [
    "## Cosine Similarity"
   ]
  },
  {
   "cell_type": "markdown",
   "metadata": {},
   "source": [
    "- https://en.wikipedia.org/wiki/Cosine_similarity"
   ]
  },
  {
   "cell_type": "markdown",
   "metadata": {},
   "source": [
    "Cosine similarity is a measure of similarity between two non-zero vectors of an inner product space. It is defined to equal the cosine of the angle between them, which is also the same as the inner product of the same vectors normalized to both have length 1."
   ]
  },
  {
   "cell_type": "markdown",
   "metadata": {},
   "source": [
    "$$ cos(X, Y) = \\frac{X \\cdot Y}{ \\left \\Vert X \\right \\| \\cdot \\left \\Vert Y \\right \\| } = = \\frac{ \\sum\\limits^{^n}_{i=1} X_i \\cdot Y_i }{ \\sqrt{\\sum\\limits^{^n}_{i=1} X_i^2} \\cdot \\sqrt{\\sum\\limits^{^n}_{i=1} Y_i^2} } $$"
   ]
  },
  {
   "cell_type": "code",
   "execution_count": 8,
   "metadata": {},
   "outputs": [],
   "source": [
    "def get_cosine(X: np.array, Y: np.array) -> float:\n",
    "    \"\"\"\n",
    "    Cosine Similarity function.\n",
    "    \"\"\"\n",
    "    union: np.array = ~np.isnan(np.sum([X, Y], axis=0))\n",
    "    if np.count_nonzero(union) == 0:\n",
    "        return 0\n",
    "    discount: float = min(MIN_SHARED_RATINGS, np.count_nonzero(union)) / MIN_SHARED_RATINGS\n",
    "    return discount * np.sum(X[union] * Y[union]) / \\\n",
    "        (max(0.0000001, np.sqrt(np.sum(np.power(X[union], 2)))) *\\\n",
    "         max(0.0000001, np.sqrt(np.sum(np.power(Y[union], 2)))))"
   ]
  },
  {
   "cell_type": "code",
   "execution_count": 9,
   "metadata": {},
   "outputs": [
    {
     "name": "stdout",
     "output_type": "stream",
     "text": [
      "[ 1. nan  2.  3.  4.  5.  6.  7.  8.  9.] [ 1.  3.  2.  2. nan  8.  9. 10. 11. 12.] 0.9929196160911488\n"
     ]
    },
    {
     "data": {
      "image/png": "[encoded data removed]",
      "text/plain": [
       "<Figure size 432x288 with 1 Axes>"
      ]
     },
     "metadata": {
      "needs_background": "light"
     },
     "output_type": "display_data"
    }
   ],
   "source": [
    "X: np.array = np.array([1, np.nan, 2, 3, 4, 5, 6, 7, 8, 9])\n",
    "Y: np.array = np.array([1, 3, 2, 2, np.nan, 8, 9, 10, 11, 12])\n",
    "print(X, Y, get_cosine(X, Y))\n",
    "figure: Figure = plt.figure()\n",
    "axes: Axes = figure.add_subplot()\n",
    "axes.plot(np.arange(X.shape[0]), X, 'x', color='blue')\n",
    "axes.plot(np.arange(Y.shape[0]), Y, '.', color='red')\n",
    "plt.show()"
   ]
  },
  {
   "cell_type": "code",
   "execution_count": 10,
   "metadata": {},
   "outputs": [
    {
     "name": "stdout",
     "output_type": "stream",
     "text": [
      "[ 1. nan  2.  3.  4.  5.  6.  7.  8.  9.] [ 10.  30.  20.  20.  nan  80.  90. 100. 110. 120.] 0.9929196160911488\n"
     ]
    },
    {
     "data": {
      "image/png": "[encoded data removed]",
      "text/plain": [
       "<Figure size 432x288 with 1 Axes>"
      ]
     },
     "metadata": {
      "needs_background": "light"
     },
     "output_type": "display_data"
    }
   ],
   "source": [
    "X: np.array = np.array([1, np.nan, 2, 3, 4, 5, 6, 7, 8, 9])\n",
    "Y: np.array = np.array([10, 30, 20, 20, np.nan, 80, 90, 100, 110, 120])\n",
    "print(X, Y, get_cosine(X, Y))\n",
    "figure: Figure = plt.figure()\n",
    "axes: Axes = figure.add_subplot()\n",
    "axes.plot(np.arange(X.shape[0]), X, 'x', color='blue')\n",
    "axes.plot(np.arange(Y.shape[0]), Y, '.', color='red')\n",
    "plt.show()"
   ]
  },
  {
   "cell_type": "code",
   "execution_count": 11,
   "metadata": {},
   "outputs": [
    {
     "name": "stdout",
     "output_type": "stream",
     "text": [
      "[ 1. nan  2.  3.  4.  5.  7.  9. 10.] [100.  65.  32.  24.  nan  10.   7.   4.   2.] 0.21975098781417202\n"
     ]
    },
    {
     "data": {
      "image/png": "[encoded data removed]",
      "text/plain": [
       "<Figure size 432x288 with 1 Axes>"
      ]
     },
     "metadata": {
      "needs_background": "light"
     },
     "output_type": "display_data"
    }
   ],
   "source": [
    "X: np.array = np.array([1, np.nan, 2, 3, 4, 5, 7, 9, 10])\n",
    "Y: np.array = np.array([100, 65, 32, 24, np.nan, 10, 7, 4, 2])\n",
    "print(X, Y, get_cosine(X, Y))\n",
    "figure: Figure = plt.figure()\n",
    "axes: Axes = figure.add_subplot()\n",
    "axes.plot(np.arange(X.shape[0]), X, 'x', color='blue')\n",
    "axes.plot(np.arange(Y.shape[0]), Y, 'o', color='red')\n",
    "plt.show()"
   ]
  },
  {
   "cell_type": "markdown",
   "metadata": {},
   "source": [
    "## Similarity Matrix"
   ]
  },
  {
   "cell_type": "code",
   "execution_count": 12,
   "metadata": {},
   "outputs": [],
   "source": [
    "def get_similarity_matrix(matrix: np.array) -> np.array:\n",
    "    \"\"\"\n",
    "    Get similarity matrix out of a given matrix.\n",
    "    \"\"\"\n",
    "    correlations: np.array = np.stack([\n",
    "        [\n",
    "            0 if i >= j else get_cosine(x, y)\n",
    "            for j, y in enumerate(matrix)\n",
    "        ]\n",
    "        for i, x in enumerate(matrix)\n",
    "    ])\n",
    "    return correlations + correlations.T"
   ]
  },
  {
   "cell_type": "code",
   "execution_count": 13,
   "metadata": {},
   "outputs": [
    {
     "name": "stdout",
     "output_type": "stream",
     "text": [
      "[[1 2 3]\n",
      " [4 5 6]\n",
      " [7 8 9]]\n",
      "[[0.         0.97463185 0.95941195]\n",
      " [0.97463185 0.         0.99819089]\n",
      " [0.95941195 0.99819089 0.        ]]\n"
     ]
    }
   ],
   "source": [
    "X: np.array = np.array([ [1, 2, 3], [4, 5, 6], [7, 8, 9] ])\n",
    "S: np.array = get_similarity_matrix(X)\n",
    "print(X)\n",
    "print(S)"
   ]
  },
  {
   "cell_type": "markdown",
   "metadata": {},
   "source": [
    "## Top K-Similar Rows"
   ]
  },
  {
   "cell_type": "markdown",
   "metadata": {},
   "source": [
    "- https://en.wikipedia.org/wiki/Adjacency_matrix\n",
    "- https://numpy.org/doc/stable/reference/generated/numpy.argsort.html"
   ]
  },
  {
   "cell_type": "markdown",
   "metadata": {},
   "source": [
    "In graph theory and computer science, an adjacency matrix is a square matrix used to represent a finite graph. The elements of the matrix indicate whether pairs of vertices are adjacent or not in the graph."
   ]
  },
  {
   "cell_type": "code",
   "execution_count": 14,
   "metadata": {},
   "outputs": [],
   "source": [
    "def get_adjacency_matrix(similar: np.array, k: int = 5) -> np.array:\n",
    "    \"\"\"\n",
    "    Get top k similar rows of a similarity matrix.\n",
    "    \"\"\"\n",
    "    closest: np.array = np.argsort(similar)\n",
    "    return closest[:, closest.shape[1] - k:]"
   ]
  },
  {
   "cell_type": "code",
   "execution_count": 15,
   "metadata": {},
   "outputs": [
    {
     "name": "stdout",
     "output_type": "stream",
     "text": [
      "[[0 2 3 1]\n",
      " [8 0 6 1]\n",
      " [7 6 0 2]\n",
      " [2 3 1 0]]\n",
      "[[1 2]\n",
      " [2 0]\n",
      " [1 0]\n",
      " [0 1]]\n"
     ]
    }
   ],
   "source": [
    "X: np.array = np.array([ [0, 2, 3, 1], [8, 0, 6, 1], [7, 6, 0, 2], [2, 3, 1, 0] ])\n",
    "S: np.array = get_adjacency_matrix(X, 2)\n",
    "print(X)\n",
    "print(S)"
   ]
  },
  {
   "cell_type": "markdown",
   "metadata": {},
   "source": [
    "### Collaborative Filtering"
   ]
  },
  {
   "cell_type": "code",
   "execution_count": 20,
   "metadata": {},
   "outputs": [
    {
     "name": "stdout",
     "output_type": "stream",
     "text": [
      "1 [[-0.47924436         nan  0.56226693  1.60377822 -1.        ]\n",
      " [-0.65051838  1.79585298  0.04844487  1.44637136         nan]\n",
      " [        nan         nan  1.                 nan -1.        ]\n",
      " [-0.69381378         nan         nan  0.53093109  1.75567596]]\n",
      "2 [[2.25]\n",
      " [4.75]\n",
      " [1.5 ]\n",
      " [5.  ]]\n",
      "3 [[1.92028644]\n",
      " [2.86138079]\n",
      " [1.5       ]\n",
      " [3.26598632]]\n",
      "4 [0.22314355 0.22314355 0.91629073 0.51082562]\n",
      "5 [[1]\n",
      " [0]\n",
      " [0]\n",
      " [1]]\n",
      "1 [-0.47924436         nan  0.56226693  1.60377822 -1.        ]\n",
      "1 [-0.65051838  1.79585298  0.04844487  1.44637136         nan]\n",
      "1 [nan nan  1. nan -1.]\n",
      "1 [-0.69381378         nan         nan  0.53093109  1.75567596]\n",
      "[[ 1. nan  3.  5.  0.]\n",
      " [ 1.  8.  3.  7. nan]\n",
      " [nan nan  3. nan  0.]\n",
      " [ 1. nan nan  5.  9.]]\n",
      "None\n"
     ]
    }
   ],
   "source": [
    "def get_collaborative_filtering(ratings: np.array, mean: np.array, variance: np.array, entropy: np.array, adjacent: np.array) -> np.matrix:\n",
    "    \"\"\"\n",
    "    Collaborative Filtering function.\n",
    "    \"\"\"\n",
    "    print(1, ratings)\n",
    "    print(2, mean)\n",
    "    print(3, variance)\n",
    "    print(4, entropy)\n",
    "    print(5, adjacent)\n",
    "    for i in range(ratings.shape[0]):\n",
    "        print(1, ratings[i])\n",
    "        \n",
    "\n",
    "    \n",
    "X: np.array = np.array([\n",
    "    [1, np.nan, 3, 5, 0],\n",
    "    [1, 8, 3, 7, np.nan],\n",
    "    [np.nan, np.nan, 3, np.nan, 0],\n",
    "    [1, np.nan, np.nan, 5, 9],\n",
    "])\n",
    "mean, variance, normalized = get_normalized_matrix(X)\n",
    "entropy = get_entropy_array(X.T)\n",
    "similarity = get_similarity_matrix(normalized)\n",
    "adjacent = get_adjacency_matrix(similarity)\n",
    "F: np.matrix = get_collaborative_filtering(ratings=normalized, mean=mean, variance=variance, entropy=entropy, adjacent=adjacent)\n",
    "print(X)\n",
    "print(F)"
   ]
  },
  {
   "cell_type": "markdown",
   "metadata": {},
   "source": [
    "## User-Based Collaborative Filtering"
   ]
  },
  {
   "cell_type": "markdown",
   "metadata": {},
   "source": [
    "#### User-User Matrix"
   ]
  },
  {
   "cell_type": "code",
   "execution_count": null,
   "metadata": {},
   "outputs": [],
   "source": [
    "print(ratings.shape)\n",
    "print(ratings)"
   ]
  },
  {
   "cell_type": "markdown",
   "metadata": {},
   "source": [
    "#### User-User Normalized Matrix"
   ]
  },
  {
   "cell_type": "code",
   "execution_count": null,
   "metadata": {},
   "outputs": [],
   "source": [
    "mean, variation, normalized = get_normalized_matrix(ratings)\n",
    "print(normalized.shape)\n",
    "print(normalized)"
   ]
  },
  {
   "cell_type": "markdown",
   "metadata": {},
   "source": [
    "#### User-User Similarity Matrix"
   ]
  },
  {
   "cell_type": "code",
   "execution_count": null,
   "metadata": {},
   "outputs": [],
   "source": [
    "similarity: np.array = get_similarity_matrix(normalized)\n",
    "print(similarity.shape)\n",
    "print(similarity)"
   ]
  },
  {
   "cell_type": "markdown",
   "metadata": {},
   "source": [
    "#### User-User Adjacency Matrix"
   ]
  },
  {
   "cell_type": "code",
   "execution_count": null,
   "metadata": {},
   "outputs": [],
   "source": [
    "adjacent: np.array = get_adjacency_matrix(similarity)\n",
    "print(adjacent.shape)\n",
    "print(adjacent)"
   ]
  },
  {
   "cell_type": "markdown",
   "metadata": {},
   "source": [
    "#### Items Entropy Matrix"
   ]
  },
  {
   "cell_type": "code",
   "execution_count": null,
   "metadata": {},
   "outputs": [],
   "source": [
    "entropy: np.array = get_entropy_array(ratings)\n",
    "print(entropy.shape)\n",
    "print(entropy)"
   ]
  },
  {
   "cell_type": "markdown",
   "metadata": {},
   "source": [
    "## Memory-Based Collaborative Filtering"
   ]
  },
  {
   "cell_type": "markdown",
   "metadata": {},
   "source": [
    "#### Item-Item Matrix"
   ]
  },
  {
   "cell_type": "code",
   "execution_count": null,
   "metadata": {},
   "outputs": [],
   "source": [
    "print(ratings.T.shape)\n",
    "print(ratings.T)"
   ]
  },
  {
   "cell_type": "markdown",
   "metadata": {},
   "source": [
    "#### Item-Item Normalized Matrix"
   ]
  },
  {
   "cell_type": "code",
   "execution_count": null,
   "metadata": {},
   "outputs": [],
   "source": [
    "mean, variation, normalized = get_normalized_matrix(ratings.T)\n",
    "print(normalized.shape)\n",
    "print(normalized)"
   ]
  },
  {
   "cell_type": "markdown",
   "metadata": {},
   "source": [
    "#### Item-Item Similarity Matrix"
   ]
  },
  {
   "cell_type": "code",
   "execution_count": null,
   "metadata": {},
   "outputs": [],
   "source": [
    "similarity: np.array = get_similarity_matrix(normalized)\n",
    "print(similarity.shape)\n",
    "print(similarity)"
   ]
  },
  {
   "cell_type": "markdown",
   "metadata": {},
   "source": [
    "#### Item-Item Adjacency Matrix"
   ]
  },
  {
   "cell_type": "code",
   "execution_count": null,
   "metadata": {},
   "outputs": [],
   "source": [
    "adjacent: np.array = get_adjacency_matrix(similarity)\n",
    "print(adjacent.shape)\n",
    "print(adjacent)"
   ]
  },
  {
   "cell_type": "markdown",
   "metadata": {},
   "source": [
    "#### Users Entropy Matrix"
   ]
  },
  {
   "cell_type": "code",
   "execution_count": null,
   "metadata": {},
   "outputs": [],
   "source": [
    "entropy: np.array = get_entropy_array(ratings.T)\n",
    "print(entropy.shape)\n",
    "print(entropy)"
   ]
  }
 ],
 "metadata": {
  "kernelspec": {
   "display_name": "Python 3",
   "language": "python",
   "name": "python3"
  },
  "language_info": {
   "codemirror_mode": {
    "name": "ipython",
    "version": 3
   },
   "file_extension": ".py",
   "mimetype": "text/x-python",
   "name": "python",
   "nbconvert_exporter": "python",
   "pygments_lexer": "ipython3",
   "version": "3.7.6"
  }
 },
 "nbformat": 4,
 "nbformat_minor": 4
}
