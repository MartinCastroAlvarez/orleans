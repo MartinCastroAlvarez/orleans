{
 "cells": [
  {
   "cell_type": "markdown",
   "metadata": {},
   "source": [
    "# Memory Based Collaborative Filtering"
   ]
  },
  {
   "cell_type": "code",
   "execution_count": 1,
   "metadata": {},
   "outputs": [],
   "source": [
    "import numpy as np\n",
    "\n",
    "import matplotlib.pyplot as plt\n",
    "from matplotlib.figure import Figure\n",
    "from matplotlib.axes import Axes"
   ]
  },
  {
   "cell_type": "markdown",
   "metadata": {},
   "source": [
    "## User-Rating Matrix"
   ]
  },
  {
   "cell_type": "markdown",
   "metadata": {},
   "source": [
    "The ratings matrix is denoted by `R` and it is an `m` by `n` matrix containing `m` users and `n` items. The rating of user `u1` for item `i3` is denoted by `r13`."
   ]
  },
  {
   "cell_type": "markdown",
   "metadata": {},
   "source": [
    "$$ U = \\{ u_1, u_2 ... u_m \\} \\land |U| = m $$"
   ]
  },
  {
   "cell_type": "markdown",
   "metadata": {},
   "source": [
    "$$ I = \\{ i_1, i_2 ... i_n \\} \\land |I| = n $$"
   ]
  },
  {
   "cell_type": "markdown",
   "metadata": {},
   "source": [
    "$$ R = \\{ r_{1,1}, r_{1,2} ... r_{2,1}, r_{2,2} ... r_{m,n} \\} \\land |R| = m \\times n $$"
   ]
  },
  {
   "cell_type": "code",
   "execution_count": 2,
   "metadata": {},
   "outputs": [],
   "source": [
    "USERS: int = 10\n",
    "ITEMS: int = 15\n",
    "\n",
    "MIN_RATING: int = 0\n",
    "MAX_RATING: int = 5\n",
    "    \n",
    "MIN_SHARED_RATINGS: int = 3"
   ]
  },
  {
   "cell_type": "code",
   "execution_count": 3,
   "metadata": {},
   "outputs": [
    {
     "name": "stdout",
     "output_type": "stream",
     "text": [
      "[[nan  1.  1.  2.  5. nan nan  0. nan nan  5. nan nan  5. nan]\n",
      " [ 3. nan  0. nan  0.  5. nan  5.  3.  1.  1. nan nan nan  0.]\n",
      " [nan  2.  5.  1. nan nan  1.  0. nan nan nan nan  3. nan nan]\n",
      " [ 1.  0.  2. nan  4. nan  1. nan  3.  0.  5.  0.  5.  2.  3.]\n",
      " [ 2. nan nan nan nan  4. nan nan nan nan  2.  4.  4. nan nan]\n",
      " [ 1. nan  5. nan  3.  3.  1.  5. nan  4.  5.  4. nan nan nan]\n",
      " [nan  0. nan  5. nan nan nan nan  0. nan nan nan  5.  5.  5.]\n",
      " [nan  0.  3. nan  1.  5. nan  0.  1. nan nan nan  1.  2. nan]\n",
      " [nan nan  1. nan nan nan nan  5. nan nan  3.  0. nan  5. nan]\n",
      " [ 3.  0.  2. nan  3. nan nan nan nan  3.  3. nan nan nan  5.]]\n"
     ]
    }
   ],
   "source": [
    "ratings: np.array = MAX_RATING * np.random.randn(USERS, ITEMS)\n",
    "ratings[ratings < MIN_RATING] = np.nan\n",
    "ratings[ratings > MAX_RATING] = MAX_RATING\n",
    "ratings = np.floor(ratings)\n",
    "print(ratings)"
   ]
  },
  {
   "cell_type": "markdown",
   "metadata": {},
   "source": [
    "## Normalization"
   ]
  },
  {
   "cell_type": "markdown",
   "metadata": {},
   "source": [
    "- https://en.wikipedia.org/wiki/Normalization_(statistics)"
   ]
  },
  {
   "cell_type": "markdown",
   "metadata": {},
   "source": [
    "In statistics and applications of statistics, normalization can have a range of meanings. In the simplest cases, normalization of ratings means adjusting values measured on different scales to a notionally common scale, often prior to averaging."
   ]
  },
  {
   "cell_type": "markdown",
   "metadata": {},
   "source": [
    "$$ \\bar{\\mu} = \\frac{\\sum\\limits^{^n}_{i=1} x_i}{n}\t $$"
   ]
  },
  {
   "cell_type": "markdown",
   "metadata": {},
   "source": [
    "$$ σ^2 = \\frac{\\sum\\limits^{^n}_{i=1} (x_i - \\bar{\\mu})^2}{n}\t $$"
   ]
  },
  {
   "cell_type": "markdown",
   "metadata": {},
   "source": [
    "$$ z = \\frac{x_i - \\bar{\\mu}}{σ}\t $$"
   ]
  },
  {
   "cell_type": "code",
   "execution_count": 4,
   "metadata": {},
   "outputs": [],
   "source": [
    "def get_normalized(matrix: np.array) -> np.array:\n",
    "    \"\"\"\n",
    "    Normalization Function.\n",
    "    Returns z-score of each element in the input matrix.\n",
    "    \"\"\"    \n",
    "    sample_size: np.array = np.sum(~np.isnan(matrix), axis=1)\n",
    "    sample_size[sample_size == 0] = 1    \n",
    "    averages: np.array = np.nansum(matrix, axis=1) / sample_size\n",
    "    averages = averages.reshape(averages.shape[0], 1)\n",
    "    variance: np.array = np.nansum(np.power(matrix - averages, 2), axis=1) / sample_size\n",
    "    variance = variance.reshape(variance.shape[0], 1)\n",
    "    variance[variance == 0] = 1\n",
    "    standard: np.array = np.sqrt(variance)\n",
    "    normalized: np.array = (matrix - averages) / standard\n",
    "    return normalized"
   ]
  },
  {
   "cell_type": "code",
   "execution_count": 5,
   "metadata": {},
   "outputs": [
    {
     "name": "stdout",
     "output_type": "stream",
     "text": [
      "ORIGINAL [[-0.74543419  3.04465272  2.94712605  4.50179878  4.9756789   4.99796398\n",
      "   6.44437317  6.29794195  7.81973145  9.62159549]\n",
      " [19.7699068  24.87791971 33.56888474 39.50447626 46.13023356 55.47876172\n",
      "  59.02872353 65.25585314 74.10346834 79.6624684 ]]\n",
      "NORMALIZED [[-2.10324351 -0.71351066 -0.74927132 -0.17921058 -0.00545024  0.00272116\n",
      "   0.53308429  0.47939151  1.03739478  1.69809458]\n",
      " [-1.54868147 -1.28471183 -0.83558399 -0.52884711 -0.18644416  0.29666495\n",
      "   0.4801183   0.80192115  1.2591443   1.54641985]]\n"
     ]
    },
    {
     "data": {
      "image/png": "[encoded data removed]",
      "text/plain": [
       "<Figure size 432x288 with 4 Axes>"
      ]
     },
     "metadata": {
      "needs_background": "light"
     },
     "output_type": "display_data"
    }
   ],
   "source": [
    "x: np.array = np.vstack([\n",
    "    np.linspace(0, 10, 10) + np.random.normal(0, 1, 10),\n",
    "    20 + np.linspace(0, 60, 10) + np.random.normal(0, 1, 10),\n",
    "])\n",
    "y = get_normalized(x)\n",
    "assert x.shape == y.shape\n",
    "print('ORIGINAL', x)\n",
    "print('NORMALIZED', y)\n",
    "grid = np.arange(x.shape[1])\n",
    "figure: Figure = plt.figure()\n",
    "axes: Axes = figure.add_subplot(2, 2, 1)\n",
    "axes.plot(grid, x[0].flat, 'o', color='blue')\n",
    "axes: Axes = figure.add_subplot(2, 2, 2)\n",
    "axes.plot(grid, y[0].flat, 'o', color='red')\n",
    "axes: Axes = figure.add_subplot(2, 2, 3)\n",
    "axes.plot(grid, x[1].flat, 'o', color='blue')\n",
    "axes: Axes = figure.add_subplot(2, 2, 4)\n",
    "axes.plot(grid, y[1].flat, 'o', color='red')\n",
    "plt.show()"
   ]
  },
  {
   "cell_type": "markdown",
   "metadata": {},
   "source": [
    "## Cosine Similarity"
   ]
  },
  {
   "cell_type": "markdown",
   "metadata": {},
   "source": [
    "- https://en.wikipedia.org/wiki/Cosine_similarity"
   ]
  },
  {
   "cell_type": "markdown",
   "metadata": {},
   "source": [
    "Cosine similarity is a measure of similarity between two non-zero vectors of an inner product space. It is defined to equal the cosine of the angle between them, which is also the same as the inner product of the same vectors normalized to both have length 1."
   ]
  },
  {
   "cell_type": "markdown",
   "metadata": {},
   "source": [
    "$$ cos(X, Y) = \\frac{X \\cdot Y}{ \\left \\Vert X \\right \\| \\cdot \\left \\Vert Y \\right \\| } = = \\frac{ \\sum\\limits^{^n}_{i=1} X_i \\cdot Y_i }{ \\sqrt{\\sum\\limits^{^n}_{i=1} X_i^2} \\cdot \\sqrt{\\sum\\limits^{^n}_{i=1} Y_i^2} } $$"
   ]
  },
  {
   "cell_type": "code",
   "execution_count": 6,
   "metadata": {},
   "outputs": [],
   "source": [
    "def get_cosine(X: np.array, Y: np.array) -> float:\n",
    "    \"\"\"\n",
    "    Cosine Similarity function.\n",
    "    \"\"\"\n",
    "    union: np.array = ~np.isnan(np.sum([X, Y], axis=0))\n",
    "    if np.count_nonzero(union) == 0:\n",
    "        return 0\n",
    "    discount: float = min(MIN_SHARED_RATINGS, np.count_nonzero(union)) / MIN_SHARED_RATINGS\n",
    "    return discount * np.sum(X[union] * Y[union]) / \\\n",
    "        (math.max(0.0000001, np.sqrt(np.sum(np.power(X[union], 2)))) *\\\n",
    "         np.sqrt(np.sum(np.power(Y[union], 2))))"
   ]
  },
  {
   "cell_type": "code",
   "execution_count": 7,
   "metadata": {},
   "outputs": [
    {
     "name": "stdout",
     "output_type": "stream",
     "text": [
      "[ 1. nan  2.  3.  4.  5.  6.  7.  8.  9.] [ 1.  3.  2.  2. nan  8.  9. 10. 11. 12.] 0.9929196160911488\n"
     ]
    },
    {
     "data": {
      "image/png": "[encoded data removed]",
      "text/plain": [
       "<Figure size 432x288 with 1 Axes>"
      ]
     },
     "metadata": {
      "needs_background": "light"
     },
     "output_type": "display_data"
    }
   ],
   "source": [
    "X: np.array = np.array([1, np.nan, 2, 3, 4, 5, 6, 7, 8, 9])\n",
    "Y: np.array = np.array([1, 3, 2, 2, np.nan, 8, 9, 10, 11, 12])\n",
    "print(X, Y, get_cosine(X, Y))\n",
    "figure: Figure = plt.figure()\n",
    "axes: Axes = figure.add_subplot()\n",
    "axes.plot(np.arange(X.shape[0]), X, 'x', color='blue')\n",
    "axes.plot(np.arange(Y.shape[0]), Y, '.', color='red')\n",
    "plt.show()"
   ]
  },
  {
   "cell_type": "code",
   "execution_count": 8,
   "metadata": {},
   "outputs": [
    {
     "name": "stdout",
     "output_type": "stream",
     "text": [
      "[ 1. nan  2.  3.  4.  5.  6.  7.  8.  9.] [ 10.  30.  20.  20.  nan  80.  90. 100. 110. 120.] 0.9929196160911488\n"
     ]
    },
    {
     "data": {
      "image/png": "[encoded data removed]",
      "text/plain": [
       "<Figure size 432x288 with 1 Axes>"
      ]
     },
     "metadata": {
      "needs_background": "light"
     },
     "output_type": "display_data"
    }
   ],
   "source": [
    "X: np.array = np.array([1, np.nan, 2, 3, 4, 5, 6, 7, 8, 9])\n",
    "Y: np.array = np.array([10, 30, 20, 20, np.nan, 80, 90, 100, 110, 120])\n",
    "print(X, Y, get_cosine(X, Y))\n",
    "figure: Figure = plt.figure()\n",
    "axes: Axes = figure.add_subplot()\n",
    "axes.plot(np.arange(X.shape[0]), X, 'x', color='blue')\n",
    "axes.plot(np.arange(Y.shape[0]), Y, '.', color='red')\n",
    "plt.show()"
   ]
  },
  {
   "cell_type": "code",
   "execution_count": 9,
   "metadata": {},
   "outputs": [
    {
     "name": "stdout",
     "output_type": "stream",
     "text": [
      "[ 1. nan  2.  3.  4.  5.  7.  9. 10.] [100.  65.  32.  24.  nan  10.   7.   4.   2.] 0.21975098781417202\n"
     ]
    },
    {
     "data": {
      "image/png": "[encoded data removed]",
      "text/plain": [
       "<Figure size 432x288 with 1 Axes>"
      ]
     },
     "metadata": {
      "needs_background": "light"
     },
     "output_type": "display_data"
    }
   ],
   "source": [
    "X: np.array = np.array([1, np.nan, 2, 3, 4, 5, 7, 9, 10])\n",
    "Y: np.array = np.array([100, 65, 32, 24, np.nan, 10, 7, 4, 2])\n",
    "print(X, Y, get_cosine(X, Y))\n",
    "figure: Figure = plt.figure()\n",
    "axes: Axes = figure.add_subplot()\n",
    "axes.plot(np.arange(X.shape[0]), X, 'x', color='blue')\n",
    "axes.plot(np.arange(Y.shape[0]), Y, 'o', color='red')\n",
    "plt.show()"
   ]
  },
  {
   "cell_type": "markdown",
   "metadata": {},
   "source": [
    "## Similarity Matrix"
   ]
  },
  {
   "cell_type": "code",
   "execution_count": 12,
   "metadata": {},
   "outputs": [],
   "source": [
    "def get_similarity(matrix: np.array) -> np.array:\n",
    "    \"\"\"\n",
    "    Get similarity matrix out of a given matrix.\n",
    "    \"\"\"\n",
    "    correlations: np.array = np.stack([\n",
    "        [\n",
    "            0 if i >= j else get_cosine(x, y)\n",
    "            for j, y in enumerate(matrix)\n",
    "        ]\n",
    "        for i, x in enumerate(matrix)\n",
    "    ])\n",
    "    return correlations + correlations.T"
   ]
  },
  {
   "cell_type": "code",
   "execution_count": 13,
   "metadata": {},
   "outputs": [
    {
     "name": "stdout",
     "output_type": "stream",
     "text": [
      "[[1 2 3]\n",
      " [4 5 6]\n",
      " [7 8 9]]\n",
      "[[0.         0.97463185 0.95941195]\n",
      " [0.97463185 0.         0.99819089]\n",
      " [0.95941195 0.99819089 0.        ]]\n"
     ]
    }
   ],
   "source": [
    "X: np.array = np.array([ [1, 2, 3], [4, 5, 6], [7, 8, 9] ])\n",
    "S: np.array = get_similarity(X)\n",
    "print(X)\n",
    "print(S)"
   ]
  },
  {
   "cell_type": "markdown",
   "metadata": {},
   "source": [
    "## Top K-Similar Rows"
   ]
  },
  {
   "cell_type": "markdown",
   "metadata": {},
   "source": [
    "- https://numpy.org/doc/stable/reference/generated/numpy.argsort.html"
   ]
  },
  {
   "cell_type": "code",
   "execution_count": 33,
   "metadata": {},
   "outputs": [],
   "source": [
    "def get_closest(similar: np.array, k: int = 5) -> np.array:\n",
    "    \"\"\"\n",
    "    Get top k similar rows of a similarity matrix.\n",
    "    \"\"\"\n",
    "    closest: np.array = np.argsort(similar)\n",
    "    return closest[:, closest.shape[1] - k:]"
   ]
  },
  {
   "cell_type": "code",
   "execution_count": 34,
   "metadata": {},
   "outputs": [
    {
     "name": "stdout",
     "output_type": "stream",
     "text": [
      "[[0 2 3 1]\n",
      " [8 0 6 1]\n",
      " [7 6 0 2]\n",
      " [2 3 1 0]]\n",
      "[[1 2]\n",
      " [2 0]\n",
      " [1 0]\n",
      " [0 1]]\n"
     ]
    }
   ],
   "source": [
    "X: np.array = np.array([ [0, 2, 3, 1], [8, 0, 6, 1], [7, 6, 0, 2], [2, 3, 1, 0] ])\n",
    "S: np.array = get_closest(X, 2)\n",
    "print(X)\n",
    "print(S)"
   ]
  },
  {
   "cell_type": "markdown",
   "metadata": {},
   "source": [
    "## User-Based Collaborative Filtering"
   ]
  },
  {
   "cell_type": "markdown",
   "metadata": {},
   "source": [
    "#### User-User Matrix"
   ]
  },
  {
   "cell_type": "code",
   "execution_count": 15,
   "metadata": {},
   "outputs": [
    {
     "name": "stdout",
     "output_type": "stream",
     "text": [
      "[[nan  1.  1.  2.  5. nan nan  0. nan nan  5. nan nan  5. nan]\n",
      " [ 3. nan  0. nan  0.  5. nan  5.  3.  1.  1. nan nan nan  0.]\n",
      " [nan  2.  5.  1. nan nan  1.  0. nan nan nan nan  3. nan nan]\n",
      " [ 1.  0.  2. nan  4. nan  1. nan  3.  0.  5.  0.  5.  2.  3.]\n",
      " [ 2. nan nan nan nan  4. nan nan nan nan  2.  4.  4. nan nan]\n",
      " [ 1. nan  5. nan  3.  3.  1.  5. nan  4.  5.  4. nan nan nan]\n",
      " [nan  0. nan  5. nan nan nan nan  0. nan nan nan  5.  5.  5.]\n",
      " [nan  0.  3. nan  1.  5. nan  0.  1. nan nan nan  1.  2. nan]\n",
      " [nan nan  1. nan nan nan nan  5. nan nan  3.  0. nan  5. nan]\n",
      " [ 3.  0.  2. nan  3. nan nan nan nan  3.  3. nan nan nan  5.]]\n"
     ]
    }
   ],
   "source": [
    "print(ratings)"
   ]
  },
  {
   "cell_type": "markdown",
   "metadata": {},
   "source": [
    "#### User-User Normalized Matrix"
   ]
  },
  {
   "cell_type": "code",
   "execution_count": 16,
   "metadata": {},
   "outputs": [
    {
     "name": "stdout",
     "output_type": "stream",
     "text": [
      "[[        nan -0.83607962 -0.83607962 -0.34836651  1.11477282         nan\n",
      "          nan -1.32379273         nan         nan  1.11477282         nan\n",
      "          nan  1.11477282         nan]\n",
      " [ 0.51449576         nan -1.02899151         nan -1.02899151  1.54348727\n",
      "          nan  1.54348727  0.51449576 -0.51449576 -0.51449576         nan\n",
      "          nan         nan -1.02899151]\n",
      " [        nan  0.          1.83711731 -0.61237244         nan         nan\n",
      "  -0.61237244 -1.22474487         nan         nan         nan         nan\n",
      "   0.61237244         nan         nan]\n",
      " [-0.65850461 -1.22293713 -0.09407209         nan  1.03479296         nan\n",
      "  -0.65850461         nan  0.47036043 -1.22293713  1.59922548 -1.22293713\n",
      "   1.59922548 -0.09407209  0.47036043]\n",
      " [-1.22474487         nan         nan         nan         nan  0.81649658\n",
      "          nan         nan         nan         nan -1.22474487  0.81649658\n",
      "   0.81649658         nan         nan]\n",
      " [-1.6307485          nan  1.03774904         nan -0.29649973 -0.29649973\n",
      "  -1.6307485   1.03774904         nan  0.37062466  1.03774904  0.37062466\n",
      "          nan         nan         nan]\n",
      " [        nan -1.41421356         nan  0.70710678         nan         nan\n",
      "          nan         nan -1.41421356         nan         nan         nan\n",
      "   0.70710678  0.70710678  0.70710678]\n",
      " [        nan -1.03096706  0.87235674         nan -0.39652579  2.14123928\n",
      "          nan -1.03096706 -0.39652579         nan         nan         nan\n",
      "  -0.39652579  0.23791548         nan]\n",
      " [        nan         nan -0.88252261         nan         nan         nan\n",
      "          nan  1.07863874         nan         nan  0.09805807 -1.37281295\n",
      "          nan  1.07863874         nan]\n",
      " [ 0.20628425 -1.95970037 -0.51571062         nan  0.20628425         nan\n",
      "          nan         nan         nan  0.20628425  0.20628425         nan\n",
      "          nan         nan  1.65027399]]\n"
     ]
    }
   ],
   "source": [
    "normalized: np.array = get_normalized(ratings)\n",
    "print(normalized)"
   ]
  },
  {
   "cell_type": "markdown",
   "metadata": {},
   "source": [
    "#### User-User Correlation Matrix"
   ]
  },
  {
   "cell_type": "code",
   "execution_count": 17,
   "metadata": {},
   "outputs": [
    {
     "name": "stdout",
     "output_type": "stream",
     "text": [
      "[[ 0.         -0.59867109  0.07206163  0.76600433 -0.33333333 -0.34960016\n",
      "   0.69310328  0.31590633  0.15852889  0.62697404]\n",
      " [-0.59867109  0.         -0.61538462 -0.3453883   0.38569461 -0.17132302\n",
      "  -0.53333333  0.14715305  0.93790309 -0.41950214]\n",
      " [ 0.07206163 -0.61538462  0.          0.28092546  0.33333333  0.32507714\n",
      "   0.          0.65600487 -0.63746664 -0.1696622 ]\n",
      " [ 0.76600433 -0.3453883   0.28092546  0.         -0.15292535  0.32574785\n",
      "   0.49447745 -0.02100525  0.45983377  0.4728968 ]\n",
      " [-0.33333333  0.38569461  0.33333333 -0.15292535  0.          0.18989741\n",
      "   0.33333333  0.37768588 -0.40838111 -0.66666667]\n",
      " [-0.34960016 -0.17132302  0.32507714  0.32574785  0.18989741  0.\n",
      "   0.         -0.17435115 -0.05661628 -0.43321421]\n",
      " [ 0.69310328 -0.53333333  0.          0.49447745  0.33333333  0.\n",
      "   0.          0.71205164  0.33333333  0.64814909]\n",
      " [ 0.31590633  0.14715305  0.65600487 -0.02100525  0.37768588 -0.17435115\n",
      "   0.71205164  0.         -0.67252654  0.51925873]\n",
      " [ 0.15852889  0.93790309 -0.63746664  0.45983377 -0.40838111 -0.05661628\n",
      "   0.33333333 -0.67252654  0.          0.64254075]\n",
      " [ 0.62697404 -0.41950214 -0.1696622   0.4728968  -0.66666667 -0.43321421\n",
      "   0.64814909  0.51925873  0.64254075  0.        ]]\n"
     ]
    }
   ],
   "source": [
    "similar: np.array = get_similarity(normalized)\n",
    "print(similar)"
   ]
  },
  {
   "cell_type": "markdown",
   "metadata": {},
   "source": [
    "## Memory-Based Collaborative Filtering"
   ]
  },
  {
   "cell_type": "markdown",
   "metadata": {},
   "source": [
    "#### Item-Item Matrix"
   ]
  },
  {
   "cell_type": "code",
   "execution_count": 35,
   "metadata": {},
   "outputs": [
    {
     "name": "stdout",
     "output_type": "stream",
     "text": [
      "[[nan  3. nan  1.  2.  1. nan nan nan  3.]\n",
      " [ 1. nan  2.  0. nan nan  0.  0. nan  0.]\n",
      " [ 1.  0.  5.  2. nan  5. nan  3.  1.  2.]\n",
      " [ 2. nan  1. nan nan nan  5. nan nan nan]\n",
      " [ 5.  0. nan  4. nan  3. nan  1. nan  3.]\n",
      " [nan  5. nan nan  4.  3. nan  5. nan nan]\n",
      " [nan nan  1.  1. nan  1. nan nan nan nan]\n",
      " [ 0.  5.  0. nan nan  5. nan  0.  5. nan]\n",
      " [nan  3. nan  3. nan nan  0.  1. nan nan]\n",
      " [nan  1. nan  0. nan  4. nan nan nan  3.]\n",
      " [ 5.  1. nan  5.  2.  5. nan nan  3.  3.]\n",
      " [nan nan nan  0.  4.  4. nan nan  0. nan]\n",
      " [nan nan  3.  5.  4. nan  5.  1. nan nan]\n",
      " [ 5. nan nan  2. nan nan  5.  2.  5. nan]\n",
      " [nan  0. nan  3. nan nan  5. nan nan  5.]]\n"
     ]
    }
   ],
   "source": [
    "print(ratings.T)"
   ]
  },
  {
   "cell_type": "markdown",
   "metadata": {},
   "source": [
    "#### Item-Item Normalized Matrix"
   ]
  },
  {
   "cell_type": "code",
   "execution_count": 38,
   "metadata": {},
   "outputs": [
    {
     "name": "stdout",
     "output_type": "stream",
     "text": [
      "[[        nan  1.11803399         nan -1.11803399  0.         -1.11803399\n",
      "          nan         nan         nan  1.11803399]\n",
      " [ 0.65465367         nan  1.96396101 -0.65465367         nan         nan\n",
      "  -0.65465367 -0.65465367         nan -0.65465367]\n",
      " [-0.79593207 -1.37479175  1.51950667 -0.21707238         nan  1.51950667\n",
      "          nan  0.3617873  -0.79593207 -0.21707238]\n",
      " [-0.39223227         nan -0.98058068         nan         nan         nan\n",
      "   1.37281295         nan         nan         nan]\n",
      " [ 1.37281295 -1.56892908         nan  0.78446454         nan  0.19611614\n",
      "          nan -0.98058068         nan  0.19611614]\n",
      " [        nan  0.90453403         nan         nan -0.30151134 -1.50755672\n",
      "          nan  0.90453403         nan         nan]\n",
      " [        nan         nan  0.          0.                 nan  0.\n",
      "          nan         nan         nan         nan]\n",
      " [-1.          1.         -1.                 nan         nan  1.\n",
      "          nan -1.          1.                 nan]\n",
      " [        nan  0.96225045         nan  0.96225045         nan         nan\n",
      "  -1.34715063 -0.57735027         nan         nan]\n",
      " [        nan -0.63245553         nan -1.26491106         nan  1.26491106\n",
      "          nan         nan         nan  0.63245553]\n",
      " [ 1.04880885 -1.6208864          nan  1.04880885 -0.95346259  1.04880885\n",
      "          nan         nan -0.28603878 -0.28603878]\n",
      " [        nan         nan         nan -1.          1.          1.\n",
      "          nan         nan -1.                 nan]\n",
      " [        nan         nan -0.40089186  0.93541435  0.26726124         nan\n",
      "   0.93541435 -1.73719807         nan         nan]\n",
      " [ 0.81649658         nan         nan -1.22474487         nan         nan\n",
      "   0.81649658 -1.22474487  0.81649658         nan]\n",
      " [        nan -1.58820278         nan -0.12216944         nan         nan\n",
      "   0.85518611         nan         nan  0.85518611]]\n"
     ]
    }
   ],
   "source": [
    "normalized: np.array = get_normalized(ratings.T)\n",
    "print(normalized)"
   ]
  },
  {
   "cell_type": "markdown",
   "metadata": {},
   "source": [
    "#### Item-Item Correlation Matrix"
   ]
  },
  {
   "cell_type": "code",
   "execution_count": 55,
   "metadata": {},
   "outputs": [
    {
     "name": "stdout",
     "output_type": "stream",
     "text": [
      "[nan nan  0.  0. nan  0. nan nan nan nan]\n",
      "111 2 [False False  True False False  True False False False False] 0.0\n",
      "[nan nan  0.  0. nan  0. nan nan nan nan]\n",
      "111 1 [False False False  True False False False False False False] 0.0\n",
      "[nan nan  0.  0. nan  0. nan nan nan nan]\n",
      "111 2 [False False False  True False  True False False False False] 0.0\n",
      "[nan nan  0.  0. nan  0. nan nan nan nan]\n",
      "111 2 [False False False  True False  True False False False False] 0.0\n",
      "[nan nan  0.  0. nan  0. nan nan nan nan]\n",
      "111 2 [False False False  True False  True False False False False] 0.0\n",
      "[nan nan  0.  0. nan  0. nan nan nan nan]\n",
      "111 2 [False False  True  True False False False False False False] 0.0\n",
      "[nan nan  0.  0. nan  0. nan nan nan nan]\n",
      "111 1 [False False False  True False False False False False False] 0.0\n",
      "[nan nan  0.  0. nan  0. nan nan nan nan]\n",
      "111 1 [False False False  True False False False False False False] 0.0\n",
      "[[ 0.          0.         -0.6984303   0.         -0.66258916  0.95618289\n",
      "   0.          0.          0.          0.         -0.83009789  0.\n",
      "  -0.64101597  0.33333333 -0.19506858]\n",
      " [ 0.          0.          0.5976219  -0.81934649  0.36689969 -0.33333333\n",
      "   0.         -0.52223297  0.31686213  0.21081851  0.10932608  0.33333333\n",
      "  -0.17376201  0.58834841 -0.75433651]\n",
      " [-0.6984303   0.5976219   0.         -0.43343071  0.14425709 -0.77952555\n",
      "   0.         -0.25214313 -0.81881438  0.70676177  0.52398953  0.84564749\n",
      "  -0.45376034 -0.59024021  0.79486582]\n",
      " [ 0.         -0.81934649 -0.43343071  0.         -0.33333333  0.\n",
      "   0.          0.61276335 -0.33333333  0.         -0.33333333  0.\n",
      "   0.65126668  0.32376195  0.33333333]\n",
      " [-0.66258916  0.36689969  0.14425709 -0.33333333  0.         -0.70728947\n",
      "   0.         -0.38168502 -0.06352568  0.10476454  0.90055345 -0.34299717\n",
      "   0.65580015  0.38204659  0.80337666]\n",
      " [ 0.95618289 -0.33333333 -0.77952555  0.         -0.70728947  0.\n",
      "   0.         -0.44022545  0.16169042 -0.66470299 -0.71854194 -0.5547002\n",
      "  -0.65715762 -0.33333333 -0.33333333]\n",
      " [ 0.          0.          0.          0.          0.          0.\n",
      "   0.          0.          0.          0.          0.          0.\n",
      "   0.          0.          0.        ]\n",
      " [ 0.         -0.52223297 -0.25214313  0.61276335 -0.38168502 -0.44022545\n",
      "   0.          0.          0.64676167  0.21081851 -0.43033148  0.\n",
      "   0.5653322   0.42008403 -0.33333333]\n",
      " [ 0.          0.31686213 -0.81881438 -0.33333333 -0.06352568  0.16169042\n",
      "   0.          0.64676167  0.         -0.63245553 -0.13968606 -0.33333333\n",
      "   0.16793659 -0.46803638 -0.80817853]\n",
      " [ 0.          0.21081851  0.70676177  0.          0.10476454 -0.66470299\n",
      "   0.          0.21081851 -0.63245553  0.          0.19051587  0.66666667\n",
      "  -0.33333333  0.33333333  0.60691098]\n",
      " [-0.83009789  0.10932608  0.52398953 -0.33333333  0.90055345 -0.71854194\n",
      "   0.         -0.43033148 -0.13968606  0.19051587  0.         -0.18681618\n",
      "   0.35111511 -0.26024812  0.6239255 ]\n",
      " [ 0.          0.33333333  0.84564749  0.         -0.34299717 -0.5547002\n",
      "   0.          0.         -0.33333333  0.66666667 -0.18681618  0.\n",
      "  -0.32376195  0.13074409  0.33333333]\n",
      " [-0.64101597 -0.17376201 -0.45376034  0.65126668  0.65580015 -0.65715762\n",
      "   0.          0.5653322   0.16793659 -0.33333333  0.35111511 -0.32376195\n",
      "   0.          0.4175255   0.4       ]\n",
      " [ 0.33333333  0.58834841 -0.59024021  0.32376195  0.38204659 -0.33333333\n",
      "   0.          0.42008403 -0.46803638  0.33333333 -0.26024812  0.13074409\n",
      "   0.4175255   0.          0.44452991]\n",
      " [-0.19506858 -0.75433651  0.79486582  0.33333333  0.80337666 -0.33333333\n",
      "   0.         -0.33333333 -0.80817853  0.60691098  0.6239255   0.33333333\n",
      "   0.4         0.44452991  0.        ]]\n"
     ]
    }
   ],
   "source": [
    "similar: np.array = get_similarity(normalized)\n",
    "print(similar)"
   ]
  },
  {
   "cell_type": "code",
   "execution_count": null,
   "metadata": {},
   "outputs": [],
   "source": []
  }
 ],
 "metadata": {
  "kernelspec": {
   "display_name": "Python 3",
   "language": "python",
   "name": "python3"
  },
  "language_info": {
   "codemirror_mode": {
    "name": "ipython",
    "version": 3
   },
   "file_extension": ".py",
   "mimetype": "text/x-python",
   "name": "python",
   "nbconvert_exporter": "python",
   "pygments_lexer": "ipython3",
   "version": "3.8.3"
  }
 },
 "nbformat": 4,
 "nbformat_minor": 4
}
