{
 "cells": [
  {
   "cell_type": "markdown",
   "metadata": {},
   "source": [
    "# Memory Based Collaborative Filtering"
   ]
  },
  {
   "cell_type": "code",
   "execution_count": 228,
   "metadata": {},
   "outputs": [],
   "source": [
    "import numpy as np\n",
    "\n",
    "import matplotlib.pyplot as plt\n",
    "from matplotlib.figure import Figure\n",
    "from matplotlib.axes import Axes"
   ]
  },
  {
   "cell_type": "markdown",
   "metadata": {},
   "source": [
    "## User-Rating Matrix"
   ]
  },
  {
   "cell_type": "markdown",
   "metadata": {},
   "source": [
    "The ratings matrix is denoted by `R` and it is an `m` by `n` matrix containing `m` users and `n` items. The rating of user `u1` for item `i3` is denoted by `r13`."
   ]
  },
  {
   "cell_type": "markdown",
   "metadata": {},
   "source": [
    "$$ U = \\{ u_1, u_2 ... u_m \\} \\land |U| = m $$"
   ]
  },
  {
   "cell_type": "markdown",
   "metadata": {},
   "source": [
    "$$ I = \\{ i_1, i_2 ... i_n \\} \\land |I| = n $$"
   ]
  },
  {
   "cell_type": "markdown",
   "metadata": {},
   "source": [
    "$$ R = \\{ r_{1,1}, r_{1,2} ... r_{2,1}, r_{2,2} ... r_{m,n} \\} \\land |R| = m \\times n $$"
   ]
  },
  {
   "cell_type": "code",
   "execution_count": 219,
   "metadata": {},
   "outputs": [],
   "source": [
    "USERS: int = 10\n",
    "ITEMS: int = 15\n",
    "\n",
    "MIN_RATING: int = 0\n",
    "MAX_RATING: int = 5\n",
    "    \n",
    "MIN_SHARED_RATINGS: int = 3"
   ]
  },
  {
   "cell_type": "code",
   "execution_count": 169,
   "metadata": {},
   "outputs": [
    {
     "name": "stdout",
     "output_type": "stream",
     "text": [
      "[[ 2. nan nan nan nan  1. nan nan nan nan  5.  0. nan nan  3.]\n",
      " [nan  3. nan  0.  3.  5. nan nan  4. nan nan  0.  4. nan  5.]\n",
      " [nan  3. nan nan nan nan nan nan  0.  4. nan  4.  1. nan  4.]\n",
      " [nan nan nan  2. nan nan  3. nan nan  2. nan  0. nan nan  5.]\n",
      " [ 0.  4.  3. nan nan nan  4. nan nan nan nan  1.  2. nan  4.]\n",
      " [ 2. nan  1.  0. nan  1. nan  5.  1. nan nan nan  5. nan  4.]\n",
      " [nan nan nan nan nan nan nan nan  5. nan  1. nan nan  5.  1.]\n",
      " [nan nan  2. nan  5. nan  1. nan nan nan nan nan nan nan nan]\n",
      " [nan nan  3. nan nan nan nan nan  3. nan  5. nan nan nan  4.]\n",
      " [nan nan  1. nan  5.  0.  5.  5. nan  4.  0. nan nan nan nan]]\n"
     ]
    }
   ],
   "source": [
    "ratings: np.matrix = MAX_RATING * np.random.randn(USERS, ITEMS)\n",
    "ratings[ratings < MIN_RATING] = np.nan\n",
    "ratings[ratings > MAX_RATING] = MAX_RATING\n",
    "ratings = np.floor(ratings)\n",
    "print(ratings)"
   ]
  },
  {
   "cell_type": "markdown",
   "metadata": {},
   "source": [
    "## Normalization"
   ]
  },
  {
   "cell_type": "markdown",
   "metadata": {},
   "source": [
    "- https://en.wikipedia.org/wiki/Normalization_(statistics)"
   ]
  },
  {
   "cell_type": "markdown",
   "metadata": {},
   "source": [
    "In statistics and applications of statistics, normalization can have a range of meanings. In the simplest cases, normalization of ratings means adjusting values measured on different scales to a notionally common scale, often prior to averaging."
   ]
  },
  {
   "cell_type": "markdown",
   "metadata": {},
   "source": [
    "$$ \\bar{\\mu} = \\frac{\\sum\\limits^{^n}_{i=1} x_i}{n}\t $$"
   ]
  },
  {
   "cell_type": "markdown",
   "metadata": {},
   "source": [
    "$$ σ^2 = \\frac{\\sum\\limits^{^n}_{i=1} (x_i - \\bar{\\mu})^2}{n}\t $$"
   ]
  },
  {
   "cell_type": "markdown",
   "metadata": {},
   "source": [
    "$$ z = \\frac{x_i - \\bar{\\mu}}{σ}\t $$"
   ]
  },
  {
   "cell_type": "code",
   "execution_count": 215,
   "metadata": {},
   "outputs": [],
   "source": [
    "def normalize(matrix: np.matrix) -> np.matrix:\n",
    "    \"\"\"\n",
    "    Normalization Function.\n",
    "    Returns z-score of each element in the input matrix.\n",
    "    \"\"\"    \n",
    "    sample_size: np.array = np.sum(~np.isnan(matrix), axis=1)\n",
    "    sample_size[sample_size == 0] = 1    \n",
    "    averages: np.array = np.nansum(matrix, axis=1) / sample_size\n",
    "    averages = averages.reshape(averages.shape[0], 1)\n",
    "    variance: np.matrix = np.nansum(np.power(matrix - averages, 2), axis=1) / sample_size\n",
    "    variance = variance.reshape(variance.shape[0], 1)\n",
    "    variance[variance == 0] = 1\n",
    "    standard: np.matrix = np.sqrt(variance)\n",
    "    normalized: np.matrix = (matrix - averages) / standard\n",
    "    return normalized"
   ]
  },
  {
   "cell_type": "code",
   "execution_count": 216,
   "metadata": {},
   "outputs": [
    {
     "name": "stdout",
     "output_type": "stream",
     "text": [
      "ORIGINAL [[ 1.10129357  1.5467288   0.85969813  5.71713517  4.94698707  7.1068701\n",
      "   6.17702896  8.93483263  8.6862052   9.89655217]\n",
      " [20.90318138 26.79164596 32.7118289  40.32557424 45.21620457 53.7983873\n",
      "  59.91340375 66.77808721 73.51682646 80.33669763]]\n",
      "NORMALIZED [[-1.38200392 -1.24197033 -1.45795543  0.0691002  -0.17301493  0.50599779\n",
      "   0.2136792   1.08066308  1.00250089  1.38300344]\n",
      " [-1.52074456 -1.21329247 -0.90418427 -0.50665077 -0.2512982   0.19679995\n",
      "   0.51608091  0.87450394  1.2263511   1.58243436]]\n"
     ]
    },
    {
     "data": {
      "image/png": "[encoded data removed]",
      "text/plain": [
       "<Figure size 432x288 with 4 Axes>"
      ]
     },
     "metadata": {
      "needs_background": "light"
     },
     "output_type": "display_data"
    }
   ],
   "source": [
    "x: np.matrix = np.vstack([\n",
    "    np.linspace(0, 10, 10) + np.random.normal(0, 1, 10),\n",
    "    20 + np.linspace(0, 60, 10) + np.random.normal(0, 1, 10),\n",
    "])\n",
    "y = normalize(x)\n",
    "assert x.shape == y.shape\n",
    "print('ORIGINAL', x)\n",
    "print('NORMALIZED', y)\n",
    "grid = np.arange(x.shape[1])\n",
    "figure: Figure = plt.figure()\n",
    "axes: Axes = figure.add_subplot(2, 2, 1)\n",
    "axes.plot(grid, x[0].flat, 'o', color='blue')\n",
    "axes: Axes = figure.add_subplot(2, 2, 2)\n",
    "axes.plot(grid, y[0].flat, 'o', color='red')\n",
    "axes: Axes = figure.add_subplot(2, 2, 3)\n",
    "axes.plot(grid, x[1].flat, 'o', color='blue')\n",
    "axes: Axes = figure.add_subplot(2, 2, 4)\n",
    "axes.plot(grid, y[1].flat, 'o', color='red')\n",
    "plt.show()"
   ]
  },
  {
   "cell_type": "markdown",
   "metadata": {},
   "source": [
    "## Cosine Similarity"
   ]
  },
  {
   "cell_type": "markdown",
   "metadata": {},
   "source": [
    "- https://en.wikipedia.org/wiki/Cosine_similarity"
   ]
  },
  {
   "cell_type": "markdown",
   "metadata": {},
   "source": [
    "Cosine similarity is a measure of similarity between two non-zero vectors of an inner product space. It is defined to equal the cosine of the angle between them, which is also the same as the inner product of the same vectors normalized to both have length 1."
   ]
  },
  {
   "cell_type": "markdown",
   "metadata": {},
   "source": [
    "$$ cos(X, Y) = \\frac{X \\cdot Y}{ \\left \\Vert X \\right \\| \\cdot \\left \\Vert Y \\right \\| } = = \\frac{ \\sum\\limits^{^n}_{i=1} X_i \\cdot Y_i }{ \\sqrt{\\sum\\limits^{^n}_{i=1} X_i^2} \\cdot \\sqrt{\\sum\\limits^{^n}_{i=1} Y_i^2} } $$"
   ]
  },
  {
   "cell_type": "code",
   "execution_count": 237,
   "metadata": {},
   "outputs": [],
   "source": [
    "def cosine(X: np.array, Y: np.array) -> float:\n",
    "    \"\"\"\n",
    "    Cosine Similarity function.\n",
    "    \"\"\"\n",
    "    union: np.array = ~np.isnan(np.sum([X, Y], axis=0))\n",
    "    if np.count_nonzero(union) == 0:\n",
    "        return 0\n",
    "    discount: float = min(MIN_SHARED_RATINGS, np.count_nonzero(union)) / MIN_SHARED_RATINGS\n",
    "    return discount * np.sum(X[union] * Y[union]) / \\\n",
    "        (np.sqrt(np.sum(np.power(X[union], 2))) * np.sqrt(np.sum(np.power(Y[union], 2))))"
   ]
  },
  {
   "cell_type": "code",
   "execution_count": 265,
   "metadata": {},
   "outputs": [
    {
     "name": "stdout",
     "output_type": "stream",
     "text": [
      "[ 1. nan  2.  3.  4.  5.  6.  7.  8.  9.] [ 1.  3.  2.  2. nan  8.  9. 10. 11. 12.] 0.9929196160911488\n"
     ]
    },
    {
     "data": {
      "image/png": "[encoded data removed]",
      "text/plain": [
       "<Figure size 432x288 with 1 Axes>"
      ]
     },
     "metadata": {
      "needs_background": "light"
     },
     "output_type": "display_data"
    }
   ],
   "source": [
    "X: np.array = np.array([1, np.nan, 2, 3, 4, 5, 6, 7, 8, 9])\n",
    "Y: np.array = np.array([1, 3, 2, 2, np.nan, 8, 9, 10, 11, 12])\n",
    "print(X, Y, cosine(X, Y))\n",
    "figure: Figure = plt.figure()\n",
    "axes: Axes = figure.add_subplot()\n",
    "axes.plot(np.arange(X.shape[0]), X, 'x', color='blue')\n",
    "axes.plot(np.arange(Y.shape[0]), Y, '.', color='red')\n",
    "plt.show()"
   ]
  },
  {
   "cell_type": "code",
   "execution_count": 267,
   "metadata": {},
   "outputs": [
    {
     "name": "stdout",
     "output_type": "stream",
     "text": [
      "[ 1. nan  2.  3.  4.  5.  6.  7.  8.  9.] [ 10.  30.  20.  20.  nan  80.  90. 100. 110. 120.] 0.9929196160911488\n"
     ]
    },
    {
     "data": {
      "image/png": "[encoded data removed]",
      "text/plain": [
       "<Figure size 432x288 with 1 Axes>"
      ]
     },
     "metadata": {
      "needs_background": "light"
     },
     "output_type": "display_data"
    }
   ],
   "source": [
    "X: np.array = np.array([1, np.nan, 2, 3, 4, 5, 6, 7, 8, 9])\n",
    "Y: np.array = np.array([10, 30, 20, 20, np.nan, 80, 90, 100, 110, 120])\n",
    "print(X, Y, cosine(X, Y))\n",
    "figure: Figure = plt.figure()\n",
    "axes: Axes = figure.add_subplot()\n",
    "axes.plot(np.arange(X.shape[0]), X, 'x', color='blue')\n",
    "axes.plot(np.arange(Y.shape[0]), Y, '.', color='red')\n",
    "plt.show()"
   ]
  },
  {
   "cell_type": "code",
   "execution_count": 264,
   "metadata": {},
   "outputs": [
    {
     "name": "stdout",
     "output_type": "stream",
     "text": [
      "[ 1. nan  2.  3.  4.  5.  7.  9. 10.] [100.  65.  32.  24.  nan  10.   7.   4.   2.] 0.21975098781417202\n"
     ]
    },
    {
     "data": {
      "image/png": "[encoded data removed]",
      "text/plain": [
       "<Figure size 432x288 with 1 Axes>"
      ]
     },
     "metadata": {
      "needs_background": "light"
     },
     "output_type": "display_data"
    }
   ],
   "source": [
    "X: np.array = np.array([1, np.nan, 2, 3, 4, 5, 7, 9, 10])\n",
    "Y: np.array = np.array([100, 65, 32, 24, np.nan, 10, 7, 4, 2])\n",
    "print(X, Y, cosine(X, Y))\n",
    "figure: Figure = plt.figure()\n",
    "axes: Axes = figure.add_subplot()\n",
    "axes.plot(np.arange(X.shape[0]), X, 'x', color='blue')\n",
    "axes.plot(np.arange(Y.shape[0]), Y, 'o', color='red')\n",
    "plt.show()"
   ]
  },
  {
   "cell_type": "code",
   "execution_count": 268,
   "metadata": {},
   "outputs": [
    {
     "name": "stdout",
     "output_type": "stream",
     "text": [
      "[[1 2 3]\n",
      " [4 5 6]\n",
      " [7 8 9]]\n",
      "[[1 2 3]\n",
      " [4 5 6]\n",
      " [7 8 9]]\n"
     ]
    }
   ],
   "source": [
    "def similarity(matrix: np.matrix) -> np.matrix:\n",
    "    \"\"\"\n",
    "    Get similarity matrix out of a given matrix.\n",
    "    \"\"\"\n",
    "    return matrix\n",
    "\n",
    "\n",
    "X = np.matrix([ [1,2,3], [4, 5, 6], [7,8,9] ])\n",
    "S = similarity(X)\n",
    "print(X)\n",
    "print(S)"
   ]
  },
  {
   "cell_type": "markdown",
   "metadata": {},
   "source": [
    "## User-Based Collaborative Filtering"
   ]
  },
  {
   "cell_type": "code",
   "execution_count": null,
   "metadata": {},
   "outputs": [],
   "source": []
  },
  {
   "cell_type": "code",
   "execution_count": 170,
   "metadata": {},
   "outputs": [
    {
     "name": "stdout",
     "output_type": "stream",
     "text": [
      "USER-USER MATRIX [[ 2. nan nan nan nan  1. nan nan nan nan  5.  0. nan nan  3.]\n",
      " [nan  3. nan  0.  3.  5. nan nan  4. nan nan  0.  4. nan  5.]\n",
      " [nan  3. nan nan nan nan nan nan  0.  4. nan  4.  1. nan  4.]\n",
      " [nan nan nan  2. nan nan  3. nan nan  2. nan  0. nan nan  5.]\n",
      " [ 0.  4.  3. nan nan nan  4. nan nan nan nan  1.  2. nan  4.]\n",
      " [ 2. nan  1.  0. nan  1. nan  5.  1. nan nan nan  5. nan  4.]\n",
      " [nan nan nan nan nan nan nan nan  5. nan  1. nan nan  5.  1.]\n",
      " [nan nan  2. nan  5. nan  1. nan nan nan nan nan nan nan nan]\n",
      " [nan nan  3. nan nan nan nan nan  3. nan  5. nan nan nan  4.]\n",
      " [nan nan  1. nan  5.  0.  5.  5. nan  4.  0. nan nan nan nan]]\n",
      "USER-USER NORMALIZED MATRIX [[-0.11624764         nan         nan         nan         nan -0.69748583\n",
      "          nan         nan         nan         nan  1.62746694 -1.27872403\n",
      "          nan         nan  0.46499055]\n",
      " [        nan  0.                 nan -1.60356745  0.          1.06904497\n",
      "          nan         nan  0.53452248         nan         nan -1.60356745\n",
      "   0.53452248         nan  1.06904497]\n",
      " [        nan  0.20851441         nan         nan         nan         nan\n",
      "          nan         nan -1.66811531  0.83405766         nan  0.83405766\n",
      "  -1.04257207         nan  0.83405766]\n",
      " [        nan         nan         nan -0.24618298         nan         nan\n",
      "   0.36927447         nan         nan -0.24618298         nan -1.47709789\n",
      "          nan         nan  1.60018938]\n",
      " [-1.71623266  0.95346259  0.28603878         nan         nan         nan\n",
      "   0.95346259         nan         nan         nan         nan -1.04880885\n",
      "  -0.38138504         nan  0.95346259]\n",
      " [-0.20089486         nan -0.73661448 -1.27233411         nan -0.73661448\n",
      "          nan  1.40626401 -0.73661448         nan         nan         nan\n",
      "   1.40626401         nan  0.87054439]\n",
      " [        nan         nan         nan         nan         nan         nan\n",
      "          nan         nan  1.                 nan -1.                 nan\n",
      "          nan  1.         -1.        ]\n",
      " [        nan         nan -0.39223227         nan  1.37281295         nan\n",
      "  -0.98058068         nan         nan         nan         nan         nan\n",
      "          nan         nan         nan]\n",
      " [        nan         nan -0.90453403         nan         nan         nan\n",
      "          nan         nan -0.90453403         nan  1.50755672         nan\n",
      "          nan         nan  0.30151134]\n",
      " [        nan         nan -0.83223972         nan  0.9602766  -1.2803688\n",
      "   0.9602766   0.9602766          nan  0.51214752 -1.2803688          nan\n",
      "          nan         nan         nan]]\n"
     ]
    }
   ],
   "source": [
    "print('USER-USER MATRIX', ratings)\n",
    "normalized: np.matrix = normalize(ratings)\n",
    "print('USER-USER NORMALIZED MATRIX', normalized)"
   ]
  },
  {
   "cell_type": "code",
   "execution_count": 81,
   "metadata": {},
   "outputs": [
    {
     "name": "stdout",
     "output_type": "stream",
     "text": [
      "INPUT [[nan  5.  3. nan nan  0.]\n",
      " [ 5. nan  5. nan nan nan]\n",
      " [nan nan nan nan  1.  1.]\n",
      " [nan nan nan  3.  1. nan]\n",
      " [nan nan nan  2.  0.  0.]]\n",
      "SIZE [3 2 2 2 3]\n",
      "AVERAGE [[2.66666667]\n",
      " [5.        ]\n",
      " [1.        ]\n",
      " [2.        ]\n",
      " [0.66666667]]\n",
      "VARIANCE [[4.22222222]\n",
      " [1.        ]\n",
      " [1.        ]\n",
      " [1.        ]\n",
      " [0.88888889]]\n",
      "ADJUSTED [[        nan  4.36842105  2.36842105         nan         nan -0.63157895]\n",
      " [ 0.                 nan  0.                 nan         nan         nan]\n",
      " [        nan         nan         nan         nan  0.          0.        ]\n",
      " [        nan         nan         nan  1.         -1.                 nan]\n",
      " [        nan         nan         nan  1.25       -0.75       -0.75      ]]\n",
      "[[nan  5.  3. nan nan  0.]\n",
      " [ 5. nan  5. nan nan nan]\n",
      " [nan nan nan nan  1.  1.]\n",
      " [nan nan nan  3.  1. nan]\n",
      " [nan nan nan  2.  0.  0.]]\n"
     ]
    }
   ],
   "source": [
    "def collaborative_filtering(ratings: np.matrix) -> np.matrix:\n",
    "    \"\"\"\n",
    "    Collaborative Filtering method.\n",
    "    \"\"\"\n",
    "    \n",
    "    # Start of Collaborative Filtering.\n",
    "    print('INPUT', ratings)\n",
    "    \n",
    "    # Row sample size\n",
    "    sample_size: np.array = np.sum(~np.isnan(ratings), axis=1)\n",
    "    sample_size[sample_size == 0] = 1\n",
    "    print('SIZE', sample_size)\n",
    "    \n",
    "    # Row Average\n",
    "    averages: np.array = np.nansum(ratings, axis=1) / sample_size\n",
    "    averages = averages.reshape(averages.shape[0], 1)\n",
    "    print('AVERAGE', averages)\n",
    "\n",
    "    # Row Variance\n",
    "    variance: np.matrix = np.nansum(np.power(ratings - averages, 2), axis=1) / sample_size\n",
    "    variance = variance.reshape(variance.shape[0], 1)\n",
    "    variance[variance == 0] = 1\n",
    "    print('VARIANCE', variance)\n",
    "    \n",
    "    # Mean Average Ratings\n",
    "    adjusted_ratings: np.matrix = ratings - averages / variance\n",
    "    print('ADJUSTED', adjusted_ratings)\n",
    "    \n",
    "    # End of Collaborative Filtering\n",
    "    # print('OUTPUT', ratings)\n",
    "    return ratings\n",
    "\n",
    "collaborative_filtering(RATINGS)\n",
    "print(RATINGS)"
   ]
  },
  {
   "cell_type": "markdown",
   "metadata": {},
   "source": [
    "## Memory-Based Collaborative Filtering"
   ]
  },
  {
   "cell_type": "code",
   "execution_count": null,
   "metadata": {},
   "outputs": [],
   "source": []
  },
  {
   "cell_type": "code",
   "execution_count": null,
   "metadata": {},
   "outputs": [],
   "source": []
  }
 ],
 "metadata": {
  "kernelspec": {
   "display_name": "Python 3",
   "language": "python",
   "name": "python3"
  },
  "language_info": {
   "codemirror_mode": {
    "name": "ipython",
    "version": 3
   },
   "file_extension": ".py",
   "mimetype": "text/x-python",
   "name": "python",
   "nbconvert_exporter": "python",
   "pygments_lexer": "ipython3",
   "version": "3.8.3"
  }
 },
 "nbformat": 4,
 "nbformat_minor": 4
}
