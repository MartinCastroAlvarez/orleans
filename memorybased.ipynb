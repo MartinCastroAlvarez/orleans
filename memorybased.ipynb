{
 "cells": [
  {
   "cell_type": "markdown",
   "metadata": {},
   "source": [
    "# Memory Based Collaborative Filtering"
   ]
  },
  {
   "cell_type": "code",
   "execution_count": 1,
   "metadata": {},
   "outputs": [],
   "source": [
    "import numpy as np\n",
    "\n",
    "import matplotlib.pyplot as plt\n",
    "from matplotlib.figure import Figure\n",
    "from matplotlib.axes import Axes"
   ]
  },
  {
   "cell_type": "markdown",
   "metadata": {},
   "source": [
    "## User-Rating Matrix"
   ]
  },
  {
   "cell_type": "markdown",
   "metadata": {},
   "source": [
    "The ratings matrix is denoted by `R` and it is an `m` by `n` matrix containing `m` users and `n` items. The rating of user `u1` for item `i3` is denoted by `r13`."
   ]
  },
  {
   "cell_type": "markdown",
   "metadata": {},
   "source": [
    "$$ U = \\{ u_1, u_2 ... u_m \\} \\land |U| = m $$"
   ]
  },
  {
   "cell_type": "markdown",
   "metadata": {},
   "source": [
    "$$ I = \\{ i_1, i_2 ... i_n \\} \\land |I| = n $$"
   ]
  },
  {
   "cell_type": "markdown",
   "metadata": {},
   "source": [
    "$$ R = \\{ r_{1,1}, r_{1,2} ... r_{2,1}, r_{2,2} ... r_{m,n} \\} \\land |R| = m \\times n $$"
   ]
  },
  {
   "cell_type": "code",
   "execution_count": 2,
   "metadata": {},
   "outputs": [],
   "source": [
    "USERS: int = 10\n",
    "ITEMS: int = 15\n",
    "\n",
    "MIN_RATING: int = 0\n",
    "MAX_RATING: int = 5\n",
    "    \n",
    "MIN_SHARED_RATINGS: int = 3"
   ]
  },
  {
   "cell_type": "code",
   "execution_count": 3,
   "metadata": {},
   "outputs": [
    {
     "name": "stdout",
     "output_type": "stream",
     "text": [
      "[[ 0. nan nan nan  0.  2. nan  5.  2. nan  5. nan  0.  5.  5.]\n",
      " [ 0.  2.  1.  0. nan nan  4.  5. nan  5. nan nan nan  1. nan]\n",
      " [ 2. nan  4. nan nan  3. nan  5. nan nan  0. nan nan nan  5.]\n",
      " [nan nan  3. nan  0.  2. nan nan  0. nan  5. nan nan nan  2.]\n",
      " [nan  5. nan  2.  3. nan nan nan nan nan nan nan  0. nan  1.]\n",
      " [nan nan nan nan  0.  0. nan  1. nan  2.  1.  0. nan nan nan]\n",
      " [nan nan nan  5. nan  1.  4. nan  0.  2. nan nan  4. nan nan]\n",
      " [nan nan  3.  2.  2.  0. nan nan  1.  5.  3. nan  0.  2.  3.]\n",
      " [nan  3.  0.  5. nan nan  3. nan nan  2.  1. nan  5.  5. nan]\n",
      " [ 3.  1. nan nan nan nan  3. nan  5.  5. nan  1.  1.  2.  3.]]\n"
     ]
    }
   ],
   "source": [
    "ratings: np.array = MAX_RATING * np.random.randn(USERS, ITEMS)\n",
    "ratings[ratings < MIN_RATING] = np.nan\n",
    "ratings[ratings > MAX_RATING] = MAX_RATING\n",
    "ratings = np.floor(ratings)\n",
    "print(ratings)"
   ]
  },
  {
   "cell_type": "markdown",
   "metadata": {},
   "source": [
    "## Normalization"
   ]
  },
  {
   "cell_type": "markdown",
   "metadata": {},
   "source": [
    "- https://en.wikipedia.org/wiki/Normalization_(statistics)"
   ]
  },
  {
   "cell_type": "markdown",
   "metadata": {},
   "source": [
    "In statistics and applications of statistics, normalization can have a range of meanings. In the simplest cases, normalization of ratings means adjusting values measured on different scales to a notionally common scale, often prior to averaging."
   ]
  },
  {
   "cell_type": "markdown",
   "metadata": {},
   "source": [
    "$$ \\bar{\\mu} = \\frac{\\sum\\limits^{^n}_{i=1} x_i}{n}\t $$"
   ]
  },
  {
   "cell_type": "markdown",
   "metadata": {},
   "source": [
    "$$ σ^2 = \\frac{\\sum\\limits^{^n}_{i=1} (x_i - \\bar{\\mu})^2}{n}\t $$"
   ]
  },
  {
   "cell_type": "markdown",
   "metadata": {},
   "source": [
    "$$ z = \\frac{x_i - \\bar{\\mu}}{σ}\t $$"
   ]
  },
  {
   "cell_type": "code",
   "execution_count": 4,
   "metadata": {},
   "outputs": [],
   "source": [
    "def get_normalized_matrix(matrix: np.array) -> tuple:\n",
    "    \"\"\"\n",
    "    Normalization Function.\n",
    "    Returns z-score of each element in the input matrix.\n",
    "    \"\"\"    \n",
    "    sample_size: np.array = np.sum(~np.isnan(matrix), axis=1)\n",
    "    sample_size[sample_size == 0] = 1    \n",
    "    mean: np.array = np.nansum(matrix, axis=1) / sample_size\n",
    "    mean = mean.reshape(mean.shape[0], 1)\n",
    "    variance: np.array = np.nansum(np.power(matrix - mean, 2), axis=1) / sample_size\n",
    "    variance = variance.reshape(variance.shape[0], 1)\n",
    "    variance[variance == 0] = 1\n",
    "    deviation: np.array = np.sqrt(variance)\n",
    "    normalized: np.array = (matrix - deviation) / deviation\n",
    "    return mean, deviation, normalized"
   ]
  },
  {
   "cell_type": "code",
   "execution_count": 5,
   "metadata": {},
   "outputs": [
    {
     "name": "stdout",
     "output_type": "stream",
     "text": [
      "ORIGINAL [[-1.44267746  1.89881899  1.26389813  3.63741193  4.43950332  5.64370755\n",
      "   6.41418615  9.76086517  9.37977501  9.62860931]\n",
      " [22.72719364 27.90735945 32.07411649 41.20925264 46.55827693 54.887796\n",
      "  58.78103783 68.35621001 71.00364909 80.00960906]]\n",
      "NORMALIZED [[-1.39573367e+00 -4.79144422e-01 -6.53306399e-01 -2.23965369e-03\n",
      "   2.17778040e-01  5.48097305e-01  7.59443451e-01  1.67745430e+00\n",
      "   1.57291936e+00  1.64117585e+00]\n",
      " [ 2.28803413e-01  5.08882227e-01  7.34168523e-01  1.22808285e+00\n",
      "   1.51729142e+00  1.96764801e+00  2.17814602e+00  2.69585201e+00\n",
      "   2.83899252e+00  3.32592261e+00]]\n"
     ]
    },
    {
     "data": {
      "image/png": "[encoded data removed]",
      "text/plain": [
       "<Figure size 432x288 with 4 Axes>"
      ]
     },
     "metadata": {
      "needs_background": "light"
     },
     "output_type": "display_data"
    }
   ],
   "source": [
    "x: np.array = np.vstack([\n",
    "    np.linspace(0, 10, 10) + np.random.normal(0, 1, 10),\n",
    "    20 + np.linspace(0, 60, 10) + np.random.normal(0, 1, 10),\n",
    "])\n",
    "mean, deviation, y = get_normalized_matrix(x)\n",
    "assert x.shape == y.shape\n",
    "print('ORIGINAL', x)\n",
    "print('NORMALIZED', y)\n",
    "grid = np.arange(x.shape[1])\n",
    "figure: Figure = plt.figure()\n",
    "axes: Axes = figure.add_subplot(2, 2, 1)\n",
    "axes.plot(grid, x[0].flat, 'o', color='blue')\n",
    "axes: Axes = figure.add_subplot(2, 2, 2)\n",
    "axes.plot(grid, y[0].flat, 'o', color='red')\n",
    "axes: Axes = figure.add_subplot(2, 2, 3)\n",
    "axes.plot(grid, x[1].flat, 'o', color='blue')\n",
    "axes: Axes = figure.add_subplot(2, 2, 4)\n",
    "axes.plot(grid, y[1].flat, 'o', color='red')\n",
    "plt.show()"
   ]
  },
  {
   "cell_type": "markdown",
   "metadata": {},
   "source": [
    "## Entropy"
   ]
  },
  {
   "cell_type": "markdown",
   "metadata": {},
   "source": [
    "- https://en.wikipedia.org/wiki/Entropy_(information_theory)"
   ]
  },
  {
   "cell_type": "markdown",
   "metadata": {},
   "source": [
    "In information theory, the entropy of a random variable is the average level of \"information\", \"surprise\", or \"uncertainty\" inherent in the variable's possible outcomes."
   ]
  },
  {
   "cell_type": "markdown",
   "metadata": {},
   "source": [
    "$$ H(x) = - \\sum\\limits^{^n}_{i=1} P(x_i) \\cdot log P(x_i) $$"
   ]
  },
  {
   "cell_type": "code",
   "execution_count": 6,
   "metadata": {},
   "outputs": [],
   "source": [
    "def get_entropy_array(matrix: np.array) -> np.array:\n",
    "    \"\"\"\n",
    "    Entropy Matrix.\n",
    "    \"\"\"\n",
    "    P: np.matrix = np.count_nonzero(~np.isnan(matrix.T), axis=1) / matrix.shape[0]\n",
    "    P[P == 0] = 1\n",
    "    return np.abs(np.log(P))"
   ]
  },
  {
   "cell_type": "code",
   "execution_count": 7,
   "metadata": {},
   "outputs": [
    {
     "name": "stdout",
     "output_type": "stream",
     "text": [
      "[[ 1. nan  3. nan nan]\n",
      " [ 4.  5. nan nan nan]\n",
      " [ 7.  8.  9.  5. nan]\n",
      " [ 7.  8.  9. nan nan]\n",
      " [ 7.  8.  9. nan nan]\n",
      " [ 7.  8.  9. nan nan]\n",
      " [ 7.  8.  9. nan nan]\n",
      " [ 1.  2.  2. nan nan]]\n",
      "[0.         0.13353139 0.13353139 2.07944154 0.        ]\n"
     ]
    }
   ],
   "source": [
    "X: np.array = np.array([\n",
    "    [1, np.nan, 3, np.nan, np.nan],\n",
    "    [4, 5, np.nan, np.nan, np.nan],\n",
    "    [7, 8, 9, 5, np.nan],\n",
    "    [7, 8, 9, np.nan, np.nan],\n",
    "    [7, 8, 9, np.nan, np.nan],\n",
    "    [7, 8, 9, np.nan, np.nan],\n",
    "    [7, 8, 9, np.nan, np.nan],\n",
    "    [1, 2, 2, np.nan, np.nan]\n",
    "])\n",
    "E: np.array = get_entropy_array(X)\n",
    "print(X)\n",
    "print(E)"
   ]
  },
  {
   "cell_type": "markdown",
   "metadata": {},
   "source": [
    "## Cosine Similarity"
   ]
  },
  {
   "cell_type": "markdown",
   "metadata": {},
   "source": [
    "- https://en.wikipedia.org/wiki/Cosine_similarity"
   ]
  },
  {
   "cell_type": "markdown",
   "metadata": {},
   "source": [
    "Cosine similarity is a measure of similarity between two non-zero vectors of an inner product space. It is defined to equal the cosine of the angle between them, which is also the same as the inner product of the same vectors normalized to both have length 1."
   ]
  },
  {
   "cell_type": "markdown",
   "metadata": {},
   "source": [
    "$$ cos(X, Y) = \\frac{X \\cdot Y}{ \\left \\Vert X \\right \\| \\cdot \\left \\Vert Y \\right \\| } = \\frac{ \\sum\\limits^{^n}_{i=1} X_i \\cdot Y_i }{ \\sqrt{\\sum\\limits^{^n}_{i=1} X_i^2} \\cdot \\sqrt{\\sum\\limits^{^n}_{i=1} Y_i^2} } $$"
   ]
  },
  {
   "cell_type": "code",
   "execution_count": 8,
   "metadata": {},
   "outputs": [],
   "source": [
    "def get_cosine(X: np.array, Y: np.array) -> float:\n",
    "    \"\"\"\n",
    "    Cosine Similarity function.\n",
    "    \"\"\"\n",
    "    union: np.array = ~np.isnan(np.sum([X, Y], axis=0))\n",
    "    if np.count_nonzero(union) == 0:\n",
    "        return 0\n",
    "    discount: float = min(MIN_SHARED_RATINGS, np.count_nonzero(union)) / MIN_SHARED_RATINGS\n",
    "    return discount * np.sum(X[union] * Y[union]) / \\\n",
    "        (max(0.0000001, np.sqrt(np.sum(np.power(X[union], 2)))) *\\\n",
    "         max(0.0000001, np.sqrt(np.sum(np.power(Y[union], 2)))))"
   ]
  },
  {
   "cell_type": "code",
   "execution_count": 9,
   "metadata": {},
   "outputs": [
    {
     "name": "stdout",
     "output_type": "stream",
     "text": [
      "[ 1. nan  2.  3.  4.  5.  6.  7.  8.  9.] [ 1.  3.  2.  2. nan  8.  9. 10. 11. 12.] 0.9929196160911488\n"
     ]
    },
    {
     "data": {
      "image/png": "[encoded data removed]",
      "text/plain": [
       "<Figure size 432x288 with 1 Axes>"
      ]
     },
     "metadata": {
      "needs_background": "light"
     },
     "output_type": "display_data"
    }
   ],
   "source": [
    "X: np.array = np.array([1, np.nan, 2, 3, 4, 5, 6, 7, 8, 9])\n",
    "Y: np.array = np.array([1, 3, 2, 2, np.nan, 8, 9, 10, 11, 12])\n",
    "print(X, Y, get_cosine(X, Y))\n",
    "figure: Figure = plt.figure()\n",
    "axes: Axes = figure.add_subplot()\n",
    "axes.plot(np.arange(X.shape[0]), X, 'x', color='blue')\n",
    "axes.plot(np.arange(Y.shape[0]), Y, '.', color='red')\n",
    "plt.show()"
   ]
  },
  {
   "cell_type": "code",
   "execution_count": 10,
   "metadata": {},
   "outputs": [
    {
     "name": "stdout",
     "output_type": "stream",
     "text": [
      "[ 1. nan  2.  3.  4.  5.  6.  7.  8.  9.] [ 10.  30.  20.  20.  nan  80.  90. 100. 110. 120.] 0.9929196160911488\n"
     ]
    },
    {
     "data": {
      "image/png": "[encoded data removed]",
      "text/plain": [
       "<Figure size 432x288 with 1 Axes>"
      ]
     },
     "metadata": {
      "needs_background": "light"
     },
     "output_type": "display_data"
    }
   ],
   "source": [
    "X: np.array = np.array([1, np.nan, 2, 3, 4, 5, 6, 7, 8, 9])\n",
    "Y: np.array = np.array([10, 30, 20, 20, np.nan, 80, 90, 100, 110, 120])\n",
    "print(X, Y, get_cosine(X, Y))\n",
    "figure: Figure = plt.figure()\n",
    "axes: Axes = figure.add_subplot()\n",
    "axes.plot(np.arange(X.shape[0]), X, 'x', color='blue')\n",
    "axes.plot(np.arange(Y.shape[0]), Y, '.', color='red')\n",
    "plt.show()"
   ]
  },
  {
   "cell_type": "code",
   "execution_count": 11,
   "metadata": {},
   "outputs": [
    {
     "name": "stdout",
     "output_type": "stream",
     "text": [
      "[ 1. nan  2.  3.  4.  5.  7.  9. 10.] [100.  65.  32.  24.  nan  10.   7.   4.   2.] 0.21975098781417202\n"
     ]
    },
    {
     "data": {
      "image/png": "[encoded data removed]",
      "text/plain": [
       "<Figure size 432x288 with 1 Axes>"
      ]
     },
     "metadata": {
      "needs_background": "light"
     },
     "output_type": "display_data"
    }
   ],
   "source": [
    "X: np.array = np.array([1, np.nan, 2, 3, 4, 5, 7, 9, 10])\n",
    "Y: np.array = np.array([100, 65, 32, 24, np.nan, 10, 7, 4, 2])\n",
    "print(X, Y, get_cosine(X, Y))\n",
    "figure: Figure = plt.figure()\n",
    "axes: Axes = figure.add_subplot()\n",
    "axes.plot(np.arange(X.shape[0]), X, 'x', color='blue')\n",
    "axes.plot(np.arange(Y.shape[0]), Y, 'o', color='red')\n",
    "plt.show()"
   ]
  },
  {
   "cell_type": "markdown",
   "metadata": {},
   "source": [
    "## Similarity Matrix"
   ]
  },
  {
   "cell_type": "code",
   "execution_count": 12,
   "metadata": {},
   "outputs": [],
   "source": [
    "def get_similarity_matrix(matrix: np.array) -> np.array:\n",
    "    \"\"\"\n",
    "    Get similarity matrix out of a given matrix.\n",
    "    \"\"\"\n",
    "    correlations: np.array = np.stack([\n",
    "        [\n",
    "            0 if i >= j else get_cosine(x, y)\n",
    "            for j, y in enumerate(matrix)\n",
    "        ]\n",
    "        for i, x in enumerate(matrix)\n",
    "    ])\n",
    "    return correlations + correlations.T"
   ]
  },
  {
   "cell_type": "code",
   "execution_count": 13,
   "metadata": {},
   "outputs": [
    {
     "name": "stdout",
     "output_type": "stream",
     "text": [
      "[[1 2 3]\n",
      " [4 5 6]\n",
      " [7 8 9]]\n",
      "[[0.         0.97463185 0.95941195]\n",
      " [0.97463185 0.         0.99819089]\n",
      " [0.95941195 0.99819089 0.        ]]\n"
     ]
    }
   ],
   "source": [
    "X: np.array = np.array([ [1, 2, 3], [4, 5, 6], [7, 8, 9] ])\n",
    "S: np.array = get_similarity_matrix(X)\n",
    "print(X)\n",
    "print(S)"
   ]
  },
  {
   "cell_type": "markdown",
   "metadata": {},
   "source": [
    "## Top K-Similar Rows"
   ]
  },
  {
   "cell_type": "markdown",
   "metadata": {},
   "source": [
    "- https://en.wikipedia.org/wiki/Adjacency_matrix\n",
    "- https://numpy.org/doc/stable/reference/generated/numpy.argsort.html"
   ]
  },
  {
   "cell_type": "markdown",
   "metadata": {},
   "source": [
    "In graph theory and computer science, an adjacency matrix is a square matrix used to represent a finite graph. The elements of the matrix indicate whether pairs of vertices are adjacent or not in the graph."
   ]
  },
  {
   "cell_type": "code",
   "execution_count": 14,
   "metadata": {},
   "outputs": [],
   "source": [
    "def get_adjacency_matrix(similar: np.array, k: int = 5) -> np.array:\n",
    "    \"\"\"\n",
    "    Get top k similar rows of a similarity matrix.\n",
    "    \"\"\"\n",
    "    closest: np.array = np.argsort(similar)\n",
    "    return closest[:, closest.shape[1] - k:]"
   ]
  },
  {
   "cell_type": "code",
   "execution_count": 15,
   "metadata": {},
   "outputs": [
    {
     "name": "stdout",
     "output_type": "stream",
     "text": [
      "[[0 2 3 1]\n",
      " [8 0 6 1]\n",
      " [7 6 0 2]\n",
      " [2 3 1 0]]\n",
      "[[1 2]\n",
      " [2 0]\n",
      " [1 0]\n",
      " [0 1]]\n"
     ]
    }
   ],
   "source": [
    "X: np.array = np.array([ [0, 2, 3, 1], [8, 0, 6, 1], [7, 6, 0, 2], [2, 3, 1, 0] ])\n",
    "S: np.array = get_adjacency_matrix(X, 2)\n",
    "print(X)\n",
    "print(S)"
   ]
  },
  {
   "cell_type": "markdown",
   "metadata": {},
   "source": [
    "### Collaborative Filtering"
   ]
  },
  {
   "cell_type": "markdown",
   "metadata": {},
   "source": [
    "Filling the collaborative filtering matrix with ratings from similar rows. The predicted value is the weighted sum of the adjacent rows. Values are denormalized so that the approximate user scores. Entropy is applied to promote novelty across recommendations."
   ]
  },
  {
   "cell_type": "markdown",
   "metadata": {},
   "source": [
    "$$ \\hat{R_{i,j}} = \\mu + σ \\cdot \\frac{ \\sum\\limits^{^n}_{u=1} w_u \\cdot R_{u,j} }{ \\sum\\limits^{^n}_{u=1} w_u } $$"
   ]
  },
  {
   "cell_type": "code",
   "execution_count": 16,
   "metadata": {},
   "outputs": [],
   "source": [
    "def get_collaborative_filtering(ratings: np.array, normalized: np.array, mean: np.array, deviation: np.array, entropy: np.array, adjacent: np.array, similarity: np.array) -> np.matrix:\n",
    "    \"\"\"\n",
    "    Collaborative Filtering function.\n",
    "    \"\"\"\n",
    "    for i in range(normalized.shape[0]):\n",
    "        for j in range(normalized.shape[1]):\n",
    "            if np.isnan(normalized[i][j]):\n",
    "                total: float = 0\n",
    "                weights: float = 0\n",
    "                for k in adjacent[i]:\n",
    "                    weight: float = similarity[i][k] * entropy[k]\n",
    "                    weights += weight\n",
    "                    total += 0 if np.isnan(normalized[k][j]) else normalized[k][j] * weight\n",
    "                y_hat: float = mean[i].flat[0] + deviation[i].flat[0] * total / weights\n",
    "                ratings[i, j] = y_hat\n",
    "    return ratings"
   ]
  },
  {
   "cell_type": "markdown",
   "metadata": {},
   "source": [
    "## User-Based Collaborative Filtering"
   ]
  },
  {
   "cell_type": "markdown",
   "metadata": {},
   "source": [
    "#### User-User Matrix"
   ]
  },
  {
   "cell_type": "code",
   "execution_count": 17,
   "metadata": {},
   "outputs": [
    {
     "name": "stdout",
     "output_type": "stream",
     "text": [
      "(10, 15)\n",
      "[[ 0. nan nan nan  0.  2. nan  5.  2. nan  5. nan  0.  5.  5.]\n",
      " [ 0.  2.  1.  0. nan nan  4.  5. nan  5. nan nan nan  1. nan]\n",
      " [ 2. nan  4. nan nan  3. nan  5. nan nan  0. nan nan nan  5.]\n",
      " [nan nan  3. nan  0.  2. nan nan  0. nan  5. nan nan nan  2.]\n",
      " [nan  5. nan  2.  3. nan nan nan nan nan nan nan  0. nan  1.]\n",
      " [nan nan nan nan  0.  0. nan  1. nan  2.  1.  0. nan nan nan]\n",
      " [nan nan nan  5. nan  1.  4. nan  0.  2. nan nan  4. nan nan]\n",
      " [nan nan  3.  2.  2.  0. nan nan  1.  5.  3. nan  0.  2.  3.]\n",
      " [nan  3.  0.  5. nan nan  3. nan nan  2.  1. nan  5.  5. nan]\n",
      " [ 3.  1. nan nan nan nan  3. nan  5.  5. nan  1.  1.  2.  3.]]\n"
     ]
    }
   ],
   "source": [
    "user_user: np.matrix = np.copy(ratings)\n",
    "print(user_user.shape)\n",
    "print(user_user)"
   ]
  },
  {
   "cell_type": "markdown",
   "metadata": {},
   "source": [
    "#### User-User Normalized Matrix"
   ]
  },
  {
   "cell_type": "code",
   "execution_count": 18,
   "metadata": {},
   "outputs": [
    {
     "name": "stdout",
     "output_type": "stream",
     "text": [
      "(10, 15)\n",
      "[[-1.                 nan         nan         nan -1.         -0.09546597\n",
      "          nan  1.26133508 -0.09546597         nan  1.26133508         nan\n",
      "  -1.          1.26133508  1.26133508]\n",
      " [-1.          0.00790526 -0.49604737 -1.                 nan         nan\n",
      "   1.01581052  1.51976315         nan  1.51976315         nan         nan\n",
      "          nan -0.49604737         nan]\n",
      " [ 0.12886504         nan  1.25773008         nan         nan  0.69329756\n",
      "          nan  1.82216261         nan         nan -1.                 nan\n",
      "          nan         nan  1.82216261]\n",
      " [        nan         nan  0.73205081         nan -1.          0.15470054\n",
      "          nan         nan -1.                 nan  1.88675135         nan\n",
      "          nan         nan  0.15470054]\n",
      " [        nan  1.90619097         nan  0.16247639  0.74371458         nan\n",
      "          nan         nan         nan         nan         nan         nan\n",
      "  -1.                 nan -0.41876181]\n",
      " [        nan         nan         nan         nan -1.         -1.\n",
      "          nan  0.34164079         nan  1.68328157  0.34164079 -1.\n",
      "          nan         nan         nan]\n",
      " [        nan         nan         nan  1.78543007         nan -0.44291399\n",
      "   1.22834406         nan -1.          0.11417203         nan         nan\n",
      "   1.22834406         nan         nan]\n",
      " [        nan         nan  1.07514339  0.38342893  0.38342893 -1.\n",
      "          nan         nan -0.30828554  2.45857232  1.07514339         nan\n",
      "  -1.          0.38342893  1.07514339]\n",
      " [        nan  0.66410059 -1.          1.77350098         nan         nan\n",
      "   0.66410059         nan         nan  0.10940039 -0.4452998          nan\n",
      "   1.77350098  1.77350098         nan]\n",
      " [ 1.01246118 -0.32917961         nan         nan         nan         nan\n",
      "   1.01246118         nan  2.35410197  2.35410197         nan -0.32917961\n",
      "  -0.32917961  0.34164079  1.01246118]]\n"
     ]
    }
   ],
   "source": [
    "mean, deviation, normalized = get_normalized_matrix(user_user)\n",
    "print(normalized.shape)\n",
    "print(normalized)"
   ]
  },
  {
   "cell_type": "markdown",
   "metadata": {},
   "source": [
    "#### User-User Similarity Matrix"
   ]
  },
  {
   "cell_type": "code",
   "execution_count": 19,
   "metadata": {},
   "outputs": [
    {
     "name": "stdout",
     "output_type": "stream",
     "text": [
      "(10, 10)\n",
      "[[ 0.          0.59418069  0.45780608  0.75325108 -0.1091425   0.63975283\n",
      "  -0.65713902  0.69684907 -0.01885002  0.12557956]\n",
      " [ 0.59418069  0.          0.48217446 -0.33333333 -0.05136606  0.55575027\n",
      "  -0.08053148  0.49261217 -0.20844342  0.57136495]\n",
      " [ 0.45780608  0.48217446  0.         -0.11217472 -0.33333333 -0.16947714\n",
      "  -0.33333333  0.28892185 -0.30792509  0.50348518]\n",
      " [ 0.75325108 -0.33333333 -0.11217472  0.         -0.62408681  0.47831256\n",
      "   0.56111277  0.51161611 -0.47312441 -0.56495971]\n",
      " [-0.1091425  -0.05136606 -0.33333333 -0.62408681  0.         -0.33333333\n",
      "  -0.28489167  0.43271432 -0.03918111 -0.29556719]\n",
      " [ 0.63975283  0.55575027 -0.16947714  0.47831256 -0.33333333  0.\n",
      "   0.47278741  0.79685841  0.02710295  0.61478529]\n",
      " [-0.65713902 -0.08053148 -0.33333333  0.56111277 -0.28489167  0.47278741\n",
      "   0.          0.06977776  0.95328009 -0.17756358]\n",
      " [ 0.69684907  0.49261217  0.28892185  0.51161611  0.43271432  0.79685841\n",
      "   0.06977776  0.         -0.16756069  0.6478333 ]\n",
      " [-0.01885002 -0.20844342 -0.30792509 -0.47312441 -0.03918111  0.02710295\n",
      "   0.95328009 -0.16756069  0.          0.10416179]\n",
      " [ 0.12557956  0.57136495  0.50348518 -0.56495971 -0.29556719  0.61478529\n",
      "  -0.17756358  0.6478333   0.10416179  0.        ]]\n"
     ]
    }
   ],
   "source": [
    "similarity: np.array = get_similarity_matrix(normalized)\n",
    "print(similarity.shape)\n",
    "print(similarity)"
   ]
  },
  {
   "cell_type": "markdown",
   "metadata": {},
   "source": [
    "#### User-User Adjacency Matrix"
   ]
  },
  {
   "cell_type": "code",
   "execution_count": 20,
   "metadata": {},
   "outputs": [
    {
     "name": "stdout",
     "output_type": "stream",
     "text": [
      "(10, 5)\n",
      "[[2 1 5 7 3]\n",
      " [2 7 5 9 0]\n",
      " [2 7 0 1 9]\n",
      " [3 5 7 6 0]\n",
      " [0 1 8 4 7]\n",
      " [3 1 9 0 7]\n",
      " [6 7 5 3 8]\n",
      " [1 3 9 0 5]\n",
      " [0 8 5 9 6]\n",
      " [0 2 1 5 7]]\n"
     ]
    }
   ],
   "source": [
    "adjacent: np.array = get_adjacency_matrix(similarity)\n",
    "print(adjacent.shape)\n",
    "print(adjacent)"
   ]
  },
  {
   "cell_type": "markdown",
   "metadata": {},
   "source": [
    "#### Users Entropy Matrix"
   ]
  },
  {
   "cell_type": "code",
   "execution_count": 21,
   "metadata": {},
   "outputs": [
    {
     "name": "stdout",
     "output_type": "stream",
     "text": [
      "(10,)\n",
      "[0.51082562 0.62860866 0.91629073 0.91629073 1.09861229 0.91629073\n",
      " 0.91629073 0.40546511 0.62860866 0.51082562]\n"
     ]
    }
   ],
   "source": [
    "entropy: np.array = get_entropy_array(user_user.T)\n",
    "print(entropy.shape)\n",
    "print(entropy)"
   ]
  },
  {
   "cell_type": "markdown",
   "metadata": {},
   "source": [
    "#### User-User Collaborative Filtering"
   ]
  },
  {
   "cell_type": "code",
   "execution_count": 22,
   "metadata": {},
   "outputs": [
    {
     "name": "stdout",
     "output_type": "stream",
     "text": [
      "BECAUSE YOU ARE FRIEND OF \n",
      " [[2 1 5 7 3]\n",
      " [2 7 5 9 0]\n",
      " [2 7 0 1 9]\n",
      " [3 5 7 6 0]\n",
      " [0 1 8 4 7]\n",
      " [3 1 9 0 7]\n",
      " [6 7 5 3 8]\n",
      " [1 3 9 0 5]\n",
      " [0 8 5 9 6]\n",
      " [0 2 1 5 7]]\n",
      "RECOMMENDATIONS \n",
      " [[ 0.          2.66944251  3.74907307  2.41737703  0.          2.\n",
      "   3.023357    5.          2.          4.7810225   5.          2.11557321\n",
      "   0.          5.          5.        ]\n",
      " [ 0.          2.          1.          0.          1.41343393  1.75949823\n",
      "   4.          5.          2.92789083  5.          2.62472312  1.56214173\n",
      "   1.56892485  1.          4.17974393]\n",
      " [ 2.          3.00672893  4.          2.66472676  2.79933881  3.\n",
      "   4.27149941  5.          4.23014578  5.79925071  0.          3.00207063\n",
      "   2.31966497  3.70598739  5.        ]\n",
      " [ 1.56853429  2.          3.          3.11853311  0.          2.\n",
      "   2.70816967  2.71212204  0.          3.46496352  5.          1.50855047\n",
      "   2.04409227  2.63341289  2.        ]\n",
      " [ 4.61279719  5.          8.4834676   2.          3.         -2.46237488\n",
      "   0.85287037 -1.07202541  0.86355309 12.60274012  5.74290574  2.2\n",
      "   0.          1.35828629  1.        ]\n",
      " [ 0.51424403  0.62385075  0.87727339  0.57072361  0.          0.\n",
      "   0.95298164  1.          0.73910255  2.          1.          0.\n",
      "   0.34611977  0.86670671  1.15405245]\n",
      " [ 2.66666667  3.12025664  2.44731977  5.          1.59923815  1.\n",
      "   4.          2.83535988  0.          2.          3.67155812  2.17289304\n",
      "   4.          3.89035732  2.79199516]\n",
      " [ 1.88232457  2.02988069  3.          2.          2.          0.\n",
      "   2.52775191  2.86979436  1.          5.          3.          1.54748052\n",
      "   0.          2.          3.        ]\n",
      " [ 3.12153938  3.          0.          5.          2.97089762  2.21374897\n",
      "   3.          2.99299267  1.56966929  2.          1.          2.91894391\n",
      "   5.          5.          3.07986315]\n",
      " [ 3.          1.          3.26315129  2.44144695  2.20763654  2.22025461\n",
      "   3.          4.11310875  5.          5.          2.74896519  1.\n",
      "   1.          2.          3.        ]]\n"
     ]
    }
   ],
   "source": [
    "recommendations: np.matrix = get_collaborative_filtering(ratings=user_user,\n",
    "                                                         normalized=normalized,\n",
    "                                                         mean=mean,\n",
    "                                                         deviation=deviation,\n",
    "                                                         similarity=similarity,\n",
    "                                                         entropy=entropy,\n",
    "                                                         adjacent=adjacent)\n",
    "print(\"BECAUSE YOU ARE FRIEND OF\", \"\\n\", adjacent)\n",
    "print(\"RECOMMENDATIONS\", \"\\n\", recommendations)"
   ]
  },
  {
   "cell_type": "markdown",
   "metadata": {},
   "source": [
    "## Memory-Based Collaborative Filtering"
   ]
  },
  {
   "cell_type": "markdown",
   "metadata": {},
   "source": [
    "#### Item-Item Matrix"
   ]
  },
  {
   "cell_type": "code",
   "execution_count": 23,
   "metadata": {},
   "outputs": [
    {
     "name": "stdout",
     "output_type": "stream",
     "text": [
      "(15, 10)\n",
      "[[ 0.  0.  2. nan nan nan nan nan nan  3.]\n",
      " [nan  2. nan nan  5. nan nan nan  3.  1.]\n",
      " [nan  1.  4.  3. nan nan nan  3.  0. nan]\n",
      " [nan  0. nan nan  2. nan  5.  2.  5. nan]\n",
      " [ 0. nan nan  0.  3.  0. nan  2. nan nan]\n",
      " [ 2. nan  3.  2. nan  0.  1.  0. nan nan]\n",
      " [nan  4. nan nan nan nan  4. nan  3.  3.]\n",
      " [ 5.  5.  5. nan nan  1. nan nan nan nan]\n",
      " [ 2. nan nan  0. nan nan  0.  1. nan  5.]\n",
      " [nan  5. nan nan nan  2.  2.  5.  2.  5.]\n",
      " [ 5. nan  0.  5. nan  1. nan  3.  1. nan]\n",
      " [nan nan nan nan nan  0. nan nan nan  1.]\n",
      " [ 0. nan nan nan  0. nan  4.  0.  5.  1.]\n",
      " [ 5.  1. nan nan nan nan nan  2.  5.  2.]\n",
      " [ 5. nan  5.  2.  1. nan nan  3. nan  3.]]\n"
     ]
    }
   ],
   "source": [
    "item_item: np.array = np.copy(ratings.T)\n",
    "print(item_item.shape)\n",
    "print(item_item)"
   ]
  },
  {
   "cell_type": "markdown",
   "metadata": {},
   "source": [
    "#### Item-Item Normalized Matrix"
   ]
  },
  {
   "cell_type": "code",
   "execution_count": 24,
   "metadata": {},
   "outputs": [
    {
     "name": "stdout",
     "output_type": "stream",
     "text": [
      "(15, 10)\n",
      "[[-1.         -1.          0.53960072         nan         nan         nan\n",
      "          nan         nan         nan  1.30940108]\n",
      " [        nan  0.35224681         nan         nan  2.38061702         nan\n",
      "          nan         nan  1.02837021 -0.3238766 ]\n",
      " [        nan -0.31958618  1.72165527  1.04124145         nan         nan\n",
      "          nan  1.04124145 -1.                 nan]\n",
      " [        nan -1.                 nan         nan  0.03142125         nan\n",
      "   1.57855312  0.03142125  1.57855312         nan]\n",
      " [-1.                 nan         nan -1.          1.37170825 -1.\n",
      "          nan  0.58113883         nan         nan]\n",
      " [ 0.80906807         nan  1.7136021   0.80906807         nan -1.\n",
      "  -0.09546597 -1.                 nan         nan]\n",
      " [        nan  7.                 nan         nan         nan         nan\n",
      "   7.                 nan  5.          5.        ]\n",
      " [ 1.88675135  1.88675135  1.88675135         nan         nan -0.42264973\n",
      "          nan         nan         nan         nan]\n",
      " [ 0.07832773         nan         nan -1.                 nan         nan\n",
      "  -1.         -0.46083613         nan  1.69581933]\n",
      " [        nan  2.33333333         nan         nan         nan  0.33333333\n",
      "   0.33333333  2.33333333  0.33333333  2.33333333]\n",
      " [ 1.52645576         nan -1.          1.52645576         nan -0.49470885\n",
      "          nan  0.51587346 -0.49470885         nan]\n",
      " [        nan         nan         nan         nan         nan -1.\n",
      "          nan         nan         nan  1.        ]\n",
      " [-1.                 nan         nan         nan -1.                 nan\n",
      "   0.94665705 -1.          1.43332132 -0.51333574]\n",
      " [ 1.98807152 -0.4023857          nan         nan         nan         nan\n",
      "          nan  0.19522861  1.98807152  0.19522861]\n",
      " [ 2.41881729         nan  2.41881729  0.36752692 -0.31623654         nan\n",
      "          nan  1.05129038         nan  1.05129038]]\n"
     ]
    }
   ],
   "source": [
    "mean, deviation, normalized = get_normalized_matrix(item_item)\n",
    "print(normalized.shape)\n",
    "print(normalized)"
   ]
  },
  {
   "cell_type": "markdown",
   "metadata": {},
   "source": [
    "#### Item-Item Similarity Matrix"
   ]
  },
  {
   "cell_type": "code",
   "execution_count": 25,
   "metadata": {},
   "outputs": [
    {
     "name": "stdout",
     "output_type": "stream",
     "text": [
      "(15, 15)\n",
      "[[ 0.         -0.65647077  0.41834583  0.33333333  0.33333333  0.03578814\n",
      "  -0.02130779 -0.55703493  0.51059307  0.08852545 -0.66425204  0.33333333\n",
      "   0.11801309 -0.33866044  0.04238048]\n",
      " [-0.65647077  0.         -0.66652417  0.27517565  0.33333333  0.\n",
      "   0.53060368  0.33333333 -0.33333333  0.10871896 -0.33333333 -0.33333333\n",
      "  -0.15553031  0.79586638 -0.27634653]\n",
      " [ 0.41834583 -0.66652417  0.         -0.4437458  -0.17071861  0.56681338\n",
      "  -0.53424466  0.37745105 -0.6254285   0.27539166  0.18536139  0.\n",
      "  -0.65384611 -0.54966996  0.93517832]\n",
      " [ 0.33333333  0.27517565 -0.4437458   0.          0.61795009 -0.07655077\n",
      "   0.4402144  -0.33333333 -0.61090089 -0.14809571 -0.45176347  0.\n",
      "   0.7435642   0.93131324  0.31563145]\n",
      " [ 0.33333333  0.33333333 -0.17071861  0.61795009  0.         -0.36085549\n",
      "   0.         -0.35695905  0.38741486  0.25008757 -0.54361356  0.33333333\n",
      "  -0.30660657 -0.54090654 -0.47368569]\n",
      " [ 0.03578814  0.          0.56681338 -0.07655077 -0.36085549  0.\n",
      "  -0.33333333  0.89527656 -0.08351229 -0.79975046  0.11843164  0.33333333\n",
      "   0.04581092  0.36666414  0.64907343]\n",
      " [-0.02130779  0.53060368 -0.53424466  0.4402144   0.         -0.33333333\n",
      "   0.          0.33333333  0.05822488  0.78911514 -0.33333333  0.33333333\n",
      "   0.62936021  0.3994884   0.33333333]\n",
      " [-0.55703493  0.33333333  0.37745105 -0.33333333 -0.35695905  0.89527656\n",
      "   0.33333333  0.          0.33333333  0.62339691  0.23539912  0.33333333\n",
      "  -0.33333333  0.36851966  0.66666667]\n",
      " [ 0.51059307 -0.33333333 -0.6254285  -0.61090089  0.38741486 -0.08351229\n",
      "   0.05822488  0.33333333  0.          0.38000435 -0.67126586  0.33333333\n",
      "  -0.39887945  0.11239249  0.19338497]\n",
      " [ 0.08852545  0.10871896  0.27539166 -0.14809571  0.25008757 -0.79975046\n",
      "   0.78911514  0.62339691  0.38000435  0.          0.42232969  0.4\n",
      "  -0.40010127  0.07647685  0.66666667]\n",
      " [-0.66425204 -0.33333333  0.18536139 -0.45176347 -0.54361356  0.11843164\n",
      "  -0.33333333  0.23539912 -0.67126586  0.42232969  0.          0.33333333\n",
      "  -0.81070083  0.45300225  0.27139252]\n",
      " [ 0.33333333 -0.33333333  0.          0.          0.33333333  0.33333333\n",
      "   0.33333333  0.33333333  0.33333333  0.4         0.33333333  0.\n",
      "  -0.33333333  0.33333333  0.33333333]\n",
      " [ 0.11801309 -0.15553031 -0.65384611  0.7435642  -0.30660657  0.04581092\n",
      "   0.62936021 -0.33333333 -0.39887945 -0.40010127 -0.81070083 -0.33333333\n",
      "   0.          0.09642041 -0.7156903 ]\n",
      " [-0.33866044  0.79586638 -0.54966996  0.93131324 -0.54090654  0.36666414\n",
      "   0.3994884   0.36851966  0.11239249  0.07647685  0.45300225  0.33333333\n",
      "   0.09642041  0.          0.91586638]\n",
      " [ 0.04238048 -0.27634653  0.93517832  0.31563145 -0.47368569  0.64907343\n",
      "   0.33333333  0.66666667  0.19338497  0.66666667  0.27139252  0.33333333\n",
      "  -0.7156903   0.91586638  0.        ]]\n"
     ]
    }
   ],
   "source": [
    "similarity: np.array = get_similarity_matrix(normalized)\n",
    "print(similarity.shape)\n",
    "print(similarity)"
   ]
  },
  {
   "cell_type": "markdown",
   "metadata": {},
   "source": [
    "#### Item-Item Adjacency Matrix"
   ]
  },
  {
   "cell_type": "code",
   "execution_count": 26,
   "metadata": {},
   "outputs": [
    {
     "name": "stdout",
     "output_type": "stream",
     "text": [
      "(15, 5)\n",
      "[[ 3  4 11  2  8]\n",
      " [ 3  4  7  6 13]\n",
      " [ 9  7  0  5 14]\n",
      " [ 0  6  4 12 13]\n",
      " [ 0  1 11  8  3]\n",
      " [11 13  2 14  7]\n",
      " [13  3  1 12  9]\n",
      " [13  2  9 14  5]\n",
      " [ 7 11  9  4  0]\n",
      " [11 10  7 14  6]\n",
      " [ 7 14 11  9 13]\n",
      " [ 7  8 10 14  9]\n",
      " [ 5 13  0  6  3]\n",
      " [ 6 10  1 14  3]\n",
      " [ 5  7  9 13  2]]\n"
     ]
    }
   ],
   "source": [
    "adjacent: np.array = get_adjacency_matrix(similarity)\n",
    "print(adjacent.shape)\n",
    "print(adjacent)"
   ]
  },
  {
   "cell_type": "markdown",
   "metadata": {},
   "source": [
    "#### Items Entropy Matrix"
   ]
  },
  {
   "cell_type": "code",
   "execution_count": 27,
   "metadata": {},
   "outputs": [
    {
     "name": "stdout",
     "output_type": "stream",
     "text": [
      "(15,)\n",
      "[0.91629073 0.91629073 0.69314718 0.69314718 0.69314718 0.51082562\n",
      " 0.91629073 0.91629073 0.69314718 0.51082562 0.51082562 1.60943791\n",
      " 0.51082562 0.69314718 0.51082562]\n"
     ]
    }
   ],
   "source": [
    "entropy: np.array = get_entropy_array(item_item.T)\n",
    "print(entropy.shape)\n",
    "print(entropy)"
   ]
  },
  {
   "cell_type": "markdown",
   "metadata": {},
   "source": [
    "#### Item-Item Collaborative Filtering"
   ]
  },
  {
   "cell_type": "code",
   "execution_count": 28,
   "metadata": {},
   "outputs": [
    {
     "name": "stdout",
     "output_type": "stream",
     "text": [
      "BECAUSE YOU WATCHED \n",
      " [[ 3  4 11  2  8]\n",
      " [ 3  4  7  6 13]\n",
      " [ 9  7  0  5 14]\n",
      " [ 0  6  4 12 13]\n",
      " [ 0  1 11  8  3]\n",
      " [11 13  2 14  7]\n",
      " [13  3  1 12  9]\n",
      " [13  2  9 14  5]\n",
      " [ 7 11  9  4  0]\n",
      " [11 10  7 14  6]\n",
      " [ 7 14 11  9 13]\n",
      " [ 7  8 10 14  9]\n",
      " [ 5 13  0  6  3]\n",
      " [ 6 10  1 14  3]\n",
      " [ 5  7  9 13  2]]\n",
      "RECOMMENDATIONS \n",
      " [[0.         0.         2.         1.02614916 1.50640514 0.64295736\n",
      "  1.25854737 1.47174492 1.30911861 3.        ]\n",
      " [3.95827178 2.         3.23288329 2.55639362 5.         2.4482233\n",
      "  5.85408272 2.95777945 3.         1.        ]\n",
      " [3.68932006 1.         4.         3.         2.06437897 1.8509376\n",
      "  2.21728219 3.         0.         3.39613215]\n",
      " [2.95224047 0.         2.94778271 2.41592334 2.         2.41592334\n",
      "  5.         2.         5.         4.90523178]\n",
      " [0.         0.57051746 1.11304079 0.         3.         0.\n",
      "  1.2795709  2.         1.67918807 1.8867629 ]\n",
      " [2.         1.95816743 3.         2.         1.28369813 0.\n",
      "  1.         0.         1.38653558 1.77578714]\n",
      " [3.56386931 4.         3.5        3.5        3.73580747 3.53747361\n",
      "  4.         3.69040444 3.         3.        ]\n",
      " [5.         5.         5.         4.81395365 3.88580087 1.\n",
      "  4.06626388 5.02436504 4.37363124 5.22044461]\n",
      " [2.         2.1874259  2.46721004 0.         1.9854587  0.69022551\n",
      "  0.         1.         1.66771024 5.        ]\n",
      " [4.84150743 5.         4.51373485 3.7733039  3.43523653 2.\n",
      "  2.         5.         2.         5.        ]\n",
      " [5.         3.59224435 0.         5.         2.4389217  1.\n",
      "  2.60018608 3.         1.         4.23716035]\n",
      " [1.08544365 0.98690609 0.87816285 0.54228436 0.47510207 0.\n",
      "  0.42466016 0.79460309 0.49254339 1.        ]\n",
      " [0.         7.05876509 1.82343078 1.6968146  0.         1.62940412\n",
      "  4.         0.         5.         1.        ]\n",
      " [5.         1.         3.61734754 3.36014692 4.1029726  2.92149503\n",
      "  5.45595774 2.         5.         2.        ]\n",
      " [5.         4.01278161 5.         2.         1.         2.89524309\n",
      "  3.21332463 3.         3.58123903 3.        ]]\n"
     ]
    }
   ],
   "source": [
    "recommendations: np.matrix = get_collaborative_filtering(ratings=item_item,\n",
    "                                                         normalized=normalized,\n",
    "                                                         mean=mean,\n",
    "                                                         deviation=deviation,\n",
    "                                                         similarity=similarity,\n",
    "                                                         entropy=entropy,\n",
    "                                                         adjacent=adjacent)\n",
    "print(\"BECAUSE YOU WATCHED\", \"\\n\", adjacent)\n",
    "print(\"RECOMMENDATIONS\", \"\\n\", recommendations)"
   ]
  }
 ],
 "metadata": {
  "kernelspec": {
   "display_name": "Python 3",
   "language": "python",
   "name": "python3"
  },
  "language_info": {
   "codemirror_mode": {
    "name": "ipython",
    "version": 3
   },
   "file_extension": ".py",
   "mimetype": "text/x-python",
   "name": "python",
   "nbconvert_exporter": "python",
   "pygments_lexer": "ipython3",
   "version": "3.7.6"
  }
 },
 "nbformat": 4,
 "nbformat_minor": 4
}
