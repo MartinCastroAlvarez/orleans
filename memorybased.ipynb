{
 "cells": [
  {
   "cell_type": "markdown",
   "metadata": {},
   "source": [
    "# Memory Based Collaborative Filtering"
   ]
  },
  {
   "cell_type": "code",
   "execution_count": 1,
   "metadata": {},
   "outputs": [],
   "source": [
    "import numpy as np"
   ]
  },
  {
   "cell_type": "markdown",
   "metadata": {},
   "source": [
    "## User-Rating Matrix"
   ]
  },
  {
   "cell_type": "markdown",
   "metadata": {},
   "source": [
    "The ratings matrix is denoted by `R` and it is an `m` by `n` matrix containing `m` users and `n` items. The rating of user `u1` for item `i3` is denoted by `r13`."
   ]
  },
  {
   "cell_type": "markdown",
   "metadata": {},
   "source": [
    "$$ U = \\{ u_1, u_2 ... u_m \\} \\land |U| = m $$"
   ]
  },
  {
   "cell_type": "markdown",
   "metadata": {},
   "source": [
    "$$ I = \\{ i_1, i_2 ... i_n \\} \\land |I| = n $$"
   ]
  },
  {
   "cell_type": "markdown",
   "metadata": {},
   "source": [
    "$$ R = \\{ r_{1,1}, r_{1,2} ... r_{2,1}, r_{2,2} ... r_{m,n} \\} \\land |R| = m \\times n $$"
   ]
  },
  {
   "cell_type": "code",
   "execution_count": 62,
   "metadata": {},
   "outputs": [],
   "source": [
    "USERS: int = 5\n",
    "ITEMS: int = 6\n",
    "\n",
    "MIN_RATING: int = 0\n",
    "MAX_RATING: int = 5"
   ]
  },
  {
   "cell_type": "code",
   "execution_count": 63,
   "metadata": {},
   "outputs": [
    {
     "name": "stdout",
     "output_type": "stream",
     "text": [
      "[[nan  5.  3. nan nan  0.]\n",
      " [ 5. nan  5. nan nan nan]\n",
      " [nan nan nan nan  1.  1.]\n",
      " [nan nan nan  3.  1. nan]\n",
      " [nan nan nan  2.  0.  0.]]\n"
     ]
    }
   ],
   "source": [
    "RATINGS: np.matrix = MAX_RATING * np.random.randn(USERS, ITEMS)\n",
    "RATINGS[RATINGS < MIN_RATING] = np.nan  # Missing ratings\n",
    "RATINGS[RATINGS > MAX_RATING] = MAX_RATING  # Max ratings\n",
    "RATINGS = np.floor(RATINGS)  # Simple ratings\n",
    "print(RATINGS)"
   ]
  },
  {
   "cell_type": "markdown",
   "metadata": {},
   "source": [
    "## Normalization"
   ]
  },
  {
   "cell_type": "markdown",
   "metadata": {},
   "source": [
    "- https://en.wikipedia.org/wiki/Normalization_(statistics)"
   ]
  },
  {
   "cell_type": "markdown",
   "metadata": {},
   "source": [
    "In statistics and applications of statistics, normalization can have a range of meanings. In the simplest cases, normalization of ratings means adjusting values measured on different scales to a notionally common scale, often prior to averaging."
   ]
  },
  {
   "cell_type": "markdown",
   "metadata": {},
   "source": [
    "$$ \\bar{\\mu} = \\frac{\\sum\\limits^{^n}_{i=1} x_i}{n}\t $$"
   ]
  },
  {
   "cell_type": "markdown",
   "metadata": {},
   "source": [
    "$$ σ^2 = \\frac{\\sum\\limits^{^n}_{i=1} (x_i - \\bar{\\mu})^2}{n}\t $$"
   ]
  },
  {
   "cell_type": "markdown",
   "metadata": {},
   "source": [
    "$$ z = \\frac{x_i - \\bar{\\mu}}{σ}\t $$"
   ]
  },
  {
   "cell_type": "code",
   "execution_count": 124,
   "metadata": {},
   "outputs": [],
   "source": [
    "def normalize(matrix: np.matrix) -> np.matrix:\n",
    "    \"\"\"\n",
    "    Normalization Function.\n",
    "    Returns z-score of each element in the input matrix.\n",
    "    \"\"\"    \n",
    "    sample_size: np.array = np.sum(~np.isnan(matrix), axis=1)\n",
    "    sample_size[sample_size == 0] = 1    \n",
    "    averages: np.array = np.nansum(matrix, axis=1) / sample_size\n",
    "    averages = averages.reshape(averages.shape[0], 1)\n",
    "    variance: np.matrix = np.nansum(np.power(matrix - averages, 2), axis=1) / sample_size\n",
    "    variance = variance.reshape(variance.shape[0], 1)\n",
    "    variance[variance == 0] = 1\n",
    "    standard: np.matrix = np.power(variance, 0.5)\n",
    "    normalized: np.matrix = (matrix - averages) / standard\n",
    "    return normalized\n",
    "\n",
    "x: np.matrix = np.matrix([ [1, 2, 3], [4, 5, 7] ])\n",
    "y = normalize(x)\n",
    "assert x.shape == y.shape\n",
    "assert y[0].flat[0] == -1.224744871391589\n",
    "assert y[0].flat[1] == 0\n",
    "assert y[0].flat[2] == 1.224744871391589\n",
    "assert y[1].flat[0] == -1.0690449676496974\n",
    "assert y[1].flat[1] == -0.2672612419124242\n",
    "assert y[1].flat[2] == 1.3363062095621223"
   ]
  },
  {
   "cell_type": "markdown",
   "metadata": {},
   "source": [
    "## User-Based Collaborative Filtering"
   ]
  },
  {
   "cell_type": "code",
   "execution_count": null,
   "metadata": {},
   "outputs": [],
   "source": []
  },
  {
   "cell_type": "code",
   "execution_count": 81,
   "metadata": {},
   "outputs": [
    {
     "name": "stdout",
     "output_type": "stream",
     "text": [
      "INPUT [[nan  5.  3. nan nan  0.]\n",
      " [ 5. nan  5. nan nan nan]\n",
      " [nan nan nan nan  1.  1.]\n",
      " [nan nan nan  3.  1. nan]\n",
      " [nan nan nan  2.  0.  0.]]\n",
      "SIZE [3 2 2 2 3]\n",
      "AVERAGE [[2.66666667]\n",
      " [5.        ]\n",
      " [1.        ]\n",
      " [2.        ]\n",
      " [0.66666667]]\n",
      "VARIANCE [[4.22222222]\n",
      " [1.        ]\n",
      " [1.        ]\n",
      " [1.        ]\n",
      " [0.88888889]]\n",
      "ADJUSTED [[        nan  4.36842105  2.36842105         nan         nan -0.63157895]\n",
      " [ 0.                 nan  0.                 nan         nan         nan]\n",
      " [        nan         nan         nan         nan  0.          0.        ]\n",
      " [        nan         nan         nan  1.         -1.                 nan]\n",
      " [        nan         nan         nan  1.25       -0.75       -0.75      ]]\n",
      "[[nan  5.  3. nan nan  0.]\n",
      " [ 5. nan  5. nan nan nan]\n",
      " [nan nan nan nan  1.  1.]\n",
      " [nan nan nan  3.  1. nan]\n",
      " [nan nan nan  2.  0.  0.]]\n"
     ]
    }
   ],
   "source": [
    "def collaborative_filtering(ratings: np.matrix) -> np.matrix:\n",
    "    \"\"\"\n",
    "    Collaborative Filtering method.\n",
    "    \"\"\"\n",
    "    \n",
    "    # Start of Collaborative Filtering.\n",
    "    print('INPUT', ratings)\n",
    "    \n",
    "    # Row sample size\n",
    "    sample_size: np.array = np.sum(~np.isnan(ratings), axis=1)\n",
    "    sample_size[sample_size == 0] = 1\n",
    "    print('SIZE', sample_size)\n",
    "    \n",
    "    # Row Average\n",
    "    averages: np.array = np.nansum(ratings, axis=1) / sample_size\n",
    "    averages = averages.reshape(averages.shape[0], 1)\n",
    "    print('AVERAGE', averages)\n",
    "\n",
    "    # Row Variance\n",
    "    variance: np.matrix = np.nansum(np.power(ratings - averages, 2), axis=1) / sample_size\n",
    "    variance = variance.reshape(variance.shape[0], 1)\n",
    "    variance[variance == 0] = 1\n",
    "    print('VARIANCE', variance)\n",
    "    \n",
    "    # Mean Average Ratings\n",
    "    adjusted_ratings: np.matrix = ratings - averages / variance\n",
    "    print('ADJUSTED', adjusted_ratings)\n",
    "    \n",
    "    # End of Collaborative Filtering\n",
    "    # print('OUTPUT', ratings)\n",
    "    return ratings\n",
    "\n",
    "collaborative_filtering(RATINGS)\n",
    "print(RATINGS)"
   ]
  },
  {
   "cell_type": "markdown",
   "metadata": {},
   "source": [
    "## Memory-Based Collaborative Filtering"
   ]
  },
  {
   "cell_type": "code",
   "execution_count": null,
   "metadata": {},
   "outputs": [],
   "source": []
  },
  {
   "cell_type": "code",
   "execution_count": null,
   "metadata": {},
   "outputs": [],
   "source": []
  }
 ],
 "metadata": {
  "kernelspec": {
   "display_name": "Python 3",
   "language": "python",
   "name": "python3"
  },
  "language_info": {
   "codemirror_mode": {
    "name": "ipython",
    "version": 3
   },
   "file_extension": ".py",
   "mimetype": "text/x-python",
   "name": "python",
   "nbconvert_exporter": "python",
   "pygments_lexer": "ipython3",
   "version": "3.8.3"
  }
 },
 "nbformat": 4,
 "nbformat_minor": 4
}
