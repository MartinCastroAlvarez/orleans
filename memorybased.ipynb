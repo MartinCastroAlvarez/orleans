{
 "cells": [
  {
   "cell_type": "markdown",
   "metadata": {},
   "source": [
    "# Memory Based Collaborative Filtering"
   ]
  },
  {
   "cell_type": "markdown",
   "metadata": {},
   "source": [
    "- https://www.springer.com/gp/book/9783319296579\n",
    "- https://numpy.org/"
   ]
  },
  {
   "cell_type": "code",
   "execution_count": 1,
   "metadata": {},
   "outputs": [],
   "source": [
    "import numpy as np\n",
    "\n",
    "import matplotlib.pyplot as plt\n",
    "from matplotlib.figure import Figure\n",
    "from matplotlib.axes import Axes"
   ]
  },
  {
   "cell_type": "code",
   "execution_count": 77,
   "metadata": {},
   "outputs": [],
   "source": [
    "USERS: int = 10\n",
    "ITEMS: int = 15\n",
    "\n",
    "MIN_RATING: int = 0\n",
    "MAX_RATING: int = 5\n",
    "    \n",
    "MIN_SHARED_RATINGS: int = 3\n",
    "NOVELTY_DISCOUNT_RATE: float = 0.01\n",
    "MIN_RECOMMENDATION_RATING: int = 3\n",
    "ADJACENT_RATINGS: int = 5"
   ]
  },
  {
   "cell_type": "markdown",
   "metadata": {},
   "source": [
    "## User-Rating Matrix"
   ]
  },
  {
   "cell_type": "markdown",
   "metadata": {},
   "source": [
    "The ratings matrix is denoted by `R` and it is an `m` by `n` matrix containing `m` users and `n` items. The rating of user `u1` for item `i3` is denoted by `r13`."
   ]
  },
  {
   "cell_type": "markdown",
   "metadata": {},
   "source": [
    "$$ U = \\{ u_1, u_2 ... u_m \\} \\land |U| = m $$"
   ]
  },
  {
   "cell_type": "markdown",
   "metadata": {},
   "source": [
    "$$ I = \\{ i_1, i_2 ... i_n \\} \\land |I| = n $$"
   ]
  },
  {
   "cell_type": "markdown",
   "metadata": {},
   "source": [
    "$$ R = \\{ r_{1,1}, r_{1,2} ... r_{2,1}, r_{2,2} ... r_{m,n} \\} \\land |R| = m \\times n $$"
   ]
  },
  {
   "cell_type": "code",
   "execution_count": 3,
   "metadata": {},
   "outputs": [
    {
     "name": "stdout",
     "output_type": "stream",
     "text": [
      "[[ 1. nan  5.  5.  5.  2. nan nan  5. nan nan nan nan  1. nan]\n",
      " [nan nan nan nan  5. nan  5. nan nan nan nan nan nan  0. nan]\n",
      " [ 5.  2. nan nan  1. nan  2. nan nan nan  5.  5. nan  3.  5.]\n",
      " [ 3. nan nan  4.  1. nan  0. nan nan nan  2. nan nan nan nan]\n",
      " [nan  5. nan nan  4. nan  2. nan nan nan  1. nan  5.  1.  2.]\n",
      " [nan nan nan  2. nan  2.  0.  5.  0.  2.  5. nan  4. nan nan]\n",
      " [ 1.  5.  2.  2.  2.  1.  0. nan nan  5. nan  2. nan  5. nan]\n",
      " [nan nan nan  0.  5.  5. nan  4. nan nan  2. nan nan nan  5.]\n",
      " [ 1. nan  5. nan nan  4.  1.  5. nan nan  5.  0. nan  2.  5.]\n",
      " [nan  1. nan  2. nan  0. nan  3. nan nan  3. nan  3.  5. nan]]\n"
     ]
    }
   ],
   "source": [
    "ratings: np.array = MAX_RATING * np.random.randn(USERS, ITEMS)\n",
    "ratings[ratings < MIN_RATING] = np.nan\n",
    "ratings[ratings > MAX_RATING] = MAX_RATING\n",
    "ratings = np.floor(ratings)\n",
    "print(ratings)"
   ]
  },
  {
   "cell_type": "code",
   "execution_count": 4,
   "metadata": {},
   "outputs": [
    {
     "name": "stdout",
     "output_type": "stream",
     "text": [
      "[[False  True False False False False  True  True False  True  True  True\n",
      "   True False  True]\n",
      " [ True  True  True  True False  True False  True  True  True  True  True\n",
      "   True False  True]\n",
      " [False False  True  True False  True False  True  True  True False False\n",
      "   True False False]\n",
      " [False  True  True False False  True False  True  True  True False  True\n",
      "   True  True  True]\n",
      " [ True False  True  True False  True False  True  True  True False  True\n",
      "  False False False]\n",
      " [ True  True  True False  True False False False False False False  True\n",
      "  False  True  True]\n",
      " [False False False False False False False  True  True False  True False\n",
      "   True False  True]\n",
      " [ True  True  True False False False  True False  True  True False  True\n",
      "   True  True False]\n",
      " [False  True False  True  True False False False  True  True False False\n",
      "   True False False]\n",
      " [ True False  True False  True False  True False  True  True False  True\n",
      "  False False  True]]\n"
     ]
    }
   ],
   "source": [
    "missing: np.array = np.isnan(ratings)\n",
    "print(missing)"
   ]
  },
  {
   "cell_type": "markdown",
   "metadata": {},
   "source": [
    "## Views Matrix"
   ]
  },
  {
   "cell_type": "code",
   "execution_count": 5,
   "metadata": {},
   "outputs": [
    {
     "name": "stdout",
     "output_type": "stream",
     "text": [
      "[[ 0.  0. 10.  0.  0.  2.  0.  0.  0.  8.  2.  1.  4.  0.  0.]\n",
      " [ 8.  0.  0.  0.  0.  1.  0.  0.  0.  0.  0.  1.  0.  2.  0.]\n",
      " [ 0.  0.  6.  0.  2.  2.  3.  1.  1.  2.  1.  0.  0.  0.  0.]\n",
      " [ 0.  0.  0.  0.  0.  0.  0.  5.  0.  0.  0.  0.  2.  0.  0.]\n",
      " [ 0.  0.  0.  0.  3.  0.  1.  0.  4.  6.  1.  0.  1.  2.  0.]\n",
      " [ 0.  3.  0.  0.  0.  1.  0.  0.  1.  2.  1.  0.  1.  0.  0.]\n",
      " [ 3.  2.  0.  0.  1.  0.  1.  0.  0.  0.  0.  0.  0.  0.  1.]\n",
      " [ 0.  6.  3.  0.  0.  1.  0.  0.  0.  0.  0.  1.  1.  1.  3.]\n",
      " [ 1.  0.  1.  0.  3.  0.  1.  1.  0.  1.  0.  0.  0.  0.  1.]\n",
      " [ 8.  1.  0.  1.  1.  0.  0.  3.  0.  2.  0.  0.  1.  0.  0.]]\n"
     ]
    }
   ],
   "source": [
    "views: np.array = np.floor(np.random.lognormal(0, 1, ratings.size)).reshape(ratings.shape)\n",
    "print(views)"
   ]
  },
  {
   "cell_type": "markdown",
   "metadata": {},
   "source": [
    "## Normalization"
   ]
  },
  {
   "cell_type": "markdown",
   "metadata": {},
   "source": [
    "- https://en.wikipedia.org/wiki/Normalization_(statistics)"
   ]
  },
  {
   "cell_type": "markdown",
   "metadata": {},
   "source": [
    "In statistics and applications of statistics, normalization can have a range of meanings. In the simplest cases, normalization of ratings means adjusting values measured on different scales to a notionally common scale, often prior to averaging."
   ]
  },
  {
   "cell_type": "markdown",
   "metadata": {},
   "source": [
    "$$ \\bar{\\mu} = \\frac{\\sum\\limits^{^n}_{i=1} x_i}{n}\t $$"
   ]
  },
  {
   "cell_type": "markdown",
   "metadata": {},
   "source": [
    "$$ σ^2 = \\frac{\\sum\\limits^{^n}_{i=1} (x_i - \\bar{\\mu})^2}{n}\t $$"
   ]
  },
  {
   "cell_type": "markdown",
   "metadata": {},
   "source": [
    "$$ z = \\frac{x_i - \\bar{\\mu}}{σ}\t $$"
   ]
  },
  {
   "cell_type": "code",
   "execution_count": 6,
   "metadata": {},
   "outputs": [],
   "source": [
    "def get_normalized_matrix(matrix: np.array) -> tuple:\n",
    "    \"\"\"\n",
    "    Normalization Function.\n",
    "    Returns z-score of each element in the input matrix.\n",
    "    \"\"\"    \n",
    "    sample_size: np.array = np.sum(~np.isnan(matrix), axis=1)\n",
    "    sample_size[sample_size == 0] = 1    \n",
    "    mean: np.array = np.nansum(matrix, axis=1) / sample_size\n",
    "    mean = mean.reshape(mean.shape[0], 1)\n",
    "    variance: np.array = np.nansum(np.power(matrix - mean, 2), axis=1) / sample_size\n",
    "    variance = variance.reshape(variance.shape[0], 1)\n",
    "    variance[variance == 0] = 1\n",
    "    deviation: np.array = np.sqrt(variance)\n",
    "    normalized: np.array = (matrix - deviation) / deviation\n",
    "    return mean, deviation, normalized"
   ]
  },
  {
   "cell_type": "code",
   "execution_count": 7,
   "metadata": {},
   "outputs": [
    {
     "name": "stdout",
     "output_type": "stream",
     "text": [
      "ORIGINAL [[-0.21722402  1.40199002  4.11070025  3.07130611  3.93533514  6.18822122\n",
      "   6.94021132  6.75407262 10.9300675  11.69287465]\n",
      " [19.42680681 25.26639004 32.39626192 41.47101692 46.27925615 52.2750375\n",
      "  60.15181682 65.71939964 74.89980003 79.00474361]]\n",
      "NORMALIZED [[-1.05985441e+00 -6.13692414e-01  1.32671895e-01 -1.53725181e-01\n",
      "   8.43513832e-02  7.05116846e-01  9.12321946e-01  8.61032855e-01\n",
      "   2.01169618e+00  2.22188184e+00]\n",
      " [ 2.04847261e-03  3.03258317e-01  6.71022165e-01  1.13910446e+00\n",
      "   1.38711685e+00  1.69638351e+00  2.10267337e+00  2.38985324e+00\n",
      "   2.86338480e+00  3.07512071e+00]]\n"
     ]
    },
    {
     "data": {
      "image/png": "[encoded data removed]",
      "text/plain": [
       "<Figure size 432x288 with 4 Axes>"
      ]
     },
     "metadata": {
      "needs_background": "light"
     },
     "output_type": "display_data"
    }
   ],
   "source": [
    "x: np.array = np.vstack([\n",
    "    np.linspace(0, 10, 10) + np.random.normal(0, 1, 10),\n",
    "    20 + np.linspace(0, 60, 10) + np.random.normal(0, 1, 10),\n",
    "])\n",
    "mean, deviation, y = get_normalized_matrix(x)\n",
    "assert x.shape == y.shape\n",
    "print('ORIGINAL', x)\n",
    "print('NORMALIZED', y)\n",
    "grid = np.arange(x.shape[1])\n",
    "figure: Figure = plt.figure()\n",
    "axes: Axes = figure.add_subplot(2, 2, 1)\n",
    "axes.plot(grid, x[0].flat, 'o', color='blue')\n",
    "axes: Axes = figure.add_subplot(2, 2, 2)\n",
    "axes.plot(grid, y[0].flat, 'o', color='red')\n",
    "axes: Axes = figure.add_subplot(2, 2, 3)\n",
    "axes.plot(grid, x[1].flat, 'o', color='blue')\n",
    "axes: Axes = figure.add_subplot(2, 2, 4)\n",
    "axes.plot(grid, y[1].flat, 'o', color='red')\n",
    "plt.show()"
   ]
  },
  {
   "cell_type": "markdown",
   "metadata": {},
   "source": [
    "## Entropy"
   ]
  },
  {
   "cell_type": "markdown",
   "metadata": {},
   "source": [
    "- https://en.wikipedia.org/wiki/Entropy_(information_theory)"
   ]
  },
  {
   "cell_type": "markdown",
   "metadata": {},
   "source": [
    "In information theory, the entropy of a random variable is the average level of \"information\", \"surprise\", or \"uncertainty\" inherent in the variable's possible outcomes."
   ]
  },
  {
   "cell_type": "markdown",
   "metadata": {},
   "source": [
    "$$ H(x) = - \\sum\\limits^{^n}_{i=1} P(x_i) \\cdot log P(x_i) $$"
   ]
  },
  {
   "cell_type": "code",
   "execution_count": 8,
   "metadata": {},
   "outputs": [],
   "source": [
    "def get_entropy_array(matrix: np.array) -> np.array:\n",
    "    \"\"\"\n",
    "    Entropy Matrix.\n",
    "    \"\"\"\n",
    "    P: np.matrix = np.count_nonzero(~np.isnan(matrix.T), axis=1) / matrix.shape[0]\n",
    "    P[P == 0] = 1\n",
    "    return np.abs(np.log(P))"
   ]
  },
  {
   "cell_type": "code",
   "execution_count": 9,
   "metadata": {},
   "outputs": [
    {
     "name": "stdout",
     "output_type": "stream",
     "text": [
      "[[ 1. nan  3. nan nan]\n",
      " [ 4.  5. nan nan nan]\n",
      " [ 7.  8.  9.  5. nan]\n",
      " [ 7.  8.  9. nan nan]\n",
      " [ 7.  8.  9. nan nan]\n",
      " [ 7.  8.  9. nan nan]\n",
      " [ 7.  8.  9. nan nan]\n",
      " [ 1.  2.  2. nan nan]]\n",
      "[0.         0.13353139 0.13353139 2.07944154 0.        ]\n"
     ]
    }
   ],
   "source": [
    "X: np.array = np.array([\n",
    "    [1, np.nan, 3, np.nan, np.nan],\n",
    "    [4, 5, np.nan, np.nan, np.nan],\n",
    "    [7, 8, 9, 5, np.nan],\n",
    "    [7, 8, 9, np.nan, np.nan],\n",
    "    [7, 8, 9, np.nan, np.nan],\n",
    "    [7, 8, 9, np.nan, np.nan],\n",
    "    [7, 8, 9, np.nan, np.nan],\n",
    "    [1, 2, 2, np.nan, np.nan]\n",
    "])\n",
    "E: np.array = get_entropy_array(X)\n",
    "print(X)\n",
    "print(E)"
   ]
  },
  {
   "cell_type": "markdown",
   "metadata": {},
   "source": [
    "## Cosine Similarity"
   ]
  },
  {
   "cell_type": "markdown",
   "metadata": {},
   "source": [
    "- https://en.wikipedia.org/wiki/Cosine_similarity"
   ]
  },
  {
   "cell_type": "markdown",
   "metadata": {},
   "source": [
    "Cosine similarity is a measure of similarity between two non-zero vectors of an inner product space. It is defined to equal the cosine of the angle between them, which is also the same as the inner product of the same vectors normalized to both have length 1."
   ]
  },
  {
   "cell_type": "markdown",
   "metadata": {},
   "source": [
    "$$ cos(X, Y) = \\frac{X \\cdot Y}{ \\left \\Vert X \\right \\| \\cdot \\left \\Vert Y \\right \\| } = \\frac{ \\sum\\limits^{^n}_{i=1} X_i \\cdot Y_i }{ \\sqrt{\\sum\\limits^{^n}_{i=1} X_i^2} \\cdot \\sqrt{\\sum\\limits^{^n}_{i=1} Y_i^2} } $$"
   ]
  },
  {
   "cell_type": "code",
   "execution_count": 10,
   "metadata": {},
   "outputs": [],
   "source": [
    "def get_cosine(X: np.array, Y: np.array) -> float:\n",
    "    \"\"\"\n",
    "    Cosine Similarity function.\n",
    "    \"\"\"\n",
    "    union: np.array = ~np.isnan(np.sum([X, Y], axis=0))\n",
    "    if np.count_nonzero(union) == 0:\n",
    "        return 0\n",
    "    discount: float = min(MIN_SHARED_RATINGS, np.count_nonzero(union)) / MIN_SHARED_RATINGS\n",
    "    return discount * np.sum(X[union] * Y[union]) / \\\n",
    "        (max(0.0000001, np.sqrt(np.sum(np.power(X[union], 2)))) *\\\n",
    "         max(0.0000001, np.sqrt(np.sum(np.power(Y[union], 2)))))"
   ]
  },
  {
   "cell_type": "code",
   "execution_count": 11,
   "metadata": {},
   "outputs": [
    {
     "name": "stdout",
     "output_type": "stream",
     "text": [
      "[ 1. nan  2.  3.  4.  5.  6.  7.  8.  9.] [ 1.  3.  2.  2. nan  8.  9. 10. 11. 12.] 0.9929196160911488\n"
     ]
    },
    {
     "data": {
      "image/png": "[encoded data removed]",
      "text/plain": [
       "<Figure size 432x288 with 1 Axes>"
      ]
     },
     "metadata": {
      "needs_background": "light"
     },
     "output_type": "display_data"
    }
   ],
   "source": [
    "X: np.array = np.array([1, np.nan, 2, 3, 4, 5, 6, 7, 8, 9])\n",
    "Y: np.array = np.array([1, 3, 2, 2, np.nan, 8, 9, 10, 11, 12])\n",
    "print(X, Y, get_cosine(X, Y))\n",
    "figure: Figure = plt.figure()\n",
    "axes: Axes = figure.add_subplot()\n",
    "axes.plot(np.arange(X.shape[0]), X, 'x', color='blue')\n",
    "axes.plot(np.arange(Y.shape[0]), Y, '.', color='red')\n",
    "plt.show()"
   ]
  },
  {
   "cell_type": "code",
   "execution_count": 12,
   "metadata": {},
   "outputs": [
    {
     "name": "stdout",
     "output_type": "stream",
     "text": [
      "[ 1. nan  2.  3.  4.  5.  6.  7.  8.  9.] [ 10.  30.  20.  20.  nan  80.  90. 100. 110. 120.] 0.9929196160911488\n"
     ]
    },
    {
     "data": {
      "image/png": "[encoded data removed]",
      "text/plain": [
       "<Figure size 432x288 with 1 Axes>"
      ]
     },
     "metadata": {
      "needs_background": "light"
     },
     "output_type": "display_data"
    }
   ],
   "source": [
    "X: np.array = np.array([1, np.nan, 2, 3, 4, 5, 6, 7, 8, 9])\n",
    "Y: np.array = np.array([10, 30, 20, 20, np.nan, 80, 90, 100, 110, 120])\n",
    "print(X, Y, get_cosine(X, Y))\n",
    "figure: Figure = plt.figure()\n",
    "axes: Axes = figure.add_subplot()\n",
    "axes.plot(np.arange(X.shape[0]), X, 'x', color='blue')\n",
    "axes.plot(np.arange(Y.shape[0]), Y, '.', color='red')\n",
    "plt.show()"
   ]
  },
  {
   "cell_type": "code",
   "execution_count": 13,
   "metadata": {},
   "outputs": [
    {
     "name": "stdout",
     "output_type": "stream",
     "text": [
      "[ 1. nan  2.  3.  4.  5.  7.  9. 10.] [100.  65.  32.  24.  nan  10.   7.   4.   2.] 0.21975098781417202\n"
     ]
    },
    {
     "data": {
      "image/png": "[encoded data removed]",
      "text/plain": [
       "<Figure size 432x288 with 1 Axes>"
      ]
     },
     "metadata": {
      "needs_background": "light"
     },
     "output_type": "display_data"
    }
   ],
   "source": [
    "X: np.array = np.array([1, np.nan, 2, 3, 4, 5, 7, 9, 10])\n",
    "Y: np.array = np.array([100, 65, 32, 24, np.nan, 10, 7, 4, 2])\n",
    "print(X, Y, get_cosine(X, Y))\n",
    "figure: Figure = plt.figure()\n",
    "axes: Axes = figure.add_subplot()\n",
    "axes.plot(np.arange(X.shape[0]), X, 'x', color='blue')\n",
    "axes.plot(np.arange(Y.shape[0]), Y, 'o', color='red')\n",
    "plt.show()"
   ]
  },
  {
   "cell_type": "markdown",
   "metadata": {},
   "source": [
    "## Similarity Matrix"
   ]
  },
  {
   "cell_type": "code",
   "execution_count": 14,
   "metadata": {},
   "outputs": [],
   "source": [
    "def get_similarity_matrix(matrix: np.array) -> np.array:\n",
    "    \"\"\"\n",
    "    Get similarity matrix out of a given matrix.\n",
    "    \"\"\"\n",
    "    correlations: np.array = np.stack([\n",
    "        [\n",
    "            0 if i >= j else get_cosine(x, y)\n",
    "            for j, y in enumerate(matrix)\n",
    "        ]\n",
    "        for i, x in enumerate(matrix)\n",
    "    ])\n",
    "    return correlations + correlations.T"
   ]
  },
  {
   "cell_type": "code",
   "execution_count": 15,
   "metadata": {},
   "outputs": [
    {
     "name": "stdout",
     "output_type": "stream",
     "text": [
      "[[1 2 3]\n",
      " [4 5 6]\n",
      " [7 8 9]]\n",
      "[[0.         0.97463185 0.95941195]\n",
      " [0.97463185 0.         0.99819089]\n",
      " [0.95941195 0.99819089 0.        ]]\n"
     ]
    }
   ],
   "source": [
    "X: np.array = np.array([ [1, 2, 3], [4, 5, 6], [7, 8, 9] ])\n",
    "S: np.array = get_similarity_matrix(X)\n",
    "print(X)\n",
    "print(S)"
   ]
  },
  {
   "cell_type": "markdown",
   "metadata": {},
   "source": [
    "## Top K-Similar Rows"
   ]
  },
  {
   "cell_type": "markdown",
   "metadata": {},
   "source": [
    "- https://en.wikipedia.org/wiki/Adjacency_matrix\n",
    "- https://numpy.org/doc/stable/reference/generated/numpy.argsort.html"
   ]
  },
  {
   "cell_type": "markdown",
   "metadata": {},
   "source": [
    "In graph theory and computer science, an adjacency matrix is a square matrix used to represent a finite graph. The elements of the matrix indicate whether pairs of vertices are adjacent or not in the graph."
   ]
  },
  {
   "cell_type": "code",
   "execution_count": 16,
   "metadata": {},
   "outputs": [],
   "source": [
    "def get_adjacency_matrix(similar: np.array, k: int = ADJACENT_RATINGS) -> np.array:\n",
    "    \"\"\"\n",
    "    Get top k similar rows of a similarity matrix.\n",
    "    \"\"\"\n",
    "    closest: np.array = np.argsort(similar)\n",
    "    return closest[:, closest.shape[1] - k:]"
   ]
  },
  {
   "cell_type": "code",
   "execution_count": 17,
   "metadata": {},
   "outputs": [
    {
     "name": "stdout",
     "output_type": "stream",
     "text": [
      "[[0 2 3 1]\n",
      " [8 0 6 1]\n",
      " [7 6 0 2]\n",
      " [2 3 1 0]]\n",
      "[[1 2]\n",
      " [2 0]\n",
      " [1 0]\n",
      " [0 1]]\n"
     ]
    }
   ],
   "source": [
    "X: np.array = np.array([ [0, 2, 3, 1], [8, 0, 6, 1], [7, 6, 0, 2], [2, 3, 1, 0] ])\n",
    "S: np.array = get_adjacency_matrix(X, 2)\n",
    "print(X)\n",
    "print(S)"
   ]
  },
  {
   "cell_type": "markdown",
   "metadata": {},
   "source": [
    "## Collaborative Filtering"
   ]
  },
  {
   "cell_type": "markdown",
   "metadata": {},
   "source": [
    "Filling the collaborative filtering matrix with ratings from similar rows. The predicted value is the weighted sum of the adjacent rows. Values are denormalized so that the approximate user scores. Entropy is applied to promote novelty across recommendations."
   ]
  },
  {
   "cell_type": "markdown",
   "metadata": {},
   "source": [
    "$$ \\hat{R_{i,j}} = \\mu + σ \\cdot \\frac{ \\sum\\limits^{^n}_{u=1} w_u \\cdot R_{u,j} }{ \\sum\\limits^{^n}_{u=1} w_u } $$"
   ]
  },
  {
   "cell_type": "code",
   "execution_count": 18,
   "metadata": {},
   "outputs": [],
   "source": [
    "def get_collaborative_filtering(ratings: np.array, normalized: np.array, mean: np.array, deviation: np.array, entropy: np.array, adjacent: np.array, similarity: np.array) -> np.matrix:\n",
    "    \"\"\"\n",
    "    Collaborative Filtering function.\n",
    "    \"\"\"\n",
    "    recommendations: np.array = np.zeros(ratings.shape)\n",
    "    for i in range(normalized.shape[0]):\n",
    "        for j in range(normalized.shape[1]):\n",
    "            recommendations[i, j] = ratings[i][j]\n",
    "            if np.isnan(normalized[i][j]):\n",
    "                total: float = 0\n",
    "                weights: float = 0\n",
    "                y_hat: float = np.nan\n",
    "                for k in adjacent[i]:\n",
    "                    if np.isnan(normalized[k][j]):\n",
    "                        continue\n",
    "                    weight: float = similarity[i][k] * entropy[k]\n",
    "                    weights += weight\n",
    "                    total += normalized[k][j] * weight\n",
    "                if weights > 0:\n",
    "                    y_hat: float = mean[i].flat[0] + deviation[i].flat[0] * total / weights\n",
    "                recommendations[i, j] = y_hat\n",
    "    return recommendations"
   ]
  },
  {
   "cell_type": "markdown",
   "metadata": {},
   "source": [
    "## Novelty"
   ]
  },
  {
   "cell_type": "markdown",
   "metadata": {},
   "source": [
    "- http://ir.ii.uam.es/saul/pubs/fdia11-vargas.pdf"
   ]
  },
  {
   "cell_type": "markdown",
   "metadata": {},
   "source": [
    "In case we consider an item in a recommendation list, the probability of been discovered, i.e. p(seen|i, R), can be simplified by a decreasing discount function disc. Novelty of an item as the probability of not having been seen. In case we were interested in emphasize highly novel items, a discount rate `d` is applied on `t` times seen."
   ]
  },
  {
   "cell_type": "markdown",
   "metadata": {},
   "source": [
    "$$ \\hat{R_{u,i}} = R_{u,i} \\cdot P(seen/u,i) $$"
   ]
  },
  {
   "cell_type": "markdown",
   "metadata": {},
   "source": [
    "$$ P(seen/u,i) = \\frac{1}{(1 + d)^t} $$"
   ]
  },
  {
   "cell_type": "code",
   "execution_count": 19,
   "metadata": {},
   "outputs": [
    {
     "name": "stdout",
     "output_type": "stream",
     "text": [
      "[1.         0.99009901 0.98029605 0.97059015 0.96098034 0.95146569\n",
      " 0.94204524 0.93271805 0.92348322 0.91433982 0.90528695 0.89632372\n",
      " 0.88744923 0.8786626  0.86996297]\n"
     ]
    },
    {
     "data": {
      "image/png": "[encoded data removed]",
      "text/plain": [
       "<Figure size 432x288 with 1 Axes>"
      ]
     },
     "metadata": {
      "needs_background": "light"
     },
     "output_type": "display_data"
    }
   ],
   "source": [
    "dicount: float = 0.01\n",
    "X: np.array = 1 / (1 + dicount) ** np.arange(1000)\n",
    "print(X[:15])\n",
    "figure: Figure = plt.figure()\n",
    "axes: Axes = figure.add_subplot()\n",
    "axes.plot(np.arange(X.shape[0]), X, '.', color='blue')\n",
    "plt.show()"
   ]
  },
  {
   "cell_type": "code",
   "execution_count": 20,
   "metadata": {},
   "outputs": [],
   "source": [
    "def get_novelty_matrix(recommendations: np.array, views: np.array) -> np.array:\n",
    "    \"\"\"\n",
    "    Apply novelty to recommendations.\n",
    "    \"\"\"\n",
    "    return recommendations / (1 + NOVELTY_DISCOUNT_RATE) ** views"
   ]
  },
  {
   "cell_type": "code",
   "execution_count": 21,
   "metadata": {},
   "outputs": [
    {
     "name": "stdout",
     "output_type": "stream",
     "text": [
      "0.01\n",
      "[[2.85439706 5.         2.9576897 ]\n",
      " [2.         1.81057391 1.63908894]\n",
      " [0.99009901 0.         1.84855606]]\n"
     ]
    }
   ],
   "source": [
    "X: np.array = np.array([\n",
    "    [3, 5, 8],\n",
    "    [2, 2, 2],\n",
    "    [1, 0, 5],\n",
    "])\n",
    "V: np.array = np.array([\n",
    "    [5, 0, 100],\n",
    "    [0, 10, 20],\n",
    "    [1, 0, 100],\n",
    "])\n",
    "Y:np.array = get_novelty_matrix(X, V)\n",
    "print(NOVELTY_DISCOUNT_RATE)\n",
    "print(Y)"
   ]
  },
  {
   "cell_type": "markdown",
   "metadata": {},
   "source": [
    "## User-Based Collaborative Filtering"
   ]
  },
  {
   "cell_type": "markdown",
   "metadata": {},
   "source": [
    "#### User-User Matrix"
   ]
  },
  {
   "cell_type": "code",
   "execution_count": 22,
   "metadata": {},
   "outputs": [
    {
     "name": "stdout",
     "output_type": "stream",
     "text": [
      "(10, 15)\n",
      "[[ 1. nan  5.  5.  5.  2. nan nan  5. nan nan nan nan  1. nan]\n",
      " [nan nan nan nan  5. nan  5. nan nan nan nan nan nan  0. nan]\n",
      " [ 5.  2. nan nan  1. nan  2. nan nan nan  5.  5. nan  3.  5.]\n",
      " [ 3. nan nan  4.  1. nan  0. nan nan nan  2. nan nan nan nan]\n",
      " [nan  5. nan nan  4. nan  2. nan nan nan  1. nan  5.  1.  2.]\n",
      " [nan nan nan  2. nan  2.  0.  5.  0.  2.  5. nan  4. nan nan]\n",
      " [ 1.  5.  2.  2.  2.  1.  0. nan nan  5. nan  2. nan  5. nan]\n",
      " [nan nan nan  0.  5.  5. nan  4. nan nan  2. nan nan nan  5.]\n",
      " [ 1. nan  5. nan nan  4.  1.  5. nan nan  5.  0. nan  2.  5.]\n",
      " [nan  1. nan  2. nan  0. nan  3. nan nan  3. nan  3.  5. nan]]\n"
     ]
    }
   ],
   "source": [
    "user_user: np.matrix = np.copy(ratings)\n",
    "print(user_user.shape)\n",
    "print(user_user)"
   ]
  },
  {
   "cell_type": "markdown",
   "metadata": {},
   "source": [
    "#### User-User Normalized Matrix"
   ]
  },
  {
   "cell_type": "code",
   "execution_count": 23,
   "metadata": {},
   "outputs": [
    {
     "name": "stdout",
     "output_type": "stream",
     "text": [
      "(10, 15)\n",
      "[[-0.45669463         nan  1.71652684  1.71652684  1.71652684  0.08661074\n",
      "          nan         nan  1.71652684         nan         nan         nan\n",
      "          nan -0.45669463         nan]\n",
      " [        nan         nan         nan         nan  1.12132034         nan\n",
      "   1.12132034         nan         nan         nan         nan         nan\n",
      "          nan -1.                 nan]\n",
      " [ 2.16227766  0.26491106         nan         nan -0.36754447         nan\n",
      "   0.26491106         nan         nan         nan  2.16227766  2.16227766\n",
      "          nan  0.8973666   2.16227766]\n",
      " [ 1.12132034         nan         nan  1.82842712 -0.29289322         nan\n",
      "  -1.                 nan         nan         nan  0.41421356         nan\n",
      "          nan         nan         nan]\n",
      " [        nan  2.04635898         nan         nan  1.43708718         nan\n",
      "   0.21854359         nan         nan         nan -0.3907282          nan\n",
      "   2.04635898 -0.3907282   0.21854359]\n",
      " [        nan         nan         nan  0.06904497         nan  0.06904497\n",
      "  -1.          1.67261242 -1.          0.06904497  1.67261242         nan\n",
      "   1.13808994         nan         nan]\n",
      " [-0.42740167  1.86299167  0.14519667  0.14519667  0.14519667 -0.42740167\n",
      "  -1.                 nan         nan  1.86299167         nan  0.14519667\n",
      "          nan  1.86299167         nan]\n",
      " [        nan         nan         nan -1.          1.64135272  1.64135272\n",
      "          nan  1.11308218         nan         nan  0.05654109         nan\n",
      "          nan         nan  1.64135272]\n",
      " [-0.49210062         nan  1.53949692         nan         nan  1.03159753\n",
      "  -0.49210062  1.53949692         nan         nan  1.53949692 -1.\n",
      "          nan  0.01579877  1.53949692]\n",
      " [        nan -0.33257619         nan  0.33484762         nan -1.\n",
      "          nan  1.00227144         nan         nan  1.00227144         nan\n",
      "   1.00227144  2.33711906         nan]]\n"
     ]
    }
   ],
   "source": [
    "mean, deviation, normalized = get_normalized_matrix(user_user)\n",
    "print(normalized.shape)\n",
    "print(normalized)"
   ]
  },
  {
   "cell_type": "markdown",
   "metadata": {},
   "source": [
    "#### User-User Similarity Matrix"
   ]
  },
  {
   "cell_type": "code",
   "execution_count": 24,
   "metadata": {},
   "outputs": [
    {
     "name": "stdout",
     "output_type": "stream",
     "text": [
      "(10, 10)\n",
      "[[ 0.          0.59491054 -0.46666736  0.39715224  0.66665681 -0.6523019\n",
      "   0.00916065  0.20247175  0.8377795  -0.12702141]\n",
      " [ 0.59491054  0.         -0.53722173 -0.58490347  0.79635019 -0.33333333\n",
      "  -0.71010669  0.33333333 -0.51153351 -0.33333333]\n",
      " [-0.46666736 -0.53722173  0.          0.64522565 -0.07815627  0.5263519\n",
      "   0.13400525  0.42901782  0.30030672  0.69118012]\n",
      " [ 0.39715224 -0.58490347  0.64522565  0.         -0.47475545  0.43903929\n",
      "   0.28180216 -0.62648127  0.21950705  0.34573229]\n",
      " [ 0.66665681  0.79635019 -0.07815627 -0.47475545  0.          0.30817829\n",
      "   0.42890938  0.77121991 -0.26803104  0.00809148]\n",
      " [-0.6523019  -0.33333333  0.5263519   0.43903929  0.30817829  0.\n",
      "   0.50937507  0.3803525   0.90440463  0.833575  ]\n",
      " [ 0.00916065 -0.71010669  0.13400525  0.28180216  0.42890938  0.50937507\n",
      "   0.         -0.50765308  0.07538747  0.60922281]\n",
      " [ 0.20247175  0.33333333  0.42901782 -0.62648127  0.77121991  0.3803525\n",
      "  -0.50765308  0.          0.81781791 -0.20481185]\n",
      " [ 0.8377795  -0.51153351  0.30030672  0.21950705 -0.26803104  0.90440463\n",
      "   0.07538747  0.81781791  0.          0.29823738]\n",
      " [-0.12702141 -0.33333333  0.69118012  0.34573229  0.00809148  0.833575\n",
      "   0.60922281 -0.20481185  0.29823738  0.        ]]\n"
     ]
    }
   ],
   "source": [
    "similarity: np.array = get_similarity_matrix(normalized)\n",
    "print(similarity.shape)\n",
    "print(similarity)"
   ]
  },
  {
   "cell_type": "markdown",
   "metadata": {},
   "source": [
    "#### User-User Adjacency Matrix"
   ]
  },
  {
   "cell_type": "code",
   "execution_count": 25,
   "metadata": {},
   "outputs": [
    {
     "name": "stdout",
     "output_type": "stream",
     "text": [
      "(10, 5)\n",
      "[[7 3 1 4 8]\n",
      " [9 1 7 0 4]\n",
      " [8 7 5 3 9]\n",
      " [6 9 0 5 2]\n",
      " [5 6 0 7 1]\n",
      " [3 6 2 9 8]\n",
      " [2 3 4 5 9]\n",
      " [1 5 2 4 8]\n",
      " [9 2 7 0 5]\n",
      " [8 3 6 2 5]]\n"
     ]
    }
   ],
   "source": [
    "adjacent: np.array = get_adjacency_matrix(similarity)\n",
    "print(adjacent.shape)\n",
    "print(adjacent)"
   ]
  },
  {
   "cell_type": "markdown",
   "metadata": {},
   "source": [
    "#### Users Entropy Matrix"
   ]
  },
  {
   "cell_type": "code",
   "execution_count": 26,
   "metadata": {},
   "outputs": [
    {
     "name": "stdout",
     "output_type": "stream",
     "text": [
      "(10,)\n",
      "[0.76214005 1.60943791 0.62860866 1.09861229 0.76214005 0.62860866\n",
      " 0.40546511 0.91629073 0.51082562 0.76214005]\n"
     ]
    }
   ],
   "source": [
    "entropy: np.array = get_entropy_array(user_user.T)\n",
    "print(entropy.shape)\n",
    "print(entropy)"
   ]
  },
  {
   "cell_type": "markdown",
   "metadata": {},
   "source": [
    "#### User-User Collaborative Filtering"
   ]
  },
  {
   "cell_type": "code",
   "execution_count": 27,
   "metadata": {},
   "outputs": [
    {
     "name": "stdout",
     "output_type": "stream",
     "text": [
      "[[ 1.          7.19507016  5.          5.          5.          2.\n",
      "   3.85340264  6.02480006  5.                 nan  4.19833856  1.5879859\n",
      "   7.19507016  1.          5.19173302]\n",
      " [ 2.25689376 12.19336465  7.3792259   5.14402727  5.          7.04374344\n",
      "   5.          7.24821632  7.3792259          nan  1.63443975         nan\n",
      "   9.92831678  0.          4.97112529]\n",
      " [ 5.          2.          5.93415835  4.38934089  1.          3.83729993\n",
      "   2.          5.47633236  1.91886117  3.60916968  5.          5.\n",
      "   5.16757746  3.          5.        ]\n",
      " [ 3.          2.4200675   3.81856     4.          1.          1.60511279\n",
      "   0.          3.90240036  2.5952965   2.84046703  2.          4.43094251\n",
      "   3.51568706  3.37304427  5.05792239]\n",
      " [ 2.11982832  5.          5.01683417  3.06885126  4.          4.04263741\n",
      "   2.          4.88163937  4.44374503  4.36331863  1.          3.09545467\n",
      "   5.          1.          2.        ]\n",
      " [ 3.68767782  2.91659302  4.57426938  2.          2.07272921  2.\n",
      "   0.          5.          0.          2.          5.          3.03056256\n",
      "   4.          4.98775292  5.86634952]\n",
      " [ 1.          5.          2.          2.          2.          1.\n",
      "   0.          4.72821242  0.75357508  5.          3.87324776  2.\n",
      "   4.85504015  5.          3.57719716]\n",
      " [ 4.53963413  6.31308045  6.41422063  0.          5.          5.\n",
      "   3.82933051  4.          1.60703055  3.63070001  2.          3.95536683\n",
      "   6.87654522  2.95925067  5.        ]\n",
      " [ 1.          2.99003894  5.          3.52768359  5.92912171  4.\n",
      "   1.          5.          3.97156073  3.24705333  5.          0.\n",
      "   5.27551188  2.          5.        ]\n",
      " [ 3.89126246  1.          3.44304607  2.          2.09671281  0.\n",
      "   1.47086609  3.          0.93027307  3.39316757  3.          3.90735886\n",
      "   3.          5.          5.42606251]]\n"
     ]
    }
   ],
   "source": [
    "recommendations: np.matrix = get_collaborative_filtering(ratings=user_user,\n",
    "                                                         normalized=normalized,\n",
    "                                                         mean=mean,\n",
    "                                                         deviation=deviation,\n",
    "                                                         similarity=similarity,\n",
    "                                                         entropy=entropy,\n",
    "                                                         adjacent=adjacent)\n",
    "print(recommendations)"
   ]
  },
  {
   "cell_type": "markdown",
   "metadata": {},
   "source": [
    "#### User-User Novelty Recommendations"
   ]
  },
  {
   "cell_type": "code",
   "execution_count": 28,
   "metadata": {},
   "outputs": [
    {
     "name": "stdout",
     "output_type": "stream",
     "text": [
      "[[ 1.          7.19507016  4.52643477  5.          5.          1.9605921\n",
      "   3.85340264  6.02480006  5.                 nan  4.11561471  1.57226326\n",
      "   6.914321    1.          5.19173302]\n",
      " [ 2.08420352 12.19336465  7.3792259   5.14402727  5.          6.97400341\n",
      "   5.          7.24821632  7.3792259          nan  1.63443975         nan\n",
      "   9.92831678  0.          4.97112529]\n",
      " [ 5.          2.          5.5902456   4.38934089  0.98029605  3.76168996\n",
      "   1.9411803   5.42211125  1.89986254  3.53805478  4.95049505  5.\n",
      "   5.16757746  3.          5.        ]\n",
      " [ 3.          2.4200675   3.81856     4.          1.          1.60511279\n",
      "   0.          3.71300004  2.5952965   2.84046703  2.          4.43094251\n",
      "   3.44641413  3.37304427  5.05792239]\n",
      " [ 2.11982832  5.          5.01683417  3.06885126  3.88236059  4.04263741\n",
      "   1.98019802  4.88163937  4.27035163  4.11044353  0.99009901  3.09545467\n",
      "   4.95049505  0.98029605  2.        ]\n",
      " [ 3.68767782  2.83081645  4.57426938  2.          2.07272921  1.98019802\n",
      "   0.          5.          0.          1.9605921   4.95049505  3.03056256\n",
      "   3.96039604  4.98775292  5.86634952]\n",
      " [ 0.97059015  4.90148025  2.          2.          1.98019802  1.\n",
      "   0.          4.72821242  0.75357508  5.          3.87324776  2.\n",
      "   4.85504015  5.          3.54177937]\n",
      " [ 4.53963413  5.94720736  6.22557935  0.          5.          4.95049505\n",
      "   3.82933051  4.          1.60703055  3.63070001  2.          3.91620479\n",
      "   6.80846061  2.92995116  4.85295074]\n",
      " [ 0.99009901  2.99003894  4.95049505  3.52768359  5.75474712  4.\n",
      "   0.99009901  4.95049505  3.97156073  3.21490428  5.          0.\n",
      "   5.27551188  2.          4.95049505]\n",
      " [ 3.5935156   0.99009901  3.44304607  1.98019802  2.07595328  0.\n",
      "   1.47086609  2.91177044  0.93027307  3.32630877  3.          3.90735886\n",
      "   2.97029703  5.          5.42606251]]\n"
     ]
    }
   ],
   "source": [
    "recommendations: np.matrix = get_novelty_matrix(recommendations, views)\n",
    "print(recommendations)"
   ]
  },
  {
   "cell_type": "markdown",
   "metadata": {},
   "source": [
    "## Memory-Based Collaborative Filtering"
   ]
  },
  {
   "cell_type": "markdown",
   "metadata": {},
   "source": [
    "#### Item-Item Matrix"
   ]
  },
  {
   "cell_type": "code",
   "execution_count": 29,
   "metadata": {},
   "outputs": [
    {
     "name": "stdout",
     "output_type": "stream",
     "text": [
      "(15, 10)\n",
      "[[ 1. nan  5.  3. nan nan  1. nan  1. nan]\n",
      " [nan nan  2. nan  5. nan  5. nan nan  1.]\n",
      " [ 5. nan nan nan nan nan  2. nan  5. nan]\n",
      " [ 5. nan nan  4. nan  2.  2.  0. nan  2.]\n",
      " [ 5.  5.  1.  1.  4. nan  2.  5. nan nan]\n",
      " [ 2. nan nan nan nan  2.  1.  5.  4.  0.]\n",
      " [nan  5.  2.  0.  2.  0.  0. nan  1. nan]\n",
      " [nan nan nan nan nan  5. nan  4.  5.  3.]\n",
      " [ 5. nan nan nan nan  0. nan nan nan nan]\n",
      " [nan nan nan nan nan  2.  5. nan nan nan]\n",
      " [nan nan  5.  2.  1.  5. nan  2.  5.  3.]\n",
      " [nan nan  5. nan nan nan  2. nan  0. nan]\n",
      " [nan nan nan nan  5.  4. nan nan nan  3.]\n",
      " [ 1.  0.  3. nan  1. nan  5. nan  2.  5.]\n",
      " [nan nan  5. nan  2. nan nan  5.  5. nan]]\n"
     ]
    }
   ],
   "source": [
    "item_item: np.array = np.copy(ratings.T)\n",
    "print(item_item.shape)\n",
    "print(item_item)"
   ]
  },
  {
   "cell_type": "markdown",
   "metadata": {},
   "source": [
    "#### Item-Item Normalized Matrix"
   ]
  },
  {
   "cell_type": "code",
   "execution_count": 30,
   "metadata": {},
   "outputs": [
    {
     "name": "stdout",
     "output_type": "stream",
     "text": [
      "(15, 10)\n",
      "[[-0.375              nan  2.125       0.875              nan         nan\n",
      "  -0.375              nan -0.375              nan]\n",
      " [        nan         nan  0.12022407         nan  1.80056017         nan\n",
      "   1.80056017         nan         nan -0.43988797]\n",
      " [ 2.53553391         nan         nan         nan         nan         nan\n",
      "   0.41421356         nan  2.53553391         nan]\n",
      " [ 2.11085508         nan         nan  1.48868407         nan  0.24434203\n",
      "   0.24434203 -1.                 nan  0.24434203]\n",
      " [ 1.85773803  1.85773803 -0.42845239 -0.42845239  1.28619043         nan\n",
      "   0.14309521  1.85773803         nan         nan]\n",
      " [ 0.17669681         nan         nan         nan         nan  0.17669681\n",
      "  -0.41165159  1.94174203  1.35339362 -1.        ]\n",
      " [        nan  1.97939786  0.19175914 -1.          0.19175914 -1.\n",
      "  -1.                 nan -0.40412043         nan]\n",
      " [        nan         nan         nan         nan         nan  5.03022689\n",
      "          nan  3.82418151  5.03022689  2.61813613]\n",
      " [ 1.                 nan         nan         nan         nan -1.\n",
      "          nan         nan         nan         nan]\n",
      " [        nan         nan         nan         nan         nan  0.33333333\n",
      "   2.33333333         nan         nan         nan]\n",
      " [        nan         nan  2.16875111  0.26750044 -0.36624978  2.16875111\n",
      "          nan  0.26750044  2.16875111  0.90125067]\n",
      " [        nan         nan  1.43332132         nan         nan         nan\n",
      "  -0.02667147         nan -1.                 nan]\n",
      " [        nan         nan         nan         nan  5.12372436  3.89897949\n",
      "          nan         nan         nan  2.67423461]\n",
      " [-0.45669463 -1.          0.6299161          nan -0.45669463         nan\n",
      "   1.71652684         nan  0.08661074  1.71652684]\n",
      " [        nan         nan  2.84900179         nan  0.53960072         nan\n",
      "          nan  2.84900179  2.84900179         nan]]\n"
     ]
    }
   ],
   "source": [
    "mean, deviation, normalized = get_normalized_matrix(item_item)\n",
    "print(normalized.shape)\n",
    "print(normalized)"
   ]
  },
  {
   "cell_type": "markdown",
   "metadata": {},
   "source": [
    "#### Item-Item Similarity Matrix"
   ]
  },
  {
   "cell_type": "code",
   "execution_count": 31,
   "metadata": {},
   "outputs": [
    {
     "name": "stdout",
     "output_type": "stream",
     "text": [
      "(15, 15)\n",
      "[[ 0.         -0.07186064 -0.8773552   0.15798714 -0.44052848 -0.45295184\n",
      "   0.01687495 -0.33333333 -0.33333333 -0.33333333  0.56207328  0.89619637\n",
      "   0.          0.19886071  0.38230823]\n",
      " [-0.07186064  0.          0.33333333  0.34605977  0.72573468 -0.10021712\n",
      "  -0.54224748 -0.33333333  0.          0.33333333 -0.18010748  0.03203126\n",
      "   0.50091739  0.24096932  0.16742428]\n",
      " [-0.8773552   0.33333333  0.          0.66594012  0.66425649  0.72078264\n",
      "  -0.34617425  0.33333333  0.33333333  0.33333333  0.33333333 -0.66057683\n",
      "   0.         -0.03541746  0.33333333]\n",
      " [ 0.15798714  0.34605977  0.66594012  0.          0.19707614 -0.35232\n",
      "  -0.74701435 -0.27020523  0.4140722   0.53333333  0.20274666 -0.33333333\n",
      "   0.65538735 -0.02369217 -0.33333333]\n",
      " [-0.44052848  0.72573468  0.66425649  0.19707614  0.          0.7393601\n",
      "   0.71938284  0.33333333  0.33333333  0.33333333 -0.19497436 -0.63615213\n",
      "   0.33333333 -0.51376062  0.50980415]\n",
      " [-0.45295184 -0.10021712  0.72078264 -0.35232     0.7393601   0.\n",
      "  -0.14878748  0.57182985  0.         -0.56927024  0.35542682 -0.63241635\n",
      "  -0.27566702 -0.5545077   0.65628742]\n",
      " [ 0.01687495 -0.54224748 -0.34617425 -0.74701435  0.71938284 -0.14878748\n",
      "   0.         -0.61369099  0.33333333 -0.53333333 -0.52431428  0.3685239\n",
      "  -0.29657646 -0.76273427 -0.2535121 ]\n",
      " [-0.33333333 -0.33333333  0.33333333 -0.27020523  0.33333333  0.57182985\n",
      "  -0.61369099  0.         -0.33333333  0.33333333  0.92528063 -0.33333333\n",
      "   0.66176898  0.33720158  0.66056716]\n",
      " [-0.33333333  0.          0.33333333  0.4140722   0.33333333  0.\n",
      "   0.33333333 -0.33333333  0.         -0.33333333 -0.33333333  0.\n",
      "  -0.33333333 -0.33333333  0.        ]\n",
      " [-0.33333333  0.33333333  0.33333333  0.53333333  0.33333333 -0.56927024\n",
      "  -0.53333333  0.33333333 -0.33333333  0.          0.33333333 -0.33333333\n",
      "   0.33333333  0.33333333  0.        ]\n",
      " [ 0.56207328 -0.18010748  0.33333333  0.20274666 -0.19497436  0.35542682\n",
      "  -0.52431428  0.92528063 -0.33333333  0.33333333  0.          0.11687998\n",
      "   0.54246426  0.53838268  0.83960419]\n",
      " [ 0.89619637  0.03203126 -0.66057683 -0.33333333 -0.63615213 -0.63241635\n",
      "   0.3685239  -0.33333333  0.         -0.33333333  0.11687998  0.\n",
      "   0.          0.24081026  0.11687998]\n",
      " [ 0.          0.50091739  0.          0.65538735  0.33333333 -0.27566702\n",
      "  -0.29657646  0.66176898 -0.33333333  0.33333333  0.54246426  0.\n",
      "   0.          0.14614035  0.33333333]\n",
      " [ 0.19886071  0.24096932 -0.03541746 -0.02369217 -0.51376062 -0.5545077\n",
      "  -0.76273427  0.33720158 -0.33333333  0.33333333  0.53838268  0.24081026\n",
      "   0.14614035  0.          0.56403045]\n",
      " [ 0.38230823  0.16742428  0.33333333 -0.33333333  0.50980415  0.65628742\n",
      "  -0.2535121   0.66056716  0.          0.          0.83960419  0.11687998\n",
      "   0.33333333  0.56403045  0.        ]]\n"
     ]
    }
   ],
   "source": [
    "similarity: np.array = get_similarity_matrix(normalized)\n",
    "print(similarity.shape)\n",
    "print(similarity)"
   ]
  },
  {
   "cell_type": "markdown",
   "metadata": {},
   "source": [
    "#### Item-Item Adjacency Matrix"
   ]
  },
  {
   "cell_type": "code",
   "execution_count": 32,
   "metadata": {},
   "outputs": [
    {
     "name": "stdout",
     "output_type": "stream",
     "text": [
      "(15, 5)\n",
      "[[ 3 13 14 10 11]\n",
      " [ 2  9  3 12  4]\n",
      " [10 14  4  3  5]\n",
      " [ 1  8  9 12  2]\n",
      " [14  2  6  1  5]\n",
      " [10  7 14  2  4]\n",
      " [ 6  0  8 11  4]\n",
      " [13  5 14 12 10]\n",
      " [14  2  4  6  3]\n",
      " [ 7 10 12 13  3]\n",
      " [13 12  0 14  7]\n",
      " [10 14 13  6  0]\n",
      " [14  1 10  3  7]\n",
      " [ 1  9  7 10 14]\n",
      " [ 4 13  5  7 10]]\n"
     ]
    }
   ],
   "source": [
    "adjacent: np.array = get_adjacency_matrix(similarity)\n",
    "print(adjacent.shape)\n",
    "print(adjacent)"
   ]
  },
  {
   "cell_type": "markdown",
   "metadata": {},
   "source": [
    "#### Items Entropy Matrix"
   ]
  },
  {
   "cell_type": "code",
   "execution_count": 33,
   "metadata": {},
   "outputs": [
    {
     "name": "stdout",
     "output_type": "stream",
     "text": [
      "(15,)\n",
      "[0.69314718 0.91629073 1.2039728  0.51082562 0.35667494 0.51082562\n",
      " 0.35667494 0.91629073 1.60943791 1.60943791 0.35667494 1.2039728\n",
      " 1.2039728  0.35667494 0.91629073]\n"
     ]
    }
   ],
   "source": [
    "entropy: np.array = get_entropy_array(item_item.T)\n",
    "print(entropy.shape)\n",
    "print(entropy)"
   ]
  },
  {
   "cell_type": "markdown",
   "metadata": {},
   "source": [
    "#### Item-Item Collaborative Filtering"
   ]
  },
  {
   "cell_type": "code",
   "execution_count": 34,
   "metadata": {},
   "outputs": [
    {
     "name": "stdout",
     "output_type": "stream",
     "text": [
      "[[1.         0.6        5.         3.         2.41413799 4.78626018\n",
      "  1.         4.66008591 1.         3.66386401]\n",
      " [7.24242956 6.5667258  2.         3.87400928 5.         6.74037607\n",
      "  5.         4.49631779 7.77683348 1.        ]\n",
      " [5.         6.62723832 6.19540296 4.88737013 4.91108105 4.69410199\n",
      "  2.         5.77277702 5.         3.69583988]\n",
      " [5.                nan 2.69323315 4.         9.20411722 2.\n",
      "  2.         0.         6.57530058 2.        ]\n",
      " [5.         5.         1.         1.         4.         2.76201175\n",
      "  2.         5.         6.75167812 2.16108967]\n",
      " [2.         5.49088083 5.54679812 1.98913489 3.39108084 2.\n",
      "  1.         5.         4.         0.        ]\n",
      " [3.53217008 5.         2.         0.         2.         0.\n",
      "  0.         4.54621151 1.                nan]\n",
      " [4.24333823 3.4208438  6.22627551 4.47179965 6.14488773 5.\n",
      "  4.42332713 4.         5.         3.        ]\n",
      " [5.         7.29641986 2.20413344 3.3071044  4.34743696 0.\n",
      "  2.84103709 2.57075178 7.15924203 3.11085508]\n",
      " [5.49620109 2.         5.59900041 5.17650936 8.0964885  2.\n",
      "  5.         5.49648581 8.48292195 6.27411768]\n",
      " [2.65143922 1.70780557 5.         2.         1.         5.\n",
      "  3.78359163 2.         5.         3.        ]\n",
      " [1.54239057 3.98114898 5.         3.42822953 2.49328862 1.84634634\n",
      "  2.         6.70120177 0.         5.31305623]\n",
      " [5.72350596        nan 5.14642834 4.8503133  5.         4.\n",
      "  4.93423319 5.64766039 7.20602861 3.        ]\n",
      " [1.         0.         3.         2.92092888 1.         6.24197621\n",
      "  5.         7.32083222 2.         5.        ]\n",
      " [4.80191463 4.71338541 5.         4.25593746 2.         8.182105\n",
      "  4.67201252 5.         5.         5.93076524]]\n"
     ]
    }
   ],
   "source": [
    "recommendations: np.matrix = get_collaborative_filtering(ratings=item_item,\n",
    "                                                         normalized=normalized,\n",
    "                                                         mean=mean,\n",
    "                                                         deviation=deviation,\n",
    "                                                         similarity=similarity,\n",
    "                                                         entropy=entropy,\n",
    "                                                         adjacent=adjacent)\n",
    "print(recommendations)"
   ]
  },
  {
   "cell_type": "markdown",
   "metadata": {},
   "source": [
    "#### Item-Item Novelty Recommendations"
   ]
  },
  {
   "cell_type": "code",
   "execution_count": 35,
   "metadata": {},
   "outputs": [
    {
     "name": "stdout",
     "output_type": "stream",
     "text": [
      "[[1.         0.55408993 5.         3.         2.41413799 4.78626018\n",
      "  0.97059015 4.66008591 0.99009901 3.38351695]\n",
      " [7.24242956 6.5667258  2.         3.87400928 5.         6.5421426\n",
      "  4.90148025 4.23573475 7.77683348 0.99009901]\n",
      " [4.52643477 6.62723832 5.83634984 4.88737013 4.91108105 4.69410199\n",
      "  2.         5.6030005  4.95049505 3.69583988]\n",
      " [5.                nan 2.69323315 4.         9.20411722 2.\n",
      "  2.         0.         6.57530058 1.98019802]\n",
      " [5.         5.         0.98029605 1.         3.88236059 2.76201175\n",
      "  1.98019802 5.         6.55311226 2.13969274]\n",
      " [1.9605921  5.43651567 5.43750429 1.98913489 3.39108084 1.98019802\n",
      "  1.         4.95049505 4.         0.        ]\n",
      " [3.53217008 5.         1.9411803  0.         1.98019802 0.\n",
      "  0.         4.54621151 0.99009901        nan]\n",
      " [4.24333823 3.4208438  6.16462921 4.25476393 6.14488773 5.\n",
      "  4.42332713 4.         4.95049505 2.91177044]\n",
      " [5.         7.29641986 2.18231033 3.3071044  4.17780147 0.\n",
      "  2.84103709 2.57075178 7.15924203 3.11085508]\n",
      " [5.07564949 2.         5.48867798 5.17650936 7.62725841 1.9605921\n",
      "  5.         5.49648581 8.39893262 6.15049277]\n",
      " [2.59919539 1.70780557 4.95049505 2.         0.99009901 4.95049505\n",
      "  3.78359163 2.         5.         3.        ]\n",
      " [1.52711938 3.94173166 5.         3.42822953 2.49328862 1.84634634\n",
      "  2.         6.63485323 0.         5.31305623]\n",
      " [5.50017673        nan 5.14642834 4.75474297 4.95049505 3.96039604\n",
      "  4.93423319 5.59174296 7.20602861 2.97029703]\n",
      " [1.         0.         3.         2.92092888 0.98029605 6.24197621\n",
      "  5.         7.24834873 2.         5.        ]\n",
      " [4.80191463 4.71338541 5.         4.25593746 2.         8.182105\n",
      "  4.62575497 4.85295074 4.95049505 5.93076524]]\n"
     ]
    }
   ],
   "source": [
    "recommendations: np.matrix = get_novelty_matrix(recommendations, views.T)\n",
    "print(recommendations)"
   ]
  },
  {
   "cell_type": "markdown",
   "metadata": {},
   "source": [
    "#### Trending Items"
   ]
  },
  {
   "cell_type": "code",
   "execution_count": 36,
   "metadata": {},
   "outputs": [
    {
     "name": "stdout",
     "output_type": "stream",
     "text": [
      "[2.67587801 4.91294547 4.77319115 3.71698322 3.42976714 3.01455209\n",
      " 1.99887321 4.55140555 3.7645522  5.23745985 3.09816817 3.2184625\n",
      " 5.00161566 3.33915499 4.93133085]\n"
     ]
    }
   ],
   "source": [
    "trending: np.array = np.nansum(recommendations, axis=1) / np.count_nonzero(~np.isnan(recommendations), axis=1)\n",
    "print(trending)"
   ]
  },
  {
   "cell_type": "markdown",
   "metadata": {},
   "source": [
    "#### Explaining Recommendtions"
   ]
  },
  {
   "cell_type": "code",
   "execution_count": 130,
   "metadata": {},
   "outputs": [
    {
     "name": "stdout",
     "output_type": "stream",
     "text": [
      "0 \n",
      " [[ 1. nan  5.  5.  5.  2. nan nan  5. nan nan nan nan  1. nan]\n",
      " [nan nan nan nan  5. nan  5. nan nan nan nan nan nan  0. nan]\n",
      " [ 5.  2. nan nan  1. nan  2. nan nan nan  5.  5. nan  3.  5.]\n",
      " [ 3. nan nan  4.  1. nan  0. nan nan nan  2. nan nan nan nan]\n",
      " [nan  5. nan nan  4. nan  2. nan nan nan  1. nan  5.  1.  2.]\n",
      " [nan nan nan  2. nan  2.  0.  5.  0.  2.  5. nan  4. nan nan]\n",
      " [ 1.  5.  2.  2.  2.  1.  0. nan nan  5. nan  2. nan  5. nan]\n",
      " [nan nan nan  0.  5.  5. nan  4. nan nan  2. nan nan nan  5.]\n",
      " [ 1. nan  5. nan nan  4.  1.  5. nan nan  5.  0. nan  2.  5.]\n",
      " [nan  1. nan  2. nan  0. nan  3. nan nan  3. nan  3.  5. nan]]\n",
      "User #0:\n",
      "\tis recommended 1 because you watched: 2\n",
      "[[ 5.  1. nan nan nan]\n",
      " [ 5. nan  5. nan  5.]\n",
      " [nan nan  5.  5.  2.]\n",
      " [nan  5. nan nan  5.]\n",
      " [nan  5. nan nan  2.]\n",
      " [nan nan nan  5.  5.]\n",
      " [nan  1.  5. nan  5.]\n",
      " [ 1.  2. nan nan nan]\n",
      " [nan  5.  5. nan  5.]\n",
      " [nan nan nan  1.  5.]\n",
      " [ 1. nan  1. nan nan]\n",
      " [nan nan  1. nan  1.]\n",
      " [nan nan nan  5. nan]\n",
      " [nan nan nan nan nan]\n",
      " [ 5.  1.  2. nan nan]]\n"
     ]
    },
    {
     "ename": "ValueError",
     "evalue": "All-NaN slice encountered",
     "output_type": "error",
     "traceback": [
      "\u001b[0;31m---------------------------------------------------------------------------\u001b[0m",
      "\u001b[0;31mValueError\u001b[0m                                Traceback (most recent call last)",
      "\u001b[0;32m<ipython-input-130-6ca8e203db15>\u001b[0m in \u001b[0;36m<module>\u001b[0;34m\u001b[0m\n\u001b[1;32m     13\u001b[0m \u001b[0;32mfor\u001b[0m \u001b[0muser\u001b[0m \u001b[0;32min\u001b[0m \u001b[0mx\u001b[0m\u001b[0;34m:\u001b[0m\u001b[0;34m\u001b[0m\u001b[0;34m\u001b[0m\u001b[0m\n\u001b[1;32m     14\u001b[0m     \u001b[0mprint\u001b[0m\u001b[0;34m(\u001b[0m\u001b[0muser\u001b[0m\u001b[0;34m.\u001b[0m\u001b[0mT\u001b[0m\u001b[0;34m)\u001b[0m\u001b[0;34m\u001b[0m\u001b[0;34m\u001b[0m\u001b[0m\n\u001b[0;32m---> 15\u001b[0;31m     \u001b[0mprint\u001b[0m\u001b[0;34m(\u001b[0m\u001b[0mnp\u001b[0m\u001b[0;34m.\u001b[0m\u001b[0mnanargmax\u001b[0m\u001b[0;34m(\u001b[0m\u001b[0muser\u001b[0m\u001b[0;34m.\u001b[0m\u001b[0mT\u001b[0m\u001b[0;34m,\u001b[0m \u001b[0maxis\u001b[0m\u001b[0;34m=\u001b[0m\u001b[0;36m1\u001b[0m\u001b[0;34m)\u001b[0m\u001b[0;34m)\u001b[0m\u001b[0;34m\u001b[0m\u001b[0;34m\u001b[0m\u001b[0m\n\u001b[0m\u001b[1;32m     16\u001b[0m \u001b[0;31m# print(x[0][1])\u001b[0m\u001b[0;34m\u001b[0m\u001b[0;34m\u001b[0m\u001b[0;34m\u001b[0m\u001b[0m\n\u001b[1;32m     17\u001b[0m \u001b[0;31m# print(111111111, \"\\n\", x[:,:].T)\u001b[0m\u001b[0;34m\u001b[0m\u001b[0;34m\u001b[0m\u001b[0;34m\u001b[0m\u001b[0m\n",
      "\u001b[0;32m<__array_function__ internals>\u001b[0m in \u001b[0;36mnanargmax\u001b[0;34m(*args, **kwargs)\u001b[0m\n",
      "\u001b[0;32m~/orleans/.env/lib/python3.7/site-packages/numpy/lib/nanfunctions.py\u001b[0m in \u001b[0;36mnanargmax\u001b[0;34m(a, axis)\u001b[0m\n\u001b[1;32m    547\u001b[0m         \u001b[0mmask\u001b[0m \u001b[0;34m=\u001b[0m \u001b[0mnp\u001b[0m\u001b[0;34m.\u001b[0m\u001b[0mall\u001b[0m\u001b[0;34m(\u001b[0m\u001b[0mmask\u001b[0m\u001b[0;34m,\u001b[0m \u001b[0maxis\u001b[0m\u001b[0;34m=\u001b[0m\u001b[0maxis\u001b[0m\u001b[0;34m)\u001b[0m\u001b[0;34m\u001b[0m\u001b[0;34m\u001b[0m\u001b[0m\n\u001b[1;32m    548\u001b[0m         \u001b[0;32mif\u001b[0m \u001b[0mnp\u001b[0m\u001b[0;34m.\u001b[0m\u001b[0many\u001b[0m\u001b[0;34m(\u001b[0m\u001b[0mmask\u001b[0m\u001b[0;34m)\u001b[0m\u001b[0;34m:\u001b[0m\u001b[0;34m\u001b[0m\u001b[0;34m\u001b[0m\u001b[0m\n\u001b[0;32m--> 549\u001b[0;31m             \u001b[0;32mraise\u001b[0m \u001b[0mValueError\u001b[0m\u001b[0;34m(\u001b[0m\u001b[0;34m\"All-NaN slice encountered\"\u001b[0m\u001b[0;34m)\u001b[0m\u001b[0;34m\u001b[0m\u001b[0;34m\u001b[0m\u001b[0m\n\u001b[0m\u001b[1;32m    550\u001b[0m     \u001b[0;32mreturn\u001b[0m \u001b[0mres\u001b[0m\u001b[0;34m\u001b[0m\u001b[0;34m\u001b[0m\u001b[0m\n\u001b[1;32m    551\u001b[0m \u001b[0;34m\u001b[0m\u001b[0m\n",
      "\u001b[0;31mValueError\u001b[0m: All-NaN slice encountered"
     ]
    }
   ],
   "source": [
    "print(0, \"\\n\", user_user)\n",
    "for i in range(user_user.shape[0]):\n",
    "    print(f'User #{i}:')\n",
    "    for j in range(user_user.shape[1]):\n",
    "        if np.isnan(user_user[i][j]):\n",
    "            u = np.take(user_user, adjacent[j])\n",
    "            v = adjacent[j][np.nanargmax(u)]\n",
    "            print(f'\\tis recommended {j} because you watched: {v}')\n",
    "            break\n",
    "    break\n",
    "\n",
    "x = item_item[adjacent].T\n",
    "x[np.isnan(x)] = -1\n",
    "for user in x:\n",
    "    print(user.T)\n",
    "    print(np.nanargmax(user.T, axis=1))\n",
    "# MIN_RECOMMENDATION_RATING  # T\n",
    "# print(x[0][1])\n",
    "# print(111111111, \"\\n\", x[:,:].T)\n",
    "# print(np.nanargmax(x, axis=2))\n",
    "# print(x)\n",
    "# missing # TODO\n",
    "# watched  # TODO"
   ]
  },
  {
   "cell_type": "code",
   "execution_count": null,
   "metadata": {},
   "outputs": [],
   "source": []
  }
 ],
 "metadata": {
  "kernelspec": {
   "display_name": "Python 3",
   "language": "python",
   "name": "python3"
  },
  "language_info": {
   "codemirror_mode": {
    "name": "ipython",
    "version": 3
   },
   "file_extension": ".py",
   "mimetype": "text/x-python",
   "name": "python",
   "nbconvert_exporter": "python",
   "pygments_lexer": "ipython3",
   "version": "3.7.6"
  }
 },
 "nbformat": 4,
 "nbformat_minor": 4
}
