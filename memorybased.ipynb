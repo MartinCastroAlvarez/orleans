{
 "cells": [
  {
   "cell_type": "markdown",
   "metadata": {},
   "source": [
    "![user-user](./wallpaper.jpg)"
   ]
  },
  {
   "cell_type": "markdown",
   "metadata": {},
   "source": [
    "# Memory Based Collaborative Filtering"
   ]
  },
  {
   "cell_type": "markdown",
   "metadata": {},
   "source": [
    "- https://www.springer.com/gp/book/9783319296579\n",
    "- https://numpy.org/"
   ]
  },
  {
   "cell_type": "code",
   "execution_count": 1,
   "metadata": {},
   "outputs": [],
   "source": [
    "import time\n",
    "\n",
    "import numpy as np\n",
    "\n",
    "import matplotlib.pyplot as plt\n",
    "from matplotlib.figure import Figure\n",
    "from matplotlib.axes import Axes"
   ]
  },
  {
   "cell_type": "code",
   "execution_count": 2,
   "metadata": {},
   "outputs": [],
   "source": [
    "np.random.seed(10)"
   ]
  },
  {
   "cell_type": "markdown",
   "metadata": {},
   "source": [
    "![user-user](./wallpaper.jpg)"
   ]
  },
  {
   "cell_type": "markdown",
   "metadata": {},
   "source": [
    "## Explicit & Implicit Rating"
   ]
  },
  {
   "cell_type": "markdown",
   "metadata": {},
   "source": [
    "#### Timestamp Matrix"
   ]
  },
  {
   "cell_type": "code",
   "execution_count": 3,
   "metadata": {},
   "outputs": [],
   "source": [
    "def get_random_timestamp_matrix(shape: tuple, window: int = 100) -> np.array:\n",
    "    \"\"\"\n",
    "    Timestamp Matrix Generator.\n",
    "    \"\"\"\n",
    "    return np.floor(np.random.uniform(low=0, high=window, size=shape[0] * shape[1]).reshape(shape))"
   ]
  },
  {
   "cell_type": "code",
   "execution_count": 4,
   "metadata": {},
   "outputs": [
    {
     "name": "stdout",
     "output_type": "stream",
     "text": [
      "[[15.  0. 12. 14.  9.  4.  3. 15.  3.  1.]\n",
      " [13. 19.  0. 10. 16. 12. 14.  5. 18. 14.]\n",
      " [10.  2.  7. 13.  8.  8. 12. 10. 13. 12.]\n",
      " [16. 10. 18.  6.  1.  6.  2. 16.  0. 12.]\n",
      " [10. 16.  3. 17.  7. 15.  5. 17.  6.  3.]]\n"
     ]
    }
   ],
   "source": [
    "print(get_random_timestamp_matrix((5, 10), window=20))"
   ]
  },
  {
   "cell_type": "markdown",
   "metadata": {},
   "source": [
    "#### Age Function"
   ]
  },
  {
   "cell_type": "code",
   "execution_count": 5,
   "metadata": {},
   "outputs": [
    {
     "name": "stdout",
     "output_type": "stream",
     "text": [
      "[1.         0.9990005  0.998002   0.9970045  0.99600799 0.99501248\n",
      " 0.99401796 0.99302444 0.99203191 0.99104038 0.99004983 0.98906028\n",
      " 0.98807171 0.98708414 0.98609754]\n"
     ]
    },
    {
     "data": {
      "image/png": "[encoded data removed]",
      "text/plain": [
       "<Figure size 432x288 with 1 Axes>"
      ]
     },
     "metadata": {
      "needs_background": "light"
     },
     "output_type": "display_data"
    }
   ],
   "source": [
    "discount: float = 0.001\n",
    "X: np.array = np.e ** (-discount * np.arange(365))\n",
    "print(X[:15])\n",
    "figure: Figure = plt.figure()\n",
    "axes: Axes = figure.add_subplot()\n",
    "axes.plot(np.arange(X.shape[0]), X, '.', color='blue')\n",
    "plt.show()"
   ]
  },
  {
   "cell_type": "code",
   "execution_count": 6,
   "metadata": {},
   "outputs": [],
   "source": [
    "def age(X: np.array, ts: np.array, discount: float = 365) -> np.array:\n",
    "    \"\"\"\n",
    "    Age function.\n",
    "    \"\"\"\n",
    "    return X * np.e ** (-discount * ts)"
   ]
  },
  {
   "cell_type": "code",
   "execution_count": 7,
   "metadata": {},
   "outputs": [
    {
     "name": "stdout",
     "output_type": "stream",
     "text": [
      "[[9.11245423e-159 2.76789458e-317 0.00000000e+000]\n",
      " [0.00000000e+000             nan 0.00000000e+000]\n",
      " [3.03748474e-159 3.00000000e+000 2.00000000e+000]]\n"
     ]
    }
   ],
   "source": [
    "X: np.array = np.array([\n",
    "    [3, 3, 3],\n",
    "    [1, np.nan, 0],\n",
    "    [1, 3, 2]\n",
    "])\n",
    "ts: np.array = np.array([\n",
    "    [1, 2, 3],\n",
    "    [9, 5, 2],\n",
    "    [1, 0, 0],\n",
    "])\n",
    "print(age(X, ts))"
   ]
  },
  {
   "cell_type": "markdown",
   "metadata": {},
   "source": [
    "#### Likes Matrix"
   ]
  },
  {
   "cell_type": "code",
   "execution_count": 119,
   "metadata": {},
   "outputs": [],
   "source": [
    "def get_random_likes_matrix(shape: tuple, p: int = 0.2, n: float = 5.) -> np.array:\n",
    "    \"\"\"\n",
    "    Likes Matrix Generator.\n",
    "    \"\"\"\n",
    "    return np.random.binomial(n, p, shape[0] * shape[1]).reshape(shape).astype(float)"
   ]
  },
  {
   "cell_type": "code",
   "execution_count": 120,
   "metadata": {},
   "outputs": [
    {
     "name": "stdout",
     "output_type": "stream",
     "text": [
      "[[0. 1. 0. 0. 1. 2. 2. 1. 1. 1.]\n",
      " [2. 1. 1. 1. 1. 1. 2. 2. 1. 2.]\n",
      " [2. 3. 1. 2. 1. 1. 2. 1. 0. 1.]\n",
      " [0. 1. 2. 2. 0. 0. 1. 2. 0. 1.]\n",
      " [1. 0. 0. 2. 0. 0. 0. 4. 1. 1.]]\n"
     ]
    }
   ],
   "source": [
    "print(get_random_likes_matrix((5, 10), p=0.2))"
   ]
  },
  {
   "cell_type": "markdown",
   "metadata": {},
   "source": [
    "#### Shares Matrix"
   ]
  },
  {
   "cell_type": "markdown",
   "metadata": {},
   "source": [
    "- https://www.geeksforgeeks.org/implement-sigmoid-function-using-numpy/"
   ]
  },
  {
   "cell_type": "markdown",
   "metadata": {},
   "source": [
    "$$ S(x) = \\frac{1}{1 + e^{-x}} $$"
   ]
  },
  {
   "cell_type": "code",
   "execution_count": 110,
   "metadata": {},
   "outputs": [
    {
     "name": "stdout",
     "output_type": "stream",
     "text": [
      "[0.09090909 0.21373027 0.42492566 0.66761437 0.84519681 0.93687393\n",
      " 0.97581204 0.99096358 0.99665659 0.99876742 0.99954621 0.99983301\n",
      " 0.99993856 0.9999774  0.99999168]\n"
     ]
    },
    {
     "data": {
      "image/png": "[encoded data removed]",
      "text/plain": [
       "<Figure size 432x288 with 1 Axes>"
      ]
     },
     "metadata": {
      "needs_background": "light"
     },
     "output_type": "display_data"
    }
   ],
   "source": [
    "X: np.array = 1 / (1 + 10 * np.e ** (-np.arange(20)))\n",
    "print(X[:15])\n",
    "figure: Figure = plt.figure()\n",
    "axes: Axes = figure.add_subplot()\n",
    "axes.plot(np.arange(X.shape[0]), X, '.', color='blue')\n",
    "plt.show()"
   ]
  },
  {
   "cell_type": "code",
   "execution_count": 71,
   "metadata": {},
   "outputs": [
    {
     "name": "stdout",
     "output_type": "stream",
     "text": [
      "[1. 0. 0. 1. 2. 0. 1. 0. 0. 2. 1. 2. 1. 3. 1.]\n"
     ]
    },
    {
     "data": {
      "image/png": "[encoded data removed]",
      "text/plain": [
       "<Figure size 432x288 with 1 Axes>"
      ]
     },
     "metadata": {
      "needs_background": "light"
     },
     "output_type": "display_data"
    }
   ],
   "source": [
    "X: np.array = np.floor(np.random.lognormal(0, 1, 100))\n",
    "print(X[:15])\n",
    "figure: Figure = plt.figure()\n",
    "axes: Axes = figure.add_subplot()\n",
    "axes.plot(np.arange(X.shape[0]), X, '.', color='blue')\n",
    "plt.show()"
   ]
  },
  {
   "cell_type": "code",
   "execution_count": 112,
   "metadata": {},
   "outputs": [],
   "source": [
    "def get_random_shares_matrix(shape: tuple) -> np.array:\n",
    "    \"\"\"\n",
    "    Shares Matrix Generator.\n",
    "    \"\"\"\n",
    "    X: np.array = np.floor(np.random.lognormal(0, 1, shape[0] * shape[1]))\n",
    "    return 1 / (1 + 10 * np.e ** (-X.reshape(shape)))"
   ]
  },
  {
   "cell_type": "code",
   "execution_count": 113,
   "metadata": {},
   "outputs": [
    {
     "name": "stdout",
     "output_type": "stream",
     "text": [
      "[[0.42492566 0.21373027 0.66761437 0.09090909 0.21373027 0.93687393\n",
      "  0.09090909 0.09090909 0.09090909 0.66761437]\n",
      " [0.09090909 0.09090909 0.21373027 0.66761437 0.99096358 0.09090909\n",
      "  0.09090909 0.84519681 0.42492566 0.21373027]\n",
      " [0.09090909 0.09090909 0.21373027 0.21373027 0.42492566 0.09090909\n",
      "  0.09090909 0.21373027 0.09090909 0.09090909]\n",
      " [0.09090909 0.09090909 0.21373027 0.09090909 0.09090909 0.42492566\n",
      "  0.21373027 0.21373027 0.09090909 0.09090909]\n",
      " [0.21373027 0.09090909 0.09090909 0.09090909 0.42492566 0.09090909\n",
      "  0.84519681 0.84519681 0.21373027 0.09090909]]\n"
     ]
    }
   ],
   "source": [
    "print(get_random_shares_matrix((5, 10)))"
   ]
  },
  {
   "cell_type": "markdown",
   "metadata": {},
   "source": [
    "#### Ratings Matrix"
   ]
  },
  {
   "cell_type": "markdown",
   "metadata": {},
   "source": [
    "The ratings matrix is denoted by `R` and it is an `m` by `n` matrix containing `m` users and `n` items. The rating of user `u1` for item `i3` is denoted by `r13`."
   ]
  },
  {
   "cell_type": "markdown",
   "metadata": {},
   "source": [
    "$$ U = \\{ u_1, u_2 ... u_m \\} \\land |U| = m $$"
   ]
  },
  {
   "cell_type": "markdown",
   "metadata": {},
   "source": [
    "$$ I = \\{ i_1, i_2 ... i_n \\} \\land |I| = n $$"
   ]
  },
  {
   "cell_type": "markdown",
   "metadata": {},
   "source": [
    "$$ R = \\{ r_{1,1}, r_{1,2} ... r_{2,1}, r_{2,2} ... r_{m,n} \\} \\land |R| = m \\times n $$"
   ]
  },
  {
   "cell_type": "code",
   "execution_count": 10,
   "metadata": {},
   "outputs": [],
   "source": [
    "def get_random_ratings_matrix(shape: tuple, low: float = 0, high: float = 5) -> np.array:\n",
    "    \"\"\"\n",
    "    Random dataset generator.\n",
    "    \"\"\"\n",
    "    ratings: np.array = high * np.random.randn(*shape)\n",
    "    ratings[ratings < low] = np.nan\n",
    "    ratings[ratings > high] = high\n",
    "    ratings = np.floor(ratings)\n",
    "    return ratings"
   ]
  },
  {
   "cell_type": "code",
   "execution_count": 11,
   "metadata": {},
   "outputs": [
    {
     "name": "stdout",
     "output_type": "stream",
     "text": [
      "[[ 5.  1. nan nan  3.  4. nan  0.  4. nan]\n",
      " [ 0. nan nan  2. nan nan nan  4.  3. nan]\n",
      " [ 1. nan  5. nan nan nan nan  0.  1. nan]]\n"
     ]
    }
   ],
   "source": [
    "ratings: np.array = get_random_ratings_matrix((3, 10), low=0, high=5)\n",
    "print(ratings)"
   ]
  },
  {
   "cell_type": "markdown",
   "metadata": {},
   "source": [
    "#### Cold Start Dimensionality Reduction"
   ]
  },
  {
   "cell_type": "code",
   "execution_count": 12,
   "metadata": {},
   "outputs": [],
   "source": [
    "def get_active_users(ratings: np.array, min_ratings: int = 10) -> np.array:\n",
    "    \"\"\"\n",
    "    Cold Start users removal.\n",
    "    \"\"\"\n",
    "    return ratings[np.sum(~np.isnan(ratings), axis=1) >= min_ratings]"
   ]
  },
  {
   "cell_type": "code",
   "execution_count": 13,
   "metadata": {},
   "outputs": [
    {
     "name": "stdout",
     "output_type": "stream",
     "text": [
      "[[ 1.  1.  1.  2.  3.]\n",
      " [ 1.  1. nan  2.  3.]]\n"
     ]
    }
   ],
   "source": [
    "X: np.array = np.array([\n",
    "    [1, 1, 1, 2, 3],\n",
    "    [1, 1, np.nan, 2, 3],\n",
    "    [np.nan, np.nan, 3, np.nan, 2],\n",
    "])\n",
    "Y: np.array = get_active_users(X, 3)\n",
    "print(Y)"
   ]
  },
  {
   "cell_type": "markdown",
   "metadata": {},
   "source": [
    "#### Negative Items Dimensionality Reduction"
   ]
  },
  {
   "cell_type": "code",
   "execution_count": 14,
   "metadata": {},
   "outputs": [],
   "source": [
    "def get_good_items(ratings: np.array, min_rating: float = 0) -> np.array:\n",
    "    \"\"\"\n",
    "    Bad Items users removal.\n",
    "    \"\"\"\n",
    "    totals: np.array = np.nansum(ratings.T, axis=1)\n",
    "    count: np.array = np.count_nonzero(~np.isnan(ratings.T), axis=1)\n",
    "    count[count == 0] = 1\n",
    "    mask = totals / count > min_rating\n",
    "    return ratings.T[mask.reshape(ratings.shape[1])].T"
   ]
  },
  {
   "cell_type": "code",
   "execution_count": 15,
   "metadata": {},
   "outputs": [
    {
     "name": "stdout",
     "output_type": "stream",
     "text": [
      "[[ 1.  2.  3.]\n",
      " [nan  2.  3.]\n",
      " [ 3. nan  2.]]\n"
     ]
    }
   ],
   "source": [
    "X: np.array = np.array([\n",
    "    [1, 1, 1, 2, 3],\n",
    "    [1, 1, np.nan, 2, 3],\n",
    "    [np.nan, np.nan, 3, np.nan, 2],\n",
    "])\n",
    "Y: np.array = get_good_items(X, 1.5)\n",
    "print(Y)"
   ]
  },
  {
   "cell_type": "markdown",
   "metadata": {},
   "source": [
    "#### Views Matrix"
   ]
  },
  {
   "cell_type": "markdown",
   "metadata": {},
   "source": [
    "- https://en.wikipedia.org/wiki/Log-normal_distribution"
   ]
  },
  {
   "cell_type": "code",
   "execution_count": 70,
   "metadata": {},
   "outputs": [
    {
     "name": "stdout",
     "output_type": "stream",
     "text": [
      "[1. 0. 1. 1. 4. 2. 0. 1. 0. 1. 0. 4. 4. 0. 4.]\n"
     ]
    },
    {
     "data": {
      "image/png": "[encoded data removed]",
      "text/plain": [
       "<Figure size 432x288 with 1 Axes>"
      ]
     },
     "metadata": {
      "needs_background": "light"
     },
     "output_type": "display_data"
    }
   ],
   "source": [
    "X: np.array = np.floor(np.random.lognormal(0, 1, 100))\n",
    "print(X[:15])\n",
    "figure: Figure = plt.figure()\n",
    "axes: Axes = figure.add_subplot()\n",
    "axes.plot(np.arange(X.shape[0]), X, '.', color='blue')\n",
    "plt.show()"
   ]
  },
  {
   "cell_type": "code",
   "execution_count": 48,
   "metadata": {},
   "outputs": [],
   "source": [
    "def get_random_views_matrix(shape: tuple) -> np.array:\n",
    "    \"\"\"\n",
    "    Random views matrix generator.\n",
    "    \"\"\"\n",
    "    return np.floor(np.random.lognormal(0, 1, shape[0] * shape[1])).reshape(shape)"
   ]
  },
  {
   "cell_type": "code",
   "execution_count": 49,
   "metadata": {},
   "outputs": [
    {
     "name": "stdout",
     "output_type": "stream",
     "text": [
      "[[ 0.  0.  1.  1.  2.  0.  4.  0. 11.  2.]\n",
      " [ 0.  1.  0.  0.  2.  0.  1.  1.  2.  0.]\n",
      " [ 3.  1.  0.  0.  3.  0.  2.  0.  1.  0.]]\n"
     ]
    }
   ],
   "source": [
    "views: np.array = get_random_views_matrix((3, 10))\n",
    "print(views)"
   ]
  },
  {
   "cell_type": "markdown",
   "metadata": {},
   "source": [
    "#### Merge Feedback"
   ]
  },
  {
   "cell_type": "code",
   "execution_count": 143,
   "metadata": {},
   "outputs": [],
   "source": [
    "def get_merged_feedback_matrix(*feedback) -> np.array:\n",
    "    \"\"\"\n",
    "    Merge Feedback Matrix.\n",
    "    \"\"\"\n",
    "    X: np.array = np.vstack([\n",
    "        f.reshape(f.size)\n",
    "        for f in feedback\n",
    "    ])\n",
    "    n: np.array = np.count_nonzero(~np.isnan(X), axis=0)\n",
    "    n[n == 0] = 1\n",
    "    Y: np.array = np.nansum(X, axis=0) / n\n",
    "    return Y.reshape(feedback[0].shape)"
   ]
  },
  {
   "cell_type": "code",
   "execution_count": 145,
   "metadata": {},
   "outputs": [
    {
     "name": "stdout",
     "output_type": "stream",
     "text": [
      "[[ 2.  5. nan]\n",
      " [nan  5.  2.]\n",
      " [ 0. nan nan]\n",
      " [ 1.  0.  5.]]\n",
      "[[            nan 6.07496949e-159 0.00000000e+000]\n",
      " [            nan 0.00000000e+000             nan]\n",
      " [            nan 0.00000000e+000             nan]\n",
      " [            nan 0.00000000e+000             nan]]\n",
      "[[nan  2.  0.]\n",
      " [nan  4. nan]\n",
      " [nan  2. nan]\n",
      " [nan  3. nan]]\n",
      "[[nan  1.  2.]\n",
      " [nan  3. nan]\n",
      " [nan  5. nan]\n",
      " [nan  2. nan]]\n",
      "[[2.         2.         0.66666667]\n",
      " [0.         3.         2.        ]\n",
      " [0.         2.33333333 0.        ]\n",
      " [1.         1.25       5.        ]]\n"
     ]
    }
   ],
   "source": [
    "min_rating: float = 0\n",
    "max_rating: float = 5\n",
    "stars: np.array = get_random_ratings_matrix((4, 3), low=min_rating, high=max_rating)\n",
    "ts: np.array = get_random_timestamp_matrix(stars.shape, window=20)\n",
    "starts = age(stars, ts)\n",
    "views: np.array = get_random_views_matrix(stars.shape)\n",
    "likes: np.array = get_random_likes_matrix(stars.shape, p=0.5, n=max_rating)\n",
    "likes.reshape(likes.size)[views.reshape(views.size) == 0] = np.nan\n",
    "bookmarked: np.array = get_random_likes_matrix(stars.shape, p=0.5, n=max_rating)\n",
    "bookmarked.reshape(bookmarked.size)[views.reshape(views.size) == 0] = np.nan\n",
    "shares: np.array = get_random_shares_matrix(stars.shape)\n",
    "shares.reshape(likes.size)[views.reshape(views.size) == 0] = np.nan\n",
    "ts: np.array = get_random_timestamp_matrix(stars.shape, window=20)\n",
    "shares = age(likes, ts)\n",
    "user_user: np.array = get_merged_feedback_matrix(stars, shares, likes, bookmarked)\n",
    "print(stars)\n",
    "print(shares)\n",
    "print(likes)\n",
    "print(bookmarked)\n",
    "print(user_user)"
   ]
  },
  {
   "cell_type": "markdown",
   "metadata": {},
   "source": [
    "![user-user](./wallpaper.jpg)"
   ]
  },
  {
   "cell_type": "markdown",
   "metadata": {},
   "source": [
    "## Normalization"
   ]
  },
  {
   "cell_type": "markdown",
   "metadata": {},
   "source": [
    "- https://en.wikipedia.org/wiki/Normalization_(statistics)"
   ]
  },
  {
   "cell_type": "markdown",
   "metadata": {},
   "source": [
    "In statistics and applications of statistics, normalization can have a range of meanings. In the simplest cases, normalization of ratings means adjusting values measured on different scales to a notionally common scale, often prior to averaging."
   ]
  },
  {
   "cell_type": "markdown",
   "metadata": {},
   "source": [
    "$$ \\bar{\\mu} = \\frac{\\sum\\limits^{^n}_{i=1} x_i}{n}\t $$"
   ]
  },
  {
   "cell_type": "markdown",
   "metadata": {},
   "source": [
    "$$ σ^2 = \\frac{\\sum\\limits^{^n}_{i=1} (x_i - \\bar{\\mu})^2}{n}\t $$"
   ]
  },
  {
   "cell_type": "markdown",
   "metadata": {},
   "source": [
    "$$ z = \\frac{x_i - \\bar{\\mu}}{σ}\t $$"
   ]
  },
  {
   "cell_type": "code",
   "execution_count": 18,
   "metadata": {},
   "outputs": [],
   "source": [
    "def get_normalized_matrix(matrix: np.array) -> tuple:\n",
    "    \"\"\"\n",
    "    Normalization Function.\n",
    "    Returns z-score of each element in the input matrix.\n",
    "    \"\"\"    \n",
    "    sample_size: np.array = np.sum(~np.isnan(matrix), axis=1)\n",
    "    sample_size[sample_size == 0] = 1    \n",
    "    mean: np.array = np.nansum(matrix, axis=1) / sample_size\n",
    "    mean = mean.reshape(mean.shape[0], 1)\n",
    "    variance: np.array = np.nansum(np.power(matrix - mean, 2), axis=1) / sample_size\n",
    "    variance = variance.reshape(variance.shape[0], 1)\n",
    "    variance[variance == 0] = 1\n",
    "    deviation: np.array = np.sqrt(variance)\n",
    "    normalized: np.array = (matrix - deviation) / deviation\n",
    "    return mean, deviation, normalized"
   ]
  },
  {
   "cell_type": "code",
   "execution_count": 19,
   "metadata": {},
   "outputs": [
    {
     "name": "stdout",
     "output_type": "stream",
     "text": [
      "ORIGINAL [[ 0.51071441  1.52540875  3.56677165  3.82684865  4.20744026  5.61284071\n",
      "   5.95959522  8.32444262  9.8313893   7.02040323]\n",
      " [21.21814885 26.61014594 33.79422179 40.66237401 44.37156334 52.13740402\n",
      "  59.66689884 65.8752759  73.60750611 79.48509008]]\n",
      "NORMALIZED [[-0.81479659 -0.44683193  0.29343968  0.38775295  0.52576916  1.03541791\n",
      "   1.16116356  2.01874228  2.56521534  1.5458507 ]\n",
      " [ 0.12884158  0.41570499  0.79791003  1.1633074   1.36064258  1.7737985\n",
      "   2.17438042  2.50467663  2.91604442  3.22874187]]\n"
     ]
    },
    {
     "data": {
      "image/png": "[encoded data removed]",
      "text/plain": [
       "<Figure size 432x288 with 4 Axes>"
      ]
     },
     "metadata": {
      "needs_background": "light"
     },
     "output_type": "display_data"
    }
   ],
   "source": [
    "x: np.array = np.vstack([\n",
    "    np.linspace(0, 10, 10) + np.random.normal(0, 1, 10),\n",
    "    20 + np.linspace(0, 60, 10) + np.random.normal(0, 1, 10),\n",
    "])\n",
    "mean, deviation, y = get_normalized_matrix(x)\n",
    "assert x.shape == y.shape\n",
    "print('ORIGINAL', x)\n",
    "print('NORMALIZED', y)\n",
    "grid = np.arange(x.shape[1])\n",
    "figure: Figure = plt.figure()\n",
    "axes: Axes = figure.add_subplot(2, 2, 1)\n",
    "axes.plot(grid, x[0].flat, 'o', color='blue')\n",
    "axes: Axes = figure.add_subplot(2, 2, 2)\n",
    "axes.plot(grid, y[0].flat, 'o', color='red')\n",
    "axes: Axes = figure.add_subplot(2, 2, 3)\n",
    "axes.plot(grid, x[1].flat, 'o', color='blue')\n",
    "axes: Axes = figure.add_subplot(2, 2, 4)\n",
    "axes.plot(grid, y[1].flat, 'o', color='red')\n",
    "plt.show()"
   ]
  },
  {
   "cell_type": "markdown",
   "metadata": {},
   "source": [
    "## Entropy"
   ]
  },
  {
   "cell_type": "markdown",
   "metadata": {},
   "source": [
    "- https://en.wikipedia.org/wiki/Entropy_(information_theory)"
   ]
  },
  {
   "cell_type": "markdown",
   "metadata": {},
   "source": [
    "In information theory, the entropy of a random variable is the average level of \"information\", \"surprise\", or \"uncertainty\" inherent in the variable's possible outcomes."
   ]
  },
  {
   "cell_type": "markdown",
   "metadata": {},
   "source": [
    "$$ H(x) = - \\sum\\limits^{^n}_{i=1} P(x_i) \\cdot log P(x_i) $$"
   ]
  },
  {
   "cell_type": "code",
   "execution_count": 20,
   "metadata": {},
   "outputs": [],
   "source": [
    "def get_entropy_array(matrix: np.array) -> np.array:\n",
    "    \"\"\"\n",
    "    Entropy Matrix.\n",
    "    \"\"\"\n",
    "    P: np.matrix = np.count_nonzero(~np.isnan(matrix.T), axis=1) / matrix.shape[0]\n",
    "    P[P == 0] = 1\n",
    "    return np.abs(np.log(P))"
   ]
  },
  {
   "cell_type": "code",
   "execution_count": 21,
   "metadata": {},
   "outputs": [
    {
     "name": "stdout",
     "output_type": "stream",
     "text": [
      "[[ 1. nan  3. nan nan]\n",
      " [ 4.  5. nan nan nan]\n",
      " [ 7.  8.  9.  5. nan]\n",
      " [ 7.  8.  9. nan nan]\n",
      " [ 7.  8.  9. nan nan]\n",
      " [ 7.  8.  9. nan nan]\n",
      " [ 7.  8.  9. nan nan]\n",
      " [ 1.  2.  2. nan nan]]\n",
      "[0.         0.13353139 0.13353139 2.07944154 0.        ]\n"
     ]
    }
   ],
   "source": [
    "X: np.array = np.array([\n",
    "    [1, np.nan, 3, np.nan, np.nan],\n",
    "    [4, 5, np.nan, np.nan, np.nan],\n",
    "    [7, 8, 9, 5, np.nan],\n",
    "    [7, 8, 9, np.nan, np.nan],\n",
    "    [7, 8, 9, np.nan, np.nan],\n",
    "    [7, 8, 9, np.nan, np.nan],\n",
    "    [7, 8, 9, np.nan, np.nan],\n",
    "    [1, 2, 2, np.nan, np.nan]\n",
    "])\n",
    "E: np.array = get_entropy_array(X)\n",
    "print(X)\n",
    "print(E)"
   ]
  },
  {
   "cell_type": "markdown",
   "metadata": {},
   "source": [
    "## Cosine Similarity"
   ]
  },
  {
   "cell_type": "markdown",
   "metadata": {},
   "source": [
    "- https://en.wikipedia.org/wiki/Cosine_similarity"
   ]
  },
  {
   "cell_type": "markdown",
   "metadata": {},
   "source": [
    "Cosine similarity is a measure of similarity between two non-zero vectors of an inner product space. It is defined to equal the cosine of the angle between them, which is also the same as the inner product of the same vectors normalized to both have length 1."
   ]
  },
  {
   "cell_type": "markdown",
   "metadata": {},
   "source": [
    "$$ cos(X, Y) = \\frac{X \\cdot Y}{ \\left \\Vert X \\right \\| \\cdot \\left \\Vert Y \\right \\| } = \\frac{ \\sum\\limits^{^n}_{i=1} X_i \\cdot Y_i }{ \\sqrt{\\sum\\limits^{^n}_{i=1} X_i^2} \\cdot \\sqrt{\\sum\\limits^{^n}_{i=1} Y_i^2} } $$"
   ]
  },
  {
   "cell_type": "code",
   "execution_count": 22,
   "metadata": {},
   "outputs": [],
   "source": [
    "def get_cosine(X: np.array, Y: np.array, min_shared_ratings: int = 3) -> float:\n",
    "    \"\"\"\n",
    "    Cosine Similarity function.\n",
    "    \"\"\"\n",
    "    union: np.array = ~np.isnan(np.sum([X, Y], axis=0))\n",
    "    if np.count_nonzero(union) == 0:\n",
    "        return 0\n",
    "    discount: float = min(min_shared_ratings, np.count_nonzero(union)) / min_shared_ratings\n",
    "    return discount * np.sum(X[union] * Y[union]) / \\\n",
    "        (max(0.0000001, np.sqrt(np.sum(np.power(X[union], 2)))) *\\\n",
    "         max(0.0000001, np.sqrt(np.sum(np.power(Y[union], 2)))))"
   ]
  },
  {
   "cell_type": "code",
   "execution_count": 23,
   "metadata": {},
   "outputs": [
    {
     "name": "stdout",
     "output_type": "stream",
     "text": [
      "[ 1. nan  2.  3.  4.  5.  6.  7.  8.  9.] [ 1.  3.  2.  2. nan  8.  9. 10. 11. 12.] 0.9929196160911488\n"
     ]
    },
    {
     "data": {
      "image/png": "[encoded data removed]",
      "text/plain": [
       "<Figure size 432x288 with 1 Axes>"
      ]
     },
     "metadata": {
      "needs_background": "light"
     },
     "output_type": "display_data"
    }
   ],
   "source": [
    "X: np.array = np.array([1, np.nan, 2, 3, 4, 5, 6, 7, 8, 9])\n",
    "Y: np.array = np.array([1, 3, 2, 2, np.nan, 8, 9, 10, 11, 12])\n",
    "print(X, Y, get_cosine(X, Y))\n",
    "figure: Figure = plt.figure()\n",
    "axes: Axes = figure.add_subplot()\n",
    "axes.plot(np.arange(X.shape[0]), X, 'x', color='blue')\n",
    "axes.plot(np.arange(Y.shape[0]), Y, '.', color='red')\n",
    "plt.show()"
   ]
  },
  {
   "cell_type": "code",
   "execution_count": 24,
   "metadata": {},
   "outputs": [
    {
     "name": "stdout",
     "output_type": "stream",
     "text": [
      "[ 1. nan  2.  3.  4.  5.  6.  7.  8.  9.] [ 10.  30.  20.  20.  nan  80.  90. 100. 110. 120.] 0.9929196160911488\n"
     ]
    },
    {
     "data": {
      "image/png": "[encoded data removed]",
      "text/plain": [
       "<Figure size 432x288 with 1 Axes>"
      ]
     },
     "metadata": {
      "needs_background": "light"
     },
     "output_type": "display_data"
    }
   ],
   "source": [
    "X: np.array = np.array([1, np.nan, 2, 3, 4, 5, 6, 7, 8, 9])\n",
    "Y: np.array = np.array([10, 30, 20, 20, np.nan, 80, 90, 100, 110, 120])\n",
    "print(X, Y, get_cosine(X, Y))\n",
    "figure: Figure = plt.figure()\n",
    "axes: Axes = figure.add_subplot()\n",
    "axes.plot(np.arange(X.shape[0]), X, 'x', color='blue')\n",
    "axes.plot(np.arange(Y.shape[0]), Y, '.', color='red')\n",
    "plt.show()"
   ]
  },
  {
   "cell_type": "code",
   "execution_count": 25,
   "metadata": {},
   "outputs": [
    {
     "name": "stdout",
     "output_type": "stream",
     "text": [
      "[ 1. nan  2.  3.  4.  5.  7.  9. 10.] [100.  65.  32.  24.  nan  10.   7.   4.   2.] 0.21975098781417202\n"
     ]
    },
    {
     "data": {
      "image/png": "[encoded data removed]",
      "text/plain": [
       "<Figure size 432x288 with 1 Axes>"
      ]
     },
     "metadata": {
      "needs_background": "light"
     },
     "output_type": "display_data"
    }
   ],
   "source": [
    "X: np.array = np.array([1, np.nan, 2, 3, 4, 5, 7, 9, 10])\n",
    "Y: np.array = np.array([100, 65, 32, 24, np.nan, 10, 7, 4, 2])\n",
    "print(X, Y, get_cosine(X, Y))\n",
    "figure: Figure = plt.figure()\n",
    "axes: Axes = figure.add_subplot()\n",
    "axes.plot(np.arange(X.shape[0]), X, 'x', color='blue')\n",
    "axes.plot(np.arange(Y.shape[0]), Y, 'o', color='red')\n",
    "plt.show()"
   ]
  },
  {
   "cell_type": "markdown",
   "metadata": {},
   "source": [
    "## Similarity Matrix"
   ]
  },
  {
   "cell_type": "code",
   "execution_count": 26,
   "metadata": {},
   "outputs": [],
   "source": [
    "def get_similarity_matrix(X: np.array, min_shared_ratings: int = 3, sample: float = 1.) -> np.array:\n",
    "    \"\"\"\n",
    "    Get similarity matrix out of a given matrix.\n",
    "    \"\"\"\n",
    "    Y: np.array = np.zeros((X.shape[0], X.shape[0]))\n",
    "    P: np.array = np.random.uniform(size=Y.size).reshape(Y.shape) < sample\n",
    "    for i in range(X.shape[0]):\n",
    "        for j in range(i + 1, X.shape[0]):\n",
    "            if P[i][j]:\n",
    "                Y[i][j] = get_cosine(X[i], X[j], min_shared_ratings=min_shared_ratings)\n",
    "    return Y + Y.T"
   ]
  },
  {
   "cell_type": "code",
   "execution_count": 27,
   "metadata": {},
   "outputs": [
    {
     "name": "stdout",
     "output_type": "stream",
     "text": [
      "[[1 2 3]\n",
      " [4 5 6]\n",
      " [7 8 9]]\n",
      "[[0.         0.97463185 0.95941195]\n",
      " [0.97463185 0.         0.        ]\n",
      " [0.95941195 0.         0.        ]]\n"
     ]
    }
   ],
   "source": [
    "X: np.array = np.array([\n",
    "    [1, 2, 3],\n",
    "    [4, 5, 6],\n",
    "    [7, 8, 9]\n",
    "])\n",
    "S: np.array = get_similarity_matrix(X, sample=0.8)\n",
    "print(X)\n",
    "print(S)"
   ]
  },
  {
   "cell_type": "markdown",
   "metadata": {},
   "source": [
    "## Top K-Similar Rows"
   ]
  },
  {
   "cell_type": "markdown",
   "metadata": {},
   "source": [
    "- https://en.wikipedia.org/wiki/Adjacency_matrix\n",
    "- https://numpy.org/doc/stable/reference/generated/numpy.argsort.html"
   ]
  },
  {
   "cell_type": "markdown",
   "metadata": {},
   "source": [
    "In graph theory and computer science, an adjacency matrix is a square matrix used to represent a finite graph. The elements of the matrix indicate whether pairs of vertices are adjacent or not in the graph."
   ]
  },
  {
   "cell_type": "code",
   "execution_count": 28,
   "metadata": {},
   "outputs": [],
   "source": [
    "def get_adjacency_matrix(similar: np.array, top: int = 4) -> np.array:\n",
    "    \"\"\"\n",
    "    Get top k similar rows of a similarity matrix.\n",
    "    \"\"\"\n",
    "    closest: np.array = np.argsort(similar)\n",
    "    return closest[:, closest.shape[1] - top:]"
   ]
  },
  {
   "cell_type": "code",
   "execution_count": 29,
   "metadata": {},
   "outputs": [
    {
     "name": "stdout",
     "output_type": "stream",
     "text": [
      "[[0 2 3 1]\n",
      " [8 0 6 1]\n",
      " [7 6 0 2]\n",
      " [2 3 1 0]]\n",
      "[[1 2]\n",
      " [2 0]\n",
      " [1 0]\n",
      " [0 1]]\n"
     ]
    }
   ],
   "source": [
    "X: np.array = np.array([\n",
    "    [0, 2, 3, 1],\n",
    "    [8, 0, 6, 1],\n",
    "    [7, 6, 0, 2],\n",
    "    [2, 3, 1, 0]\n",
    "])\n",
    "S: np.array = get_adjacency_matrix(X, 2)\n",
    "print(X)\n",
    "print(S)"
   ]
  },
  {
   "cell_type": "markdown",
   "metadata": {},
   "source": [
    "## Collaborative Filtering"
   ]
  },
  {
   "cell_type": "markdown",
   "metadata": {},
   "source": [
    "Filling the collaborative filtering matrix with ratings from similar rows. The predicted value is the weighted sum of the adjacent rows. Values are denormalized so that the approximate user scores. Entropy is applied to promote novelty across recommendations."
   ]
  },
  {
   "cell_type": "markdown",
   "metadata": {},
   "source": [
    "$$ \\hat{R_{i,j}} = \\mu + σ \\cdot \\frac{ \\sum\\limits^{^n}_{u=1} w_u \\cdot R_{u,j} }{ \\sum\\limits^{^n}_{u=1} w_u } $$"
   ]
  },
  {
   "cell_type": "markdown",
   "metadata": {},
   "source": [
    "$$ E = \\{ (r_{1,1} - \\hat{r_{1,1}}), (r_{1,2} - \\hat{r_{1,2}}), ..., (r_{i,j} - \\hat{r_{i,j}}) \\} $$"
   ]
  },
  {
   "cell_type": "code",
   "execution_count": 30,
   "metadata": {},
   "outputs": [],
   "source": [
    "def get_predictions_matrix(ratings: np.array, normalized: np.array, mean: np.array, deviation: np.array, entropy: np.array, adjacent: np.array, similarity: np.array) -> np.array:\n",
    "    \"\"\"\n",
    "    Collaborative Filtering function.\n",
    "    \"\"\"\n",
    "    predictions: np.array = np.empty(ratings.shape)\n",
    "    for i in range(normalized.shape[0]):\n",
    "        for j in range(normalized.shape[1]):\n",
    "            predictions[i, j] = np.nan\n",
    "            total: float = 0\n",
    "            weights: float = 0\n",
    "            y: float = ratings[i][j]\n",
    "            for k in adjacent[i]:\n",
    "                if np.isnan(normalized[k][j]):\n",
    "                    continue\n",
    "                weight: float = similarity[i][k] * entropy[k]\n",
    "                weights += weight\n",
    "                total += normalized[k][j] * weight\n",
    "            if weights > 0:\n",
    "                y: float = mean[i].flat[0] + deviation[i].flat[0] * total / weights\n",
    "            predictions[i, j] = y\n",
    "    return predictions"
   ]
  },
  {
   "cell_type": "code",
   "execution_count": 31,
   "metadata": {},
   "outputs": [],
   "source": [
    "def get_recommendations_matrix(ratings: np.array, predictions: np.array) -> np.array:\n",
    "    \"\"\"\n",
    "    Collaborative Filtering function.\n",
    "    \"\"\"\n",
    "    r = np.isnan(ratings).reshape(ratings.size)\n",
    "    t = np.copy(predictions.reshape(predictions.size))\n",
    "    t[~r] = np.nan\n",
    "    return t.reshape(predictions.shape)"
   ]
  },
  {
   "cell_type": "code",
   "execution_count": 32,
   "metadata": {},
   "outputs": [
    {
     "name": "stdout",
     "output_type": "stream",
     "text": [
      "[[nan  0.]\n",
      " [ 0. nan]]\n"
     ]
    }
   ],
   "source": [
    "X: np.array = np.array([\n",
    "    [1., np. nan],\n",
    "    [np.nan, 1.],\n",
    "])\n",
    "Y: np.array = np.array([\n",
    "    [2., 0.],\n",
    "    [0., 2.]\n",
    "])\n",
    "Z: np.array = get_recommendations_matrix(X ,Y)\n",
    "print(Z)"
   ]
  },
  {
   "cell_type": "markdown",
   "metadata": {},
   "source": [
    "## Evaluation"
   ]
  },
  {
   "cell_type": "markdown",
   "metadata": {},
   "source": [
    "$$ E = \\{ (r_{1,1} - \\hat{r_{1,1}}), (r_{1,2} - \\hat{r_{1,2}}), ..., (r_{i,j} - \\hat{r_{i,j}}) \\} $$"
   ]
  },
  {
   "cell_type": "markdown",
   "metadata": {},
   "source": [
    "$$ RMSE = \\sqrt{ \\frac{ \\sum\\limits^{^n}_{e=1} e_i^2 }{|E|}} $$"
   ]
  },
  {
   "cell_type": "markdown",
   "metadata": {},
   "source": [
    "$$ NRMSE = \\frac{ RMSE }{ (r_{max} - r_{min}) } $$"
   ]
  },
  {
   "cell_type": "code",
   "execution_count": 33,
   "metadata": {},
   "outputs": [],
   "source": [
    "def get_nrmse(ratings: np.array, predictions: np.array) -> np.matrix:\n",
    "    \"\"\"\n",
    "    Evaluation Function.\n",
    "    \"\"\"\n",
    "    predicted: np.array = predictions.reshape(predictions.size)\n",
    "    target: np.array = ratings.reshape(ratings.size)\n",
    "    tests: np.array = ~np.isnan(target)\n",
    "    predicted = predicted[tests]\n",
    "    target = target[tests]\n",
    "    error: float = np.nansum(np.power((predicted - target), 2))\n",
    "    trials: int = np.count_nonzero(tests)\n",
    "    return np.sqrt(error / trials) / (np.nanmax(predicted) - np.nanmin(predicted))"
   ]
  },
  {
   "cell_type": "code",
   "execution_count": 34,
   "metadata": {},
   "outputs": [
    {
     "name": "stdout",
     "output_type": "stream",
     "text": [
      "0.16666666666666666\n"
     ]
    }
   ],
   "source": [
    "X: np.array = np.array([\n",
    "    [3, np.nan, 1],\n",
    "    [np.nan, 4, 1],\n",
    "])\n",
    "Y: np.array = np.array([\n",
    "    [2, 0, 1],\n",
    "    [0, 4, 1]\n",
    "])\n",
    "nrmse: float = get_nrmse(X, Y)\n",
    "print(nrmse)"
   ]
  },
  {
   "cell_type": "markdown",
   "metadata": {},
   "source": [
    "## Novelty"
   ]
  },
  {
   "cell_type": "markdown",
   "metadata": {},
   "source": [
    "- http://ir.ii.uam.es/saul/pubs/fdia11-vargas.pdf"
   ]
  },
  {
   "cell_type": "markdown",
   "metadata": {},
   "source": [
    "In case we consider an item in a recommendation list, the probability of been discovered, i.e. p(seen|i, R), can be simplified by a decreasing discount function disc. Novelty of an item as the probability of not having been seen. In case we were interested in emphasize highly novel items, a discount rate `d` is applied on `t` times seen."
   ]
  },
  {
   "cell_type": "markdown",
   "metadata": {},
   "source": [
    "$$ \\hat{R_{u,i}} = R_{u,i} \\cdot P(seen/u,i) $$"
   ]
  },
  {
   "cell_type": "markdown",
   "metadata": {},
   "source": [
    "$$ P(seen/u,i) = \\frac{1}{(1 + d)^t} $$"
   ]
  },
  {
   "cell_type": "code",
   "execution_count": 35,
   "metadata": {},
   "outputs": [
    {
     "name": "stdout",
     "output_type": "stream",
     "text": [
      "[1.         0.99009901 0.98029605 0.97059015 0.96098034 0.95146569\n",
      " 0.94204524 0.93271805 0.92348322 0.91433982 0.90528695 0.89632372\n",
      " 0.88744923 0.8786626  0.86996297]\n"
     ]
    },
    {
     "data": {
      "image/png": "[encoded data removed]",
      "text/plain": [
       "<Figure size 432x288 with 1 Axes>"
      ]
     },
     "metadata": {
      "needs_background": "light"
     },
     "output_type": "display_data"
    }
   ],
   "source": [
    "discount: float = 0.01\n",
    "X: np.array = 1 / (1 + discount) ** np.arange(1000)\n",
    "print(X[:15])\n",
    "figure: Figure = plt.figure()\n",
    "axes: Axes = figure.add_subplot()\n",
    "axes.plot(np.arange(X.shape[0]), X, '.', color='blue')\n",
    "plt.show()"
   ]
  },
  {
   "cell_type": "code",
   "execution_count": 36,
   "metadata": {},
   "outputs": [],
   "source": [
    "def get_novelty_matrix(recommendations: np.array, views: np.array, discount_rate: float = 0.01) -> np.array:\n",
    "    \"\"\"\n",
    "    Apply novelty to recommendations.\n",
    "    \"\"\"\n",
    "    return recommendations / (1 + discount_rate) ** views"
   ]
  },
  {
   "cell_type": "code",
   "execution_count": 37,
   "metadata": {},
   "outputs": [
    {
     "name": "stdout",
     "output_type": "stream",
     "text": [
      "[[2.85439706 5.         2.9576897 ]\n",
      " [2.         1.81057391 1.63908894]\n",
      " [0.99009901 0.         1.84855606]]\n"
     ]
    }
   ],
   "source": [
    "X: np.array = np.array([\n",
    "    [3, 5, 8],\n",
    "    [2, 2, 2],\n",
    "    [1, 0, 5],\n",
    "])\n",
    "V: np.array = np.array([\n",
    "    [5, 0, 100],\n",
    "    [0, 10, 20],\n",
    "    [1, 0, 100],\n",
    "])\n",
    "Y:np.array = get_novelty_matrix(X, V)\n",
    "print(Y)"
   ]
  },
  {
   "cell_type": "markdown",
   "metadata": {},
   "source": [
    "## Top K Recommendations Getter"
   ]
  },
  {
   "cell_type": "code",
   "execution_count": 38,
   "metadata": {},
   "outputs": [],
   "source": [
    "def get_top_recommendations(recommendations: np.array, top: int = 3) -> np.array:\n",
    "    \"\"\"\n",
    "    Top K recommendations getter.\n",
    "    \"\"\"\n",
    "    X: np.array = np.copy(recommendations)\n",
    "    X[np.isnan(X)] = 0\n",
    "    return np.argsort(X)[:,::-1][:,:top]"
   ]
  },
  {
   "cell_type": "code",
   "execution_count": 39,
   "metadata": {},
   "outputs": [
    {
     "name": "stdout",
     "output_type": "stream",
     "text": [
      "[[4 3 5]\n",
      " [4 0 5]]\n"
     ]
    }
   ],
   "source": [
    "X: np.array = np.array([\n",
    "    [1, 2, 3, 4, 8, 3, 2, 2],\n",
    "    [4, np.nan, 2, 1, 4, 3, 2, np.nan],\n",
    "])\n",
    "Y: np.array = get_top_recommendations(X, 3)\n",
    "print(Y)"
   ]
  },
  {
   "cell_type": "markdown",
   "metadata": {},
   "source": [
    "## Recommendation Lists"
   ]
  },
  {
   "cell_type": "code",
   "execution_count": 40,
   "metadata": {},
   "outputs": [],
   "source": [
    "def get_liked_matrix(top: np.array, adjacent: np.array, ratings: np.matrix, min_rating: float, silent: bool = True) -> np.array:\n",
    "    \"\"\"\n",
    "    Explain Recommendations.\n",
    "    \"\"\"\n",
    "    Z: np.array = np.empty(top.shape).astype(int)\n",
    "    for user in range(top.shape[0]):\n",
    "        for j in range(top.shape[1]):\n",
    "            item = top[user][j]\n",
    "            X: np.array = ratings[user][adjacent[item]]\n",
    "            Y: np.array = np.greater(X, min_rating)\n",
    "            if np.count_nonzero(~Y) == adjacent.shape[1]:\n",
    "                Z[user][j] = -1\n",
    "                continue\n",
    "            Z[user][j] = adjacent[item][Y][np.nanargmax(X[Y])]\n",
    "            if not silent:\n",
    "                print(f'Item #{top[user][j]} recommended to User #{user} because they liked Item #{Z[user][j]}.')\n",
    "    return Z"
   ]
  },
  {
   "cell_type": "code",
   "execution_count": 41,
   "metadata": {},
   "outputs": [
    {
     "name": "stdout",
     "output_type": "stream",
     "text": [
      "Item #1 recommended to User #1 because they liked Item #0.\n",
      "Item #2 recommended to User #1 because they liked Item #1.\n",
      "Item #1 recommended to User #2 because they liked Item #0.\n",
      "[[-1 -1]\n",
      " [ 0  1]\n",
      " [-1  0]\n",
      " [-1 -1]]\n"
     ]
    }
   ],
   "source": [
    "top: np.array = np.array([\n",
    "    [0, 1],\n",
    "    [1, 2],\n",
    "    [0, 1],\n",
    "    [0, 2]\n",
    "])\n",
    "adjacent: np.array = np.array([\n",
    "    [1, 2],\n",
    "    [0, 2],\n",
    "    [0, 1],\n",
    "])\n",
    "user_user: np.array = np.array([\n",
    "    [np.nan, np.nan, 3],\n",
    "    [4, 5, np.nan],\n",
    "    [4, np.nan, 2],\n",
    "    [0, 0, 1],\n",
    "])\n",
    "liked: np.array = get_liked_matrix(top, adjacent, user_user, 3, silent=False)\n",
    "print(liked)"
   ]
  },
  {
   "cell_type": "markdown",
   "metadata": {},
   "source": [
    "## Diversity"
   ]
  },
  {
   "cell_type": "markdown",
   "metadata": {},
   "source": [
    "Diversity is a property of a recommendation list or a set of them composed by one or several recommender systems. It reflects how dissimilar items are to each other in the list. To measure diversity inside a list, researchers often calculate an average pairwise dissimilarity of items in a recommendation list."
   ]
  },
  {
   "cell_type": "markdown",
   "metadata": {},
   "source": [
    "## Serendipity"
   ]
  },
  {
   "cell_type": "markdown",
   "metadata": {},
   "source": [
    "- https://link.springer.com/content/pdf/10.1007/s00607-018-0687-5.pdf"
   ]
  },
  {
   "cell_type": "markdown",
   "metadata": {},
   "source": [
    "The dictionary definition of serendipity is “the faculty of making fortunate discoveries by accident”."
   ]
  },
  {
   "cell_type": "markdown",
   "metadata": {},
   "source": [
    "## Trending Items"
   ]
  },
  {
   "cell_type": "code",
   "execution_count": 42,
   "metadata": {},
   "outputs": [],
   "source": [
    "def get_trending_items(recommendations: np.array, top: int = 5) -> np.array:\n",
    "    \"\"\"\n",
    "    Trending Items getter.\n",
    "    \"\"\"\n",
    "    trends: np.array = np.nansum(recommendations, axis=1) /\\\n",
    "        np.count_nonzero(~np.isnan(0.0001 + recommendations), axis=1)\n",
    "    return trends[:top]"
   ]
  },
  {
   "cell_type": "code",
   "execution_count": 43,
   "metadata": {},
   "outputs": [
    {
     "name": "stdout",
     "output_type": "stream",
     "text": [
      "[2.  1.5]\n"
     ]
    }
   ],
   "source": [
    "X: np.array = np.array([\n",
    "    [np.nan, 1, 2, 3],\n",
    "    [4, 0, 0, 2],\n",
    "    [np.nan, 3, 3, 5],\n",
    "])\n",
    "Y: np.array = get_trending_items(X, 2)\n",
    "print(Y)"
   ]
  },
  {
   "cell_type": "markdown",
   "metadata": {},
   "source": [
    "![user-user](./wallpaper.jpg)"
   ]
  },
  {
   "cell_type": "markdown",
   "metadata": {},
   "source": [
    "## User-Based Collaborative Filtering"
   ]
  },
  {
   "cell_type": "code",
   "execution_count": 153,
   "metadata": {},
   "outputs": [
    {
     "name": "stdout",
     "output_type": "stream",
     "text": [
      "[[2.75  nan  nan 5.    nan 3.   2.75  nan 4.   0.   2.25 1.5  1.75  nan\n",
      "  2.25]\n",
      " [5.    nan 3.5  2.    nan  nan  nan 5.   1.    nan  nan 2.5  5.   0.75\n",
      "   nan]\n",
      " [ nan  nan 3.    nan 5.   3.75  nan  nan 2.25  nan 2.5   nan 5.    nan\n",
      "   nan]\n",
      " [2.75 2.    nan 2.   4.   2.   0.   3.   2.    nan  nan 2.   5.   2.25\n",
      "  2.  ]\n",
      " [ nan  nan  nan 2.5   nan  nan  nan 3.   0.   1.5  1.   2.25  nan 4.\n",
      "   nan]\n",
      " [ nan  nan  nan  nan 1.    nan 2.    nan 2.75  nan 2.   1.75  nan 3.\n",
      "  2.25]\n",
      " [ nan  nan  nan  nan  nan 2.75  nan  nan 5.   2.5  2.   0.    nan  nan\n",
      "   nan]\n",
      " [ nan 0.   5.    nan  nan 3.    nan 2.5  2.   3.   1.75  nan 1.5  2.25\n",
      "  2.  ]\n",
      " [ nan 4.   1.   1.25  nan  nan  nan  nan  nan 2.5  2.5   nan  nan  nan\n",
      "   nan]\n",
      " [ nan  nan  nan  nan 2.   1.5   nan 1.75 4.   2.    nan  nan 2.5   nan\n",
      "  4.  ]]\n",
      "[[2.75       1.81699575 5.06805439 2.73972226 7.09175162 4.39801923\n",
      "  2.75       3.89945014 4.52773065 3.48165857 3.39378108 1.22861078\n",
      "  6.1529574  3.6323662  3.36528227]\n",
      " [5.                nan 3.5        2.         4.88284888 4.01638421\n",
      "         nan 4.44961655 8.34870757 4.88284888        nan 2.5\n",
      "  5.74931355 0.75       8.34870757]\n",
      " [4.82295116        nan 3.         6.74171797 4.55241165 4.47445737\n",
      "  5.60729838 4.4772997  6.9376378  3.99769672 5.44262272 4.91763541\n",
      "  4.87743616 7.91233372 6.29685224]\n",
      " [2.75       4.51232187 3.28577315 3.12122932 4.         4.14521933\n",
      "  0.         3.99693712 1.73414246 3.44791883 3.06824476 3.39403094\n",
      "  2.69390122 4.64879381 3.17767392]\n",
      " [3.6838193  2.89946378        nan 2.89946378 3.55403298 2.89946378\n",
      "  3.47103953 3.94527115 5.17703031 1.5        4.83175023 3.84543506\n",
      "  6.03688588 5.59834091 4.51123269]\n",
      " [       nan 1.49685688 3.54135369 2.73943212 4.25697908 3.31300752\n",
      "  2.         2.85632135 2.33707067 2.67214787 2.48005696 2.61517459\n",
      "  3.34956771 3.00270171 2.50271271]\n",
      " [4.24404243 6.81803077 2.34200769 3.96750632 4.15719635 3.66243755\n",
      "  4.24404243 3.7437968  7.00862888 3.78516278 4.30279436 2.70129587\n",
      "  4.44766719        nan 6.42185188]\n",
      " [3.76399756 3.15362033 5.         4.75940365 3.33014775 3.60898801\n",
      "  4.44201806 4.18716355 5.93965963 1.08653389 4.73193159 4.09405915\n",
      "  4.08522425 6.61865216 4.94225566]\n",
      " [3.67288364 3.00437279 1.         3.16537637 4.83112612 3.02513356\n",
      "  1.33622051 3.91774946 4.3170246  2.83300203 2.52437657 1.44376814\n",
      "  5.52702581 3.23271696 3.00677532]\n",
      " [4.45341521        nan 4.03637534 2.72224249 5.94420394 3.81452444\n",
      "         nan 4.45341521 3.97991499 3.07998194 3.13019941 1.80621452\n",
      "  5.556962   2.00092052 4.        ]]\n",
      "NRMSE 0.25649792665259313\n",
      "[[2.75  nan  nan 5.    nan 3.   2.75  nan 4.   0.   2.25 1.5  1.75  nan\n",
      "  2.25]\n",
      " [5.    nan 3.5  2.    nan  nan  nan 5.   1.    nan  nan 2.5  5.   0.75\n",
      "   nan]\n",
      " [ nan  nan 3.    nan 5.   3.75  nan  nan 2.25  nan 2.5   nan 5.    nan\n",
      "   nan]\n",
      " [2.75 2.    nan 2.   4.   2.   0.   3.   2.    nan  nan 2.   5.   2.25\n",
      "  2.  ]\n",
      " [ nan  nan  nan 2.5   nan  nan  nan 3.   0.   1.5  1.   2.25  nan 4.\n",
      "   nan]\n",
      " [ nan  nan  nan  nan 1.    nan 2.    nan 2.75  nan 2.   1.75  nan 3.\n",
      "  2.25]\n",
      " [ nan  nan  nan  nan  nan 2.75  nan  nan 5.   2.5  2.   0.    nan  nan\n",
      "   nan]\n",
      " [ nan 0.   5.    nan  nan 3.    nan 2.5  2.   3.   1.75  nan 1.5  2.25\n",
      "  2.  ]\n",
      " [ nan 4.   1.   1.25  nan  nan  nan  nan  nan 2.5  2.5   nan  nan  nan\n",
      "   nan]\n",
      " [ nan  nan  nan  nan 2.   1.5   nan 1.75 4.   2.    nan  nan 2.5   nan\n",
      "  4.  ]]\n",
      "[[       nan 1.81699575 5.01787563        nan 6.81503391        nan\n",
      "         nan 3.89945014        nan        nan        nan        nan\n",
      "         nan 3.6323662         nan]\n",
      " [       nan        nan        nan        nan 1.75215202 4.01638421\n",
      "         nan        nan        nan 4.83450384        nan        nan\n",
      "         nan        nan 8.34870757]\n",
      " [4.77519917        nan        nan 6.60887949        nan        nan\n",
      "  5.44238857 4.38907921        nan 3.99769672        nan 4.91763541\n",
      "         nan 7.91233372 5.75746277]\n",
      " [       nan        nan 3.22103044        nan        nan        nan\n",
      "         nan        nan        nan 3.44791883 3.06824476        nan\n",
      "         nan        nan        nan]\n",
      " [3.6838193  2.89946378        nan        nan 3.55403298 2.89946378\n",
      "  3.47103953        nan        nan        nan        nan        nan\n",
      "  6.03688588        nan 4.378558  ]\n",
      " [       nan 1.43845004 3.54135369 2.73943212        nan 3.24772819\n",
      "         nan 2.80004054        nan 2.67214787        nan        nan\n",
      "  3.34956771        nan        nan]\n",
      " [3.44374406 6.81803077 2.22833996 3.96750632 4.15719635        nan\n",
      "  4.11922577 3.7437968         nan        nan        nan        nan\n",
      "  4.40363089        nan 6.35826919]\n",
      " [3.76399756        nan        nan 4.75940365 3.13714982        nan\n",
      "  4.44201806        nan        nan        nan        nan 4.09405915\n",
      "         nan        nan        nan]\n",
      " [3.67288364        nan        nan        nan 4.78329319 2.99518174\n",
      "  1.32299061 3.91774946 4.3170246         nan        nan 1.44376814\n",
      "  5.3644768  3.23271696 2.97700527]\n",
      " [4.40932199        nan 4.03637534 2.69528959        nan        nan\n",
      "         nan        nan        nan        nan 3.13019941 1.77062496\n",
      "         nan 2.00092052        nan]]\n"
     ]
    }
   ],
   "source": [
    "users: int = 10\n",
    "items: int = 15\n",
    "min_rating: float = 0\n",
    "max_rating: float = 5\n",
    "stars: np.array = get_random_ratings_matrix((users, items), low=min_rating, high=max_rating)\n",
    "ts: np.array = get_random_timestamp_matrix(stars.shape, window=20)\n",
    "starts = age(stars, ts)\n",
    "views: np.array = get_random_views_matrix(stars.shape)\n",
    "likes: np.array = get_random_likes_matrix(stars.shape, p=0.5, n=max_rating)\n",
    "likes.reshape(likes.size)[views.reshape(views.size) == 0] = np.nan\n",
    "bookmarked: np.array = get_random_likes_matrix(stars.shape, p=0.5, n=max_rating)\n",
    "bookmarked.reshape(bookmarked.size)[views.reshape(views.size) == 0] = np.nan\n",
    "shares: np.array = get_random_shares_matrix(stars.shape)\n",
    "shares.reshape(likes.size)[views.reshape(views.size) == 0] = np.nan\n",
    "ts: np.array = get_random_timestamp_matrix(stars.shape, window=20)\n",
    "shares = age(likes, ts)\n",
    "user_user: np.array = get_merged_feedback_matrix(stars, shares, likes, bookmarked)\n",
    "user_user.reshape(user_user.size)[np.isnan(stars.reshape(starts.size))] = np.nan\n",
    "user_user = get_active_users(user_user, 2)\n",
    "user_user = get_good_items(user_user, 0)\n",
    "\n",
    "mean, deviation, normalized = get_normalized_matrix(user_user)\n",
    "similarity: np.array = get_similarity_matrix(normalized, sample=0.4)\n",
    "adjacent: np.array = get_adjacency_matrix(similarity)\n",
    "entropy: np.array = get_entropy_array(user_user.T)\n",
    "predictions: np.array = get_predictions_matrix(ratings=user_user,\n",
    "                                               normalized=normalized,\n",
    "                                               mean=mean,\n",
    "                                               deviation=deviation,\n",
    "                                               similarity=similarity,\n",
    "                                               entropy=entropy,\n",
    "                                               adjacent=adjacent)\n",
    "recommendations: np.array = get_recommendations_matrix(user_user, predictions)\n",
    "recommendations: np.matrix = get_novelty_matrix(recommendations, views)\n",
    "nrmse: float = get_nrmse(user_user, predictions)\n",
    "print('NRMSE', nrmse)\n",
    "print(user_user)\n",
    "print(recommendations)"
   ]
  },
  {
   "cell_type": "markdown",
   "metadata": {},
   "source": [
    "## Item-Based Collaborative Filtering"
   ]
  },
  {
   "cell_type": "code",
   "execution_count": 63,
   "metadata": {},
   "outputs": [
    {
     "name": "stdout",
     "output_type": "stream",
     "text": [
      "Item #12 recommended to User #0 because they liked Item #4.\n",
      "Item #10 recommended to User #0 because they liked Item #4.\n",
      "Item #14 recommended to User #1 because they liked Item #12.\n",
      "Item #4 recommended to User #1 because they liked Item #12.\n",
      "Item #5 recommended to User #1 because they liked Item #12.\n",
      "Item #5 recommended to User #2 because they liked Item #12.\n",
      "Item #3 recommended to User #2 because they liked Item #12.\n",
      "Item #11 recommended to User #2 because they liked Item #1.\n",
      "Item #3 recommended to User #3 because they liked Item #9.\n",
      "Item #4 recommended to User #3 because they liked Item #10.\n",
      "Item #11 recommended to User #4 because they liked Item #12.\n",
      "Item #14 recommended to User #4 because they liked Item #12.\n",
      "Item #4 recommended to User #4 because they liked Item #6.\n",
      "Item #10 recommended to User #5 because they liked Item #4.\n",
      "Item #3 recommended to User #5 because they liked Item #12.\n",
      "Item #2 recommended to User #6 because they liked Item #6.\n",
      "Item #4 recommended to User #6 because they liked Item #6.\n",
      "Item #0 recommended to User #6 because they liked Item #14.\n",
      "Item #12 recommended to User #7 because they liked Item #6.\n",
      "Item #13 recommended to User #7 because they liked Item #2.\n",
      "Item #14 recommended to User #8 because they liked Item #12.\n",
      "Item #5 recommended to User #8 because they liked Item #12.\n",
      "Item #6 recommended to User #8 because they liked Item #12.\n",
      "Item #12 recommended to User #9 because they liked Item #11.\n",
      "Item #6 recommended to User #9 because they liked Item #2.\n",
      "NRMSE 0.24534705681357968\n",
      "[[ 2.  4. nan  5.  5.  5.  1. nan nan nan nan nan nan  0. nan]\n",
      " [ 4.  4.  1. nan nan nan nan  1.  5. nan nan nan  5. nan nan]\n",
      " [nan  5. nan nan  5. nan  5. nan nan  5.  3. nan  5.  2.  3.]\n",
      " [nan  3.  1. nan nan nan  1.  2.  5.  5.  5.  4. nan  2.  1.]\n",
      " [ 2. nan nan nan nan nan  5. nan nan nan nan nan  5.  4. nan]\n",
      " [nan  1.  5. nan  5.  2.  1. nan nan nan nan  4.  5.  5. nan]\n",
      " [nan  3. nan nan nan  5.  5. nan  3. nan nan  1.  2. nan  5.]\n",
      " [nan nan  5.  0.  3. nan  5. nan  0.  1. nan nan nan nan  0.]\n",
      " [nan nan  4. nan nan nan nan nan nan nan  0. nan  5.  0. nan]\n",
      " [ 0. nan  5.  5. nan nan nan  5.  3.  3. nan  5. nan  2. nan]]\n",
      "[[12 10 11]\n",
      " [14  4  5]\n",
      " [ 5  3 11]\n",
      " [ 3 12  4]\n",
      " [11 14  4]\n",
      " [10  3  9]\n",
      " [ 2  4  0]\n",
      " [12  5 13]\n",
      " [14  5  6]\n",
      " [12  6 10]]\n",
      "[5.06336078 4.65640603 4.96737959]\n"
     ]
    }
   ],
   "source": [
    "users: int = 10\n",
    "items: int = 15\n",
    "min_rating: float = 0\n",
    "max_rating: float = 5\n",
    "stars: np.array = get_random_ratings_matrix((users, items), low=min_rating, high=max_rating)\n",
    "ts: np.array = get_random_timestamp_matrix(stars.shape, window=20)\n",
    "starts = age(stars, ts)\n",
    "views: np.array = get_random_views_matrix(stars.shape)\n",
    "likes: np.array = get_random_likes_matrix(stars.shape, p=0.5, n=max_rating)\n",
    "likes.reshape(likes.size)[views.reshape(views.size) == 0] = np.nan\n",
    "bookmarked: np.array = get_random_likes_matrix(stars.shape, p=0.5, n=max_rating)\n",
    "bookmarked.reshape(bookmarked.size)[views.reshape(views.size) == 0] = np.nan\n",
    "shares: np.array = get_random_shares_matrix(stars.shape)\n",
    "shares.reshape(likes.size)[views.reshape(views.size) == 0] = np.nan\n",
    "ts: np.array = get_random_timestamp_matrix(stars.shape, window=20)\n",
    "shares = age(likes, ts)\n",
    "user_user: np.array = get_merged_feedback_matrix(stars, shares, likes, bookmarked)\n",
    "user_user.reshape(user_user.size)[np.isnan(stars.reshape(starts.size))] = np.nan\n",
    "user_user = get_active_users(user_user, 2)\n",
    "user_user = get_good_items(user_user, 0)\n",
    "item_item: np.array = user_user.T\n",
    "views: np.array = get_random_views_matrix(item_item.shape)\n",
    "mean, deviation, normalized = get_normalized_matrix(item_item)\n",
    "similarity: np.array = get_similarity_matrix(normalized, sample=0.4)\n",
    "adjacent: np.array = get_adjacency_matrix(similarity)\n",
    "entropy: np.array = get_entropy_array(item_item.T)\n",
    "predictions: np.array = get_predictions_matrix(ratings=item_item,\n",
    "                                               normalized=normalized,\n",
    "                                               mean=mean,\n",
    "                                               deviation=deviation,\n",
    "                                               similarity=similarity,\n",
    "                                               entropy=entropy,\n",
    "                                               adjacent=adjacent)\n",
    "recommendations: np.array = get_recommendations_matrix(item_item, predictions)\n",
    "recommendations: np.matrix = get_novelty_matrix(recommendations, views)\n",
    "nrmse: float = get_nrmse(item_item, predictions)\n",
    "top: np.array = get_top_recommendations(recommendations.T)\n",
    "trending: np.array = get_trending_items(recommendations, 3)\n",
    "liked: np.array = get_liked_matrix(top, adjacent, user_user, 4, silent=False)\n",
    "print('NRMSE', nrmse)\n",
    "print(user_user)\n",
    "print(top)\n",
    "print(trending)"
   ]
  },
  {
   "cell_type": "markdown",
   "metadata": {},
   "source": [
    "## Scaling"
   ]
  },
  {
   "cell_type": "code",
   "execution_count": 64,
   "metadata": {},
   "outputs": [
    {
     "name": "stdout",
     "output_type": "stream",
     "text": [
      "USERS 3\n",
      "ITEMS 10\n",
      "NRMSE 0.37837849509114907\n",
      "ELAPSED 28.439075708389282\n",
      "RECOMMENDATIONS (2500, 3)\n",
      "TRENDING (3,)\n"
     ]
    }
   ],
   "source": [
    "start: float = time.time()   \n",
    "min_rating: float = 0\n",
    "max_rating: float = 5\n",
    "user_user: np.array = get_random_ratings_matrix((2500, 500), low=min_rating, high=max_rating)\n",
    "user_user = get_active_users(user_user, 20)\n",
    "user_user = get_good_items(user_user, 2)\n",
    "item_item: np.array = user_user.T\n",
    "views: np.array = get_random_views_matrix(item_item.shape)\n",
    "mean, deviation, normalized = get_normalized_matrix(item_item)\n",
    "similarity: np.array = get_similarity_matrix(normalized, min_shared_ratings=20, sample=0.6)\n",
    "adjacent: np.array = get_adjacency_matrix(similarity)\n",
    "entropy: np.array = get_entropy_array(item_item.T)\n",
    "predictions: np.array = get_predictions_matrix(ratings=item_item,\n",
    "                                               normalized=normalized,\n",
    "                                               mean=mean,\n",
    "                                               deviation=deviation,\n",
    "                                               similarity=similarity,\n",
    "                                               entropy=entropy,\n",
    "                                               adjacent=adjacent)\n",
    "recommendations: np.array = get_recommendations_matrix(item_item, predictions)\n",
    "recommendations: np.matrix = get_novelty_matrix(recommendations, views)\n",
    "nrmse: float = get_nrmse(item_item, predictions)\n",
    "top: np.array = get_top_recommendations(recommendations.T)\n",
    "trending: np.array = get_trending_items(recommendations, 3)\n",
    "liked: np.array = get_liked_matrix(top, adjacent, user_user, 4)\n",
    "print('USERS', ratings.shape[0])\n",
    "print('ITEMS', ratings.shape[1])\n",
    "print('NRMSE', nrmse)\n",
    "print('ELAPSED', time.time() - start)\n",
    "print('RECOMMENDATIONS', top.shape)\n",
    "print('TRENDING', trending.shape)"
   ]
  },
  {
   "cell_type": "code",
   "execution_count": 146,
   "metadata": {},
   "outputs": [
    {
     "name": "stdout",
     "output_type": "stream",
     "text": [
      "[[ 4.  5.  1.]\n",
      " [nan nan  5.]\n",
      " [nan  5. nan]\n",
      " [nan nan  4.]]\n",
      "[[nan  0.  0.]\n",
      " [nan nan  0.]\n",
      " [ 0.  0.  0.]\n",
      " [nan nan nan]]\n",
      "[[nan  2.  3.]\n",
      " [nan nan  1.]\n",
      " [ 5.  2.  3.]\n",
      " [nan nan nan]]\n",
      "[[nan  3.  2.]\n",
      " [nan nan  2.]\n",
      " [ 1.  2.  1.]\n",
      " [nan nan nan]]\n",
      "[[4.         2.5        1.5       ]\n",
      " [0.         0.         2.        ]\n",
      " [2.         2.25       1.33333333]\n",
      " [0.         0.         4.        ]]\n"
     ]
    }
   ],
   "source": [
    "min_rating: float = 0\n",
    "max_rating: float = 5\n",
    "stars: np.array = get_random_ratings_matrix((4, 3), low=min_rating, high=max_rating)\n",
    "ts: np.array = get_random_timestamp_matrix(stars.shape, window=20)\n",
    "starts = age(stars, ts)\n",
    "views: np.array = get_random_views_matrix(stars.shape)\n",
    "likes: np.array = get_random_likes_matrix(stars.shape, p=0.5, n=max_rating)\n",
    "likes.reshape(likes.size)[views.reshape(views.size) == 0] = np.nan\n",
    "bookmarked: np.array = get_random_likes_matrix(stars.shape, p=0.5, n=max_rating)\n",
    "bookmarked.reshape(bookmarked.size)[views.reshape(views.size) == 0] = np.nan\n",
    "shares: np.array = get_random_shares_matrix(stars.shape)\n",
    "shares.reshape(likes.size)[views.reshape(views.size) == 0] = np.nan\n",
    "ts: np.array = get_random_timestamp_matrix(stars.shape, window=20)\n",
    "shares = age(likes, ts)\n",
    "user_user: np.array = get_merged_feedback_matrix(stars, shares, likes, bookmarked)\n",
    "print(stars)\n",
    "print(shares)\n",
    "print(likes)\n",
    "print(bookmarked)\n",
    "print(user_user)"
   ]
  },
  {
   "cell_type": "code",
   "execution_count": null,
   "metadata": {},
   "outputs": [],
   "source": []
  }
 ],
 "metadata": {
  "kernelspec": {
   "display_name": "Python 3",
   "language": "python",
   "name": "python3"
  },
  "language_info": {
   "codemirror_mode": {
    "name": "ipython",
    "version": 3
   },
   "file_extension": ".py",
   "mimetype": "text/x-python",
   "name": "python",
   "nbconvert_exporter": "python",
   "pygments_lexer": "ipython3",
   "version": "3.7.6"
  }
 },
 "nbformat": 4,
 "nbformat_minor": 4
}
