{
 "cells": [
  {
   "cell_type": "markdown",
   "metadata": {},
   "source": [
    "# Memory Based Collaborative Filtering"
   ]
  },
  {
   "cell_type": "markdown",
   "metadata": {},
   "source": [
    "- https://www.springer.com/gp/book/9783319296579\n",
    "- https://numpy.org/"
   ]
  },
  {
   "cell_type": "code",
   "execution_count": 1,
   "metadata": {},
   "outputs": [],
   "source": [
    "import numpy as np\n",
    "\n",
    "import matplotlib.pyplot as plt\n",
    "from matplotlib.figure import Figure\n",
    "from matplotlib.axes import Axes"
   ]
  },
  {
   "cell_type": "code",
   "execution_count": 2,
   "metadata": {},
   "outputs": [],
   "source": [
    "np.random.seed(10)"
   ]
  },
  {
   "cell_type": "markdown",
   "metadata": {},
   "source": [
    "## Cold Start"
   ]
  },
  {
   "cell_type": "markdown",
   "metadata": {},
   "source": [
    "Removing users with a low amount of ratings."
   ]
  },
  {
   "cell_type": "code",
   "execution_count": 3,
   "metadata": {},
   "outputs": [],
   "source": [
    "def get_hot_users(ratings: np.array, min_ratings: int = 10) -> np.array:\n",
    "    \"\"\"\n",
    "    Cold Start users removal.\n",
    "    \"\"\"\n",
    "    return ratings[np.sum(~np.isnan(ratings), axis=1) >= min_ratings]"
   ]
  },
  {
   "cell_type": "code",
   "execution_count": 4,
   "metadata": {},
   "outputs": [
    {
     "name": "stdout",
     "output_type": "stream",
     "text": [
      "[[ 1.  1.  1.  2.  3.]\n",
      " [ 1.  1. nan  2.  3.]]\n"
     ]
    }
   ],
   "source": [
    "X: np.array = np.array([\n",
    "    [1, 1, 1, 2, 3],\n",
    "    [1, 1, np.nan, 2, 3],\n",
    "    [np.nan, np.nan, 3, np.nan, 2],\n",
    "])\n",
    "Y: np.array = get_hot_users(X, 3)\n",
    "print(Y)"
   ]
  },
  {
   "cell_type": "markdown",
   "metadata": {},
   "source": [
    "## User-Rating Matrix"
   ]
  },
  {
   "cell_type": "markdown",
   "metadata": {},
   "source": [
    "The ratings matrix is denoted by `R` and it is an `m` by `n` matrix containing `m` users and `n` items. The rating of user `u1` for item `i3` is denoted by `r13`."
   ]
  },
  {
   "cell_type": "markdown",
   "metadata": {},
   "source": [
    "$$ U = \\{ u_1, u_2 ... u_m \\} \\land |U| = m $$"
   ]
  },
  {
   "cell_type": "markdown",
   "metadata": {},
   "source": [
    "$$ I = \\{ i_1, i_2 ... i_n \\} \\land |I| = n $$"
   ]
  },
  {
   "cell_type": "markdown",
   "metadata": {},
   "source": [
    "$$ R = \\{ r_{1,1}, r_{1,2} ... r_{2,1}, r_{2,2} ... r_{m,n} \\} \\land |R| = m \\times n $$"
   ]
  },
  {
   "cell_type": "code",
   "execution_count": 5,
   "metadata": {},
   "outputs": [],
   "source": [
    "def get_random_ratings_matrix(users: int = 10, items: int = 15, min_rating: float = 0, max_rating: float = 5) -> np.array:\n",
    "    \"\"\"\n",
    "    Random dataset generator.\n",
    "    \"\"\"\n",
    "    ratings: np.array = max_rating * np.random.randn(users, items)\n",
    "    ratings[ratings < min_rating] = np.nan\n",
    "    ratings[ratings > max_rating] = max_rating\n",
    "    ratings = np.floor(ratings)\n",
    "    return ratings"
   ]
  },
  {
   "cell_type": "code",
   "execution_count": 6,
   "metadata": {},
   "outputs": [
    {
     "name": "stdout",
     "output_type": "stream",
     "text": [
      "[[ 5.  3. nan nan  3. nan  1.  0.  0. nan  2.  5. nan  5.  1.]\n",
      " [ 2. nan  0.  5. nan nan nan  1.  5.  5.  5.  0.  5. nan  3.]\n",
      " [nan nan  0. nan  5.  0.  2. nan  5. nan  3. nan nan nan nan]\n",
      " [nan nan  1.  2. nan nan  1. nan  3.  4.  1.  5.  4. nan nan]\n",
      " [nan nan  5. nan nan nan  5. nan nan nan  1.  2. nan  4.  1.]\n",
      " [ 5. nan  3. nan nan  5.  5. nan nan nan nan nan  1.  1. nan]\n",
      " [ 5.  1. nan nan  3.  4. nan  0.  4. nan  0. nan nan  2. nan]\n",
      " [nan nan  4.  3. nan  1. nan  5. nan nan nan nan  0.  1. nan]\n",
      " [nan nan  5.  5.  5.  1.  5.  0.  5.  3. nan nan nan  1. nan]\n",
      " [nan  5.  0.  5.  5. nan nan nan nan  1.  5. nan nan  1.  5.]]\n"
     ]
    }
   ],
   "source": [
    "ratings: np.array = get_hot_users(get_random_ratings_matrix(users=10, items=15), 2)\n",
    "print(ratings)"
   ]
  },
  {
   "cell_type": "markdown",
   "metadata": {},
   "source": [
    "## Views Matrix"
   ]
  },
  {
   "cell_type": "code",
   "execution_count": 7,
   "metadata": {},
   "outputs": [],
   "source": [
    "def get_random_views_matrix(ratings: np.array) -> np.array:\n",
    "    \"\"\"\n",
    "    Random views matrix generator.\n",
    "    \"\"\"\n",
    "    return np.floor(np.random.lognormal(0, 1, ratings.size)).reshape(ratings.shape)"
   ]
  },
  {
   "cell_type": "code",
   "execution_count": 8,
   "metadata": {},
   "outputs": [
    {
     "name": "stdout",
     "output_type": "stream",
     "text": [
      "[[ 1.  1.  3.  1.  0.  1.  0.  1.  2.  0.  3.  0.  1.  1.  0.]\n",
      " [ 0.  0.  0.  1.  0.  0.  1.  3.  1.  0.  0.  1.  1.  2.  0.]\n",
      " [ 0.  0.  1.  2.  9.  1.  1.  0.  0.  2.  1.  0.  0.  0.  0.]\n",
      " [ 3.  2.  0.  3.  0.  1.  3.  0.  1.  0.  0.  2.  1.  0.  0.]\n",
      " [ 0.  3.  1.  0.  0.  1.  0.  3.  1.  3.  0.  2.  1.  0.  1.]\n",
      " [ 1.  0.  0.  1.  0.  0.  1.  1.  1.  1.  1.  0.  0.  0.  3.]\n",
      " [ 0.  1.  0.  0.  0.  0.  2.  0.  5.  3.  0.  0.  0.  1.  1.]\n",
      " [ 4.  0.  1.  0.  0.  6.  1.  1.  0.  0.  1.  0.  1.  1.  0.]\n",
      " [ 1.  1.  0.  0.  0.  1.  2.  0.  3.  1.  0.  1.  2.  1. 10.]\n",
      " [ 1.  2.  1.  2.  0.  0.  0.  1.  1.  2.  1.  1.  0.  1.  2.]]\n"
     ]
    }
   ],
   "source": [
    "views: np.array = get_random_views_matrix(ratings)\n",
    "print(views)"
   ]
  },
  {
   "cell_type": "markdown",
   "metadata": {},
   "source": [
    "## Normalization"
   ]
  },
  {
   "cell_type": "markdown",
   "metadata": {},
   "source": [
    "- https://en.wikipedia.org/wiki/Normalization_(statistics)"
   ]
  },
  {
   "cell_type": "markdown",
   "metadata": {},
   "source": [
    "In statistics and applications of statistics, normalization can have a range of meanings. In the simplest cases, normalization of ratings means adjusting values measured on different scales to a notionally common scale, often prior to averaging."
   ]
  },
  {
   "cell_type": "markdown",
   "metadata": {},
   "source": [
    "$$ \\bar{\\mu} = \\frac{\\sum\\limits^{^n}_{i=1} x_i}{n}\t $$"
   ]
  },
  {
   "cell_type": "markdown",
   "metadata": {},
   "source": [
    "$$ σ^2 = \\frac{\\sum\\limits^{^n}_{i=1} (x_i - \\bar{\\mu})^2}{n}\t $$"
   ]
  },
  {
   "cell_type": "markdown",
   "metadata": {},
   "source": [
    "$$ z = \\frac{x_i - \\bar{\\mu}}{σ}\t $$"
   ]
  },
  {
   "cell_type": "code",
   "execution_count": 9,
   "metadata": {},
   "outputs": [],
   "source": [
    "def get_normalized_matrix(matrix: np.array) -> tuple:\n",
    "    \"\"\"\n",
    "    Normalization Function.\n",
    "    Returns z-score of each element in the input matrix.\n",
    "    \"\"\"    \n",
    "    sample_size: np.array = np.sum(~np.isnan(matrix), axis=1)\n",
    "    sample_size[sample_size == 0] = 1    \n",
    "    mean: np.array = np.nansum(matrix, axis=1) / sample_size\n",
    "    mean = mean.reshape(mean.shape[0], 1)\n",
    "    variance: np.array = np.nansum(np.power(matrix - mean, 2), axis=1) / sample_size\n",
    "    variance = variance.reshape(variance.shape[0], 1)\n",
    "    variance[variance == 0] = 1\n",
    "    deviation: np.array = np.sqrt(variance)\n",
    "    normalized: np.array = (matrix - deviation) / deviation\n",
    "    return mean, deviation, normalized"
   ]
  },
  {
   "cell_type": "code",
   "execution_count": 10,
   "metadata": {},
   "outputs": [
    {
     "name": "stdout",
     "output_type": "stream",
     "text": [
      "ORIGINAL [[ 0.75529996  1.9905968   1.98226592  2.63827669  3.97304436  5.90503196\n",
      "   8.27812396  8.01711704  9.37389152  8.34139529]\n",
      " [22.67991031 25.56314454 35.15111594 39.44395266 47.62437791 54.14855401\n",
      "  60.0643194  66.5002613  72.39262356 79.9464055 ]]\n",
      "NORMALIZED [[-0.75314832 -0.34942116 -0.35214391 -0.13774252  0.29849429  0.92991812\n",
      "   1.70550634  1.62020249  2.06363169  1.72618506]\n",
      " [ 0.21772293  0.37252867  0.88732315  1.11781285  1.55703378  1.90732789\n",
      "   2.22495538  2.57051204  2.88688298  3.29245837]]\n"
     ]
    },
    {
     "data": {
      "image/png": "[encoded data removed]",
      "text/plain": [
       "<Figure size 432x288 with 4 Axes>"
      ]
     },
     "metadata": {
      "needs_background": "light"
     },
     "output_type": "display_data"
    }
   ],
   "source": [
    "x: np.array = np.vstack([\n",
    "    np.linspace(0, 10, 10) + np.random.normal(0, 1, 10),\n",
    "    20 + np.linspace(0, 60, 10) + np.random.normal(0, 1, 10),\n",
    "])\n",
    "mean, deviation, y = get_normalized_matrix(x)\n",
    "assert x.shape == y.shape\n",
    "print('ORIGINAL', x)\n",
    "print('NORMALIZED', y)\n",
    "grid = np.arange(x.shape[1])\n",
    "figure: Figure = plt.figure()\n",
    "axes: Axes = figure.add_subplot(2, 2, 1)\n",
    "axes.plot(grid, x[0].flat, 'o', color='blue')\n",
    "axes: Axes = figure.add_subplot(2, 2, 2)\n",
    "axes.plot(grid, y[0].flat, 'o', color='red')\n",
    "axes: Axes = figure.add_subplot(2, 2, 3)\n",
    "axes.plot(grid, x[1].flat, 'o', color='blue')\n",
    "axes: Axes = figure.add_subplot(2, 2, 4)\n",
    "axes.plot(grid, y[1].flat, 'o', color='red')\n",
    "plt.show()"
   ]
  },
  {
   "cell_type": "markdown",
   "metadata": {},
   "source": [
    "## Entropy"
   ]
  },
  {
   "cell_type": "markdown",
   "metadata": {},
   "source": [
    "- https://en.wikipedia.org/wiki/Entropy_(information_theory)"
   ]
  },
  {
   "cell_type": "markdown",
   "metadata": {},
   "source": [
    "In information theory, the entropy of a random variable is the average level of \"information\", \"surprise\", or \"uncertainty\" inherent in the variable's possible outcomes."
   ]
  },
  {
   "cell_type": "markdown",
   "metadata": {},
   "source": [
    "$$ H(x) = - \\sum\\limits^{^n}_{i=1} P(x_i) \\cdot log P(x_i) $$"
   ]
  },
  {
   "cell_type": "code",
   "execution_count": 11,
   "metadata": {},
   "outputs": [],
   "source": [
    "def get_entropy_array(matrix: np.array) -> np.array:\n",
    "    \"\"\"\n",
    "    Entropy Matrix.\n",
    "    \"\"\"\n",
    "    P: np.matrix = np.count_nonzero(~np.isnan(matrix.T), axis=1) / matrix.shape[0]\n",
    "    P[P == 0] = 1\n",
    "    return np.abs(np.log(P))"
   ]
  },
  {
   "cell_type": "code",
   "execution_count": 12,
   "metadata": {},
   "outputs": [
    {
     "name": "stdout",
     "output_type": "stream",
     "text": [
      "[[ 1. nan  3. nan nan]\n",
      " [ 4.  5. nan nan nan]\n",
      " [ 7.  8.  9.  5. nan]\n",
      " [ 7.  8.  9. nan nan]\n",
      " [ 7.  8.  9. nan nan]\n",
      " [ 7.  8.  9. nan nan]\n",
      " [ 7.  8.  9. nan nan]\n",
      " [ 1.  2.  2. nan nan]]\n",
      "[0.         0.13353139 0.13353139 2.07944154 0.        ]\n"
     ]
    }
   ],
   "source": [
    "X: np.array = np.array([\n",
    "    [1, np.nan, 3, np.nan, np.nan],\n",
    "    [4, 5, np.nan, np.nan, np.nan],\n",
    "    [7, 8, 9, 5, np.nan],\n",
    "    [7, 8, 9, np.nan, np.nan],\n",
    "    [7, 8, 9, np.nan, np.nan],\n",
    "    [7, 8, 9, np.nan, np.nan],\n",
    "    [7, 8, 9, np.nan, np.nan],\n",
    "    [1, 2, 2, np.nan, np.nan]\n",
    "])\n",
    "E: np.array = get_entropy_array(X)\n",
    "print(X)\n",
    "print(E)"
   ]
  },
  {
   "cell_type": "markdown",
   "metadata": {},
   "source": [
    "## Cosine Similarity"
   ]
  },
  {
   "cell_type": "markdown",
   "metadata": {},
   "source": [
    "- https://en.wikipedia.org/wiki/Cosine_similarity"
   ]
  },
  {
   "cell_type": "markdown",
   "metadata": {},
   "source": [
    "Cosine similarity is a measure of similarity between two non-zero vectors of an inner product space. It is defined to equal the cosine of the angle between them, which is also the same as the inner product of the same vectors normalized to both have length 1."
   ]
  },
  {
   "cell_type": "markdown",
   "metadata": {},
   "source": [
    "$$ cos(X, Y) = \\frac{X \\cdot Y}{ \\left \\Vert X \\right \\| \\cdot \\left \\Vert Y \\right \\| } = \\frac{ \\sum\\limits^{^n}_{i=1} X_i \\cdot Y_i }{ \\sqrt{\\sum\\limits^{^n}_{i=1} X_i^2} \\cdot \\sqrt{\\sum\\limits^{^n}_{i=1} Y_i^2} } $$"
   ]
  },
  {
   "cell_type": "code",
   "execution_count": 13,
   "metadata": {},
   "outputs": [],
   "source": [
    "def get_cosine(X: np.array, Y: np.array, min_shared_ratings: int = 3) -> float:\n",
    "    \"\"\"\n",
    "    Cosine Similarity function.\n",
    "    \"\"\"\n",
    "    union: np.array = ~np.isnan(np.sum([X, Y], axis=0))\n",
    "    if np.count_nonzero(union) == 0:\n",
    "        return 0\n",
    "    discount: float = min(min_shared_ratings, np.count_nonzero(union)) / min_shared_ratings\n",
    "    return discount * np.sum(X[union] * Y[union]) / \\\n",
    "        (max(0.0000001, np.sqrt(np.sum(np.power(X[union], 2)))) *\\\n",
    "         max(0.0000001, np.sqrt(np.sum(np.power(Y[union], 2)))))"
   ]
  },
  {
   "cell_type": "code",
   "execution_count": 14,
   "metadata": {},
   "outputs": [
    {
     "name": "stdout",
     "output_type": "stream",
     "text": [
      "[ 1. nan  2.  3.  4.  5.  6.  7.  8.  9.] [ 1.  3.  2.  2. nan  8.  9. 10. 11. 12.] 0.9929196160911488\n"
     ]
    },
    {
     "data": {
      "image/png": "[encoded data removed]",
      "text/plain": [
       "<Figure size 432x288 with 1 Axes>"
      ]
     },
     "metadata": {
      "needs_background": "light"
     },
     "output_type": "display_data"
    }
   ],
   "source": [
    "X: np.array = np.array([1, np.nan, 2, 3, 4, 5, 6, 7, 8, 9])\n",
    "Y: np.array = np.array([1, 3, 2, 2, np.nan, 8, 9, 10, 11, 12])\n",
    "print(X, Y, get_cosine(X, Y))\n",
    "figure: Figure = plt.figure()\n",
    "axes: Axes = figure.add_subplot()\n",
    "axes.plot(np.arange(X.shape[0]), X, 'x', color='blue')\n",
    "axes.plot(np.arange(Y.shape[0]), Y, '.', color='red')\n",
    "plt.show()"
   ]
  },
  {
   "cell_type": "code",
   "execution_count": 15,
   "metadata": {},
   "outputs": [
    {
     "name": "stdout",
     "output_type": "stream",
     "text": [
      "[ 1. nan  2.  3.  4.  5.  6.  7.  8.  9.] [ 10.  30.  20.  20.  nan  80.  90. 100. 110. 120.] 0.9929196160911488\n"
     ]
    },
    {
     "data": {
      "image/png": "[encoded data removed]",
      "text/plain": [
       "<Figure size 432x288 with 1 Axes>"
      ]
     },
     "metadata": {
      "needs_background": "light"
     },
     "output_type": "display_data"
    }
   ],
   "source": [
    "X: np.array = np.array([1, np.nan, 2, 3, 4, 5, 6, 7, 8, 9])\n",
    "Y: np.array = np.array([10, 30, 20, 20, np.nan, 80, 90, 100, 110, 120])\n",
    "print(X, Y, get_cosine(X, Y))\n",
    "figure: Figure = plt.figure()\n",
    "axes: Axes = figure.add_subplot()\n",
    "axes.plot(np.arange(X.shape[0]), X, 'x', color='blue')\n",
    "axes.plot(np.arange(Y.shape[0]), Y, '.', color='red')\n",
    "plt.show()"
   ]
  },
  {
   "cell_type": "code",
   "execution_count": 16,
   "metadata": {},
   "outputs": [
    {
     "name": "stdout",
     "output_type": "stream",
     "text": [
      "[ 1. nan  2.  3.  4.  5.  7.  9. 10.] [100.  65.  32.  24.  nan  10.   7.   4.   2.] 0.21975098781417202\n"
     ]
    },
    {
     "data": {
      "image/png": "[encoded data removed]",
      "text/plain": [
       "<Figure size 432x288 with 1 Axes>"
      ]
     },
     "metadata": {
      "needs_background": "light"
     },
     "output_type": "display_data"
    }
   ],
   "source": [
    "X: np.array = np.array([1, np.nan, 2, 3, 4, 5, 7, 9, 10])\n",
    "Y: np.array = np.array([100, 65, 32, 24, np.nan, 10, 7, 4, 2])\n",
    "print(X, Y, get_cosine(X, Y))\n",
    "figure: Figure = plt.figure()\n",
    "axes: Axes = figure.add_subplot()\n",
    "axes.plot(np.arange(X.shape[0]), X, 'x', color='blue')\n",
    "axes.plot(np.arange(Y.shape[0]), Y, 'o', color='red')\n",
    "plt.show()"
   ]
  },
  {
   "cell_type": "markdown",
   "metadata": {},
   "source": [
    "## Similarity Matrix"
   ]
  },
  {
   "cell_type": "code",
   "execution_count": 17,
   "metadata": {},
   "outputs": [],
   "source": [
    "def get_similarity_matrix(matrix: np.array, min_shared_ratings: int = 3) -> np.array:\n",
    "    \"\"\"\n",
    "    Get similarity matrix out of a given matrix.\n",
    "    \"\"\"\n",
    "    correlations: np.array = np.stack([\n",
    "        [\n",
    "            0 if i >= j else get_cosine(x, y, min_shared_ratings=min_shared_ratings)\n",
    "            for j, y in enumerate(matrix)\n",
    "        ]\n",
    "        for i, x in enumerate(matrix)\n",
    "    ])\n",
    "    return correlations + correlations.T"
   ]
  },
  {
   "cell_type": "code",
   "execution_count": 18,
   "metadata": {},
   "outputs": [
    {
     "name": "stdout",
     "output_type": "stream",
     "text": [
      "[[1 2 3]\n",
      " [4 5 6]\n",
      " [7 8 9]]\n",
      "[[0.         0.97463185 0.95941195]\n",
      " [0.97463185 0.         0.99819089]\n",
      " [0.95941195 0.99819089 0.        ]]\n"
     ]
    }
   ],
   "source": [
    "X: np.array = np.array([ [1, 2, 3], [4, 5, 6], [7, 8, 9] ])\n",
    "S: np.array = get_similarity_matrix(X)\n",
    "print(X)\n",
    "print(S)"
   ]
  },
  {
   "cell_type": "markdown",
   "metadata": {},
   "source": [
    "## Top K-Similar Rows"
   ]
  },
  {
   "cell_type": "markdown",
   "metadata": {},
   "source": [
    "- https://en.wikipedia.org/wiki/Adjacency_matrix\n",
    "- https://numpy.org/doc/stable/reference/generated/numpy.argsort.html"
   ]
  },
  {
   "cell_type": "markdown",
   "metadata": {},
   "source": [
    "In graph theory and computer science, an adjacency matrix is a square matrix used to represent a finite graph. The elements of the matrix indicate whether pairs of vertices are adjacent or not in the graph."
   ]
  },
  {
   "cell_type": "code",
   "execution_count": 19,
   "metadata": {},
   "outputs": [],
   "source": [
    "def get_adjacency_matrix(similar: np.array, top: int = 4) -> np.array:\n",
    "    \"\"\"\n",
    "    Get top k similar rows of a similarity matrix.\n",
    "    \"\"\"\n",
    "    closest: np.array = np.argsort(similar)\n",
    "    return closest[:, closest.shape[1] - top:]"
   ]
  },
  {
   "cell_type": "code",
   "execution_count": 20,
   "metadata": {},
   "outputs": [
    {
     "name": "stdout",
     "output_type": "stream",
     "text": [
      "[[0 2 3 1]\n",
      " [8 0 6 1]\n",
      " [7 6 0 2]\n",
      " [2 3 1 0]]\n",
      "[[1 2]\n",
      " [2 0]\n",
      " [1 0]\n",
      " [0 1]]\n"
     ]
    }
   ],
   "source": [
    "X: np.array = np.array([\n",
    "    [0, 2, 3, 1],\n",
    "    [8, 0, 6, 1],\n",
    "    [7, 6, 0, 2],\n",
    "    [2, 3, 1, 0]\n",
    "])\n",
    "S: np.array = get_adjacency_matrix(X, 2)\n",
    "print(X)\n",
    "print(S)"
   ]
  },
  {
   "cell_type": "markdown",
   "metadata": {},
   "source": [
    "## Collaborative Filtering"
   ]
  },
  {
   "cell_type": "markdown",
   "metadata": {},
   "source": [
    "Filling the collaborative filtering matrix with ratings from similar rows. The predicted value is the weighted sum of the adjacent rows. Values are denormalized so that the approximate user scores. Entropy is applied to promote novelty across recommendations."
   ]
  },
  {
   "cell_type": "markdown",
   "metadata": {},
   "source": [
    "$$ \\hat{R_{i,j}} = \\mu + σ \\cdot \\frac{ \\sum\\limits^{^n}_{u=1} w_u \\cdot R_{u,j} }{ \\sum\\limits^{^n}_{u=1} w_u } $$"
   ]
  },
  {
   "cell_type": "markdown",
   "metadata": {},
   "source": [
    "$$ E = \\{ (r_{1,1} - \\hat{r_{1,1}}), (r_{1,2} - \\hat{r_{1,2}}), ..., (r_{i,j} - \\hat{r_{i,j}}) \\} $$"
   ]
  },
  {
   "cell_type": "markdown",
   "metadata": {},
   "source": [
    "$$ RMSE = \\sqrt{ \\frac{ \\sum\\limits^{^n}_{e=1} e_i^2 }{|E|}} $$"
   ]
  },
  {
   "cell_type": "markdown",
   "metadata": {},
   "source": [
    "$$ NRMSE = \\frac{ RMSE }{ (r_{max} - r_{min}) } $$"
   ]
  },
  {
   "cell_type": "code",
   "execution_count": 21,
   "metadata": {},
   "outputs": [],
   "source": [
    "def get_collaborative_filtering(ratings: np.array, normalized: np.array, mean: np.array, deviation: np.array, entropy: np.array, adjacent: np.array, similarity: np.array) -> np.matrix:\n",
    "    \"\"\"\n",
    "    Collaborative Filtering function.\n",
    "    \"\"\"\n",
    "    recommendations: np.array = np.empty(ratings.shape)\n",
    "    tests: np.array = np.empty(ratings.shape)\n",
    "    for i in range(normalized.shape[0]):\n",
    "        for j in range(normalized.shape[1]):\n",
    "            recommendations[i, j] = np.nan\n",
    "            total: float = 0\n",
    "            weights: float = 0\n",
    "            y_hat: float = np.nan\n",
    "            for k in adjacent[i]:\n",
    "                if np.isnan(normalized[k][j]):\n",
    "                    continue\n",
    "                weight: float = similarity[i][k] * entropy[k]\n",
    "                weights += weight\n",
    "                total += normalized[k][j] * weight\n",
    "            if weights > 0:\n",
    "                y_hat: float = mean[i].flat[0] + deviation[i].flat[0] * total / weights\n",
    "            if np.isnan(normalized[i][j]):\n",
    "                recommendations[i, j] = y_hat\n",
    "            else:\n",
    "                tests[i, j] = y_hat\n",
    "    error: float = np.nansum(np.power((ratings - tests).reshape(ratings.size), 2))\n",
    "    trials: int = np.count_nonzero(np.isnan(ratings))\n",
    "    nrmse: float = np.sqrt(error / trials) / (np.nanmax(tests) - np.nanmin(tests))\n",
    "    return recommendations, nrmse"
   ]
  },
  {
   "cell_type": "markdown",
   "metadata": {},
   "source": [
    "## Novelty"
   ]
  },
  {
   "cell_type": "markdown",
   "metadata": {},
   "source": [
    "- http://ir.ii.uam.es/saul/pubs/fdia11-vargas.pdf"
   ]
  },
  {
   "cell_type": "markdown",
   "metadata": {},
   "source": [
    "In case we consider an item in a recommendation list, the probability of been discovered, i.e. p(seen|i, R), can be simplified by a decreasing discount function disc. Novelty of an item as the probability of not having been seen. In case we were interested in emphasize highly novel items, a discount rate `d` is applied on `t` times seen."
   ]
  },
  {
   "cell_type": "markdown",
   "metadata": {},
   "source": [
    "$$ \\hat{R_{u,i}} = R_{u,i} \\cdot P(seen/u,i) $$"
   ]
  },
  {
   "cell_type": "markdown",
   "metadata": {},
   "source": [
    "$$ P(seen/u,i) = \\frac{1}{(1 + d)^t} $$"
   ]
  },
  {
   "cell_type": "code",
   "execution_count": 22,
   "metadata": {},
   "outputs": [
    {
     "name": "stdout",
     "output_type": "stream",
     "text": [
      "[1.         0.99009901 0.98029605 0.97059015 0.96098034 0.95146569\n",
      " 0.94204524 0.93271805 0.92348322 0.91433982 0.90528695 0.89632372\n",
      " 0.88744923 0.8786626  0.86996297]\n"
     ]
    },
    {
     "data": {
      "image/png": "[encoded data removed]",
      "text/plain": [
       "<Figure size 432x288 with 1 Axes>"
      ]
     },
     "metadata": {
      "needs_background": "light"
     },
     "output_type": "display_data"
    }
   ],
   "source": [
    "dicount: float = 0.01\n",
    "X: np.array = 1 / (1 + dicount) ** np.arange(1000)\n",
    "print(X[:15])\n",
    "figure: Figure = plt.figure()\n",
    "axes: Axes = figure.add_subplot()\n",
    "axes.plot(np.arange(X.shape[0]), X, '.', color='blue')\n",
    "plt.show()"
   ]
  },
  {
   "cell_type": "code",
   "execution_count": 23,
   "metadata": {},
   "outputs": [],
   "source": [
    "def get_novelty_matrix(recommendations: np.array, views: np.array, discount_rate: float = 0.01) -> np.array:\n",
    "    \"\"\"\n",
    "    Apply novelty to recommendations.\n",
    "    \"\"\"\n",
    "    return recommendations / (1 + discount_rate) ** views"
   ]
  },
  {
   "cell_type": "code",
   "execution_count": 24,
   "metadata": {},
   "outputs": [
    {
     "name": "stdout",
     "output_type": "stream",
     "text": [
      "[[2.85439706 5.         2.9576897 ]\n",
      " [2.         1.81057391 1.63908894]\n",
      " [0.99009901 0.         1.84855606]]\n"
     ]
    }
   ],
   "source": [
    "X: np.array = np.array([\n",
    "    [3, 5, 8],\n",
    "    [2, 2, 2],\n",
    "    [1, 0, 5],\n",
    "])\n",
    "V: np.array = np.array([\n",
    "    [5, 0, 100],\n",
    "    [0, 10, 20],\n",
    "    [1, 0, 100],\n",
    "])\n",
    "Y:np.array = get_novelty_matrix(X, V)\n",
    "print(Y)"
   ]
  },
  {
   "cell_type": "markdown",
   "metadata": {},
   "source": [
    "## Top K Recommendations Getter"
   ]
  },
  {
   "cell_type": "code",
   "execution_count": 25,
   "metadata": {},
   "outputs": [],
   "source": [
    "def get_top_recommendations(recommendations: np.array, top: int = 3) -> np.array:\n",
    "    \"\"\"\n",
    "    Top K recommendations getter.\n",
    "    \"\"\"\n",
    "    X: np.array = np.copy(recommendations)\n",
    "    X[np.isnan(X)] = 0\n",
    "    return np.argsort(X)[:,::-1][:,:top]"
   ]
  },
  {
   "cell_type": "code",
   "execution_count": 26,
   "metadata": {},
   "outputs": [
    {
     "name": "stdout",
     "output_type": "stream",
     "text": [
      "[[4 3 5]\n",
      " [4 0 5]]\n"
     ]
    }
   ],
   "source": [
    "X: np.array = np.array([\n",
    "    [1, 2, 3, 4, 8, 3, 2, 2],\n",
    "    [4, np.nan, 2, 1, 4, 3, 2, np.nan],\n",
    "])\n",
    "Y: np.array = get_top_recommendations(X, 3)\n",
    "print(Y)"
   ]
  },
  {
   "cell_type": "markdown",
   "metadata": {},
   "source": [
    "## Recommendation Lists"
   ]
  },
  {
   "cell_type": "code",
   "execution_count": 27,
   "metadata": {},
   "outputs": [],
   "source": [
    "def explain(top: np.array, adjacent: np.array, ratings: np.matrix, min_rating: float) -> np.array:\n",
    "    \"\"\"\n",
    "    Explain Recommendations.\n",
    "    \"\"\"\n",
    "    Z: np.array = np.empty(top.shape).astype(int)\n",
    "    for user in range(top.shape[0]):\n",
    "        for j in range(top.shape[1]):\n",
    "            item = top[user][j]\n",
    "            X: np.array = ratings[user][adjacent[item]]\n",
    "            Y: np.array = np.greater(X, min_rating)\n",
    "            if np.count_nonzero(~Y) == adjacent.shape[1]:\n",
    "                Z[user][j] = -1\n",
    "                continue\n",
    "            Z[user][j] = adjacent[item][Y][np.nanargmax(X[Y])]\n",
    "            print(f'Item #{top[user][j]} recommended to User #{user} because they liked Item #{Z[user][j]}.')\n",
    "    return Z"
   ]
  },
  {
   "cell_type": "code",
   "execution_count": 28,
   "metadata": {},
   "outputs": [
    {
     "name": "stdout",
     "output_type": "stream",
     "text": [
      "Item #1 recommended to User #1 because they liked Item #0.\n",
      "Item #2 recommended to User #1 because they liked Item #1.\n",
      "Item #1 recommended to User #2 because they liked Item #0.\n",
      "[[-1 -1]\n",
      " [ 0  1]\n",
      " [-1  0]\n",
      " [-1 -1]]\n"
     ]
    }
   ],
   "source": [
    "top: np.array = np.array([\n",
    "    [0, 1],\n",
    "    [1, 2],\n",
    "    [0, 1],\n",
    "    [0, 2]\n",
    "])\n",
    "adjacent: np.array = np.array([\n",
    "    [1, 2],\n",
    "    [0, 2],\n",
    "    [0, 1],\n",
    "])\n",
    "user_user: np.array = np.array([\n",
    "    [np.nan, np.nan, 3],\n",
    "    [4, 5, np.nan],\n",
    "    [4, np.nan, 2],\n",
    "    [0, 0, 1],\n",
    "])\n",
    "explained: np.array = explain(top, adjacent, user_user, 3)\n",
    "print(explained)"
   ]
  },
  {
   "cell_type": "markdown",
   "metadata": {},
   "source": [
    "## Diversity"
   ]
  },
  {
   "cell_type": "markdown",
   "metadata": {},
   "source": [
    "Diversity is a property of a recommendation list or a set of them composed by one or several recommender systems. It reflects how dissimilar items are to each other in the list. To measure diversity inside a list, researchers often calculate an average pairwise dissimilarity of items in a recommendation list."
   ]
  },
  {
   "cell_type": "markdown",
   "metadata": {},
   "source": [
    "## Serendipity"
   ]
  },
  {
   "cell_type": "markdown",
   "metadata": {},
   "source": [
    "- https://link.springer.com/content/pdf/10.1007/s00607-018-0687-5.pdf"
   ]
  },
  {
   "cell_type": "markdown",
   "metadata": {},
   "source": [
    "The dictionary definition of serendipity is “the faculty of making fortunate discoveries by accident”."
   ]
  },
  {
   "cell_type": "markdown",
   "metadata": {},
   "source": [
    "## Trending Items"
   ]
  },
  {
   "cell_type": "code",
   "execution_count": 29,
   "metadata": {},
   "outputs": [],
   "source": [
    "def get_trending_items(recommendations: np.array, top: int = 5) -> np.array:\n",
    "    \"\"\"\n",
    "    Trending Items getter.\n",
    "    \"\"\"\n",
    "    trends: np.array = np.nansum(recommendations, axis=1) /\\\n",
    "        np.count_nonzero(~np.isnan(0.0001 + recommendations), axis=1)\n",
    "    return trends[:top]"
   ]
  },
  {
   "cell_type": "code",
   "execution_count": 30,
   "metadata": {},
   "outputs": [
    {
     "name": "stdout",
     "output_type": "stream",
     "text": [
      "[2.  1.5]\n"
     ]
    }
   ],
   "source": [
    "X: np.array = np.array([\n",
    "    [np.nan, 1, 2, 3],\n",
    "    [4, 0, 0, 2],\n",
    "    [np.nan, 3, 3, 5],\n",
    "])\n",
    "Y: np.array = get_trending_items(X, 2)\n",
    "print(Y)"
   ]
  },
  {
   "cell_type": "markdown",
   "metadata": {},
   "source": [
    "## User-Based Collaborative Filtering"
   ]
  },
  {
   "cell_type": "markdown",
   "metadata": {},
   "source": [
    "#### User-User Matrix"
   ]
  },
  {
   "cell_type": "code",
   "execution_count": 31,
   "metadata": {},
   "outputs": [
    {
     "name": "stdout",
     "output_type": "stream",
     "text": [
      "(10, 15)\n",
      "[[ 5.  3. nan nan  3. nan  1.  0.  0. nan  2.  5. nan  5.  1.]\n",
      " [ 2. nan  0.  5. nan nan nan  1.  5.  5.  5.  0.  5. nan  3.]\n",
      " [nan nan  0. nan  5.  0.  2. nan  5. nan  3. nan nan nan nan]\n",
      " [nan nan  1.  2. nan nan  1. nan  3.  4.  1.  5.  4. nan nan]\n",
      " [nan nan  5. nan nan nan  5. nan nan nan  1.  2. nan  4.  1.]\n",
      " [ 5. nan  3. nan nan  5.  5. nan nan nan nan nan  1.  1. nan]\n",
      " [ 5.  1. nan nan  3.  4. nan  0.  4. nan  0. nan nan  2. nan]\n",
      " [nan nan  4.  3. nan  1. nan  5. nan nan nan nan  0.  1. nan]\n",
      " [nan nan  5.  5.  5.  1.  5.  0.  5.  3. nan nan nan  1. nan]\n",
      " [nan  5.  0.  5.  5. nan nan nan nan  1.  5. nan nan  1.  5.]]\n"
     ]
    }
   ],
   "source": [
    "user_user: np.matrix = np.copy(ratings)\n",
    "print(user_user.shape)\n",
    "print(user_user)"
   ]
  },
  {
   "cell_type": "markdown",
   "metadata": {},
   "source": [
    "#### User-User Normalized Matrix"
   ]
  },
  {
   "cell_type": "code",
   "execution_count": 32,
   "metadata": {},
   "outputs": [
    {
     "name": "stdout",
     "output_type": "stream",
     "text": [
      "(10, 15)\n",
      "[[ 1.61711961  0.57027177         nan         nan  0.57027177         nan\n",
      "  -0.47657608 -1.         -1.                 nan  0.04684785  1.61711961\n",
      "          nan  1.61711961 -0.47657608]\n",
      " [-0.0343909          nan -1.          1.41402275         nan         nan\n",
      "          nan -0.51719545  1.41402275  1.41402275  1.41402275 -1.\n",
      "   1.41402275         nan  0.44841365]\n",
      " [        nan         nan -1.                 nan  1.42535625 -1.\n",
      "  -0.0298575          nan  1.42535625         nan  0.45521375         nan\n",
      "          nan         nan         nan]\n",
      " [        nan         nan -0.33100639  0.33798722         nan         nan\n",
      "  -0.33100639         nan  1.00698082  1.67597443 -0.33100639  2.34496804\n",
      "   1.67597443         nan         nan]\n",
      " [        nan         nan  1.88675135         nan         nan         nan\n",
      "   1.88675135         nan         nan         nan -0.42264973  0.15470054\n",
      "          nan  1.30940108 -0.42264973]\n",
      " [ 1.78543007         nan  0.67125804         nan         nan  1.78543007\n",
      "   1.78543007         nan         nan         nan         nan         nan\n",
      "  -0.44291399 -0.44291399         nan]\n",
      " [ 1.78019219 -0.44396156         nan         nan  0.66811531  1.22415375\n",
      "          nan -1.          1.22415375         nan -1.                 nan\n",
      "          nan  0.11207687         nan]\n",
      " [        nan         nan  1.22834406  0.67125804         nan -0.44291399\n",
      "          nan  1.78543007         nan         nan         nan         nan\n",
      "  -1.         -0.44291399         nan]\n",
      " [        nan         nan  1.5         1.5         1.5        -0.5\n",
      "   1.5        -1.          1.5         0.5                nan         nan\n",
      "          nan -0.5                nan]\n",
      " [        nan  1.36112534 -1.          1.36112534  1.36112534         nan\n",
      "          nan         nan         nan -0.52777493  1.36112534         nan\n",
      "          nan -0.52777493  1.36112534]]\n"
     ]
    }
   ],
   "source": [
    "mean, deviation, normalized = get_normalized_matrix(user_user)\n",
    "print(normalized.shape)\n",
    "print(normalized)"
   ]
  },
  {
   "cell_type": "markdown",
   "metadata": {},
   "source": [
    "#### User-User Similarity Matrix"
   ]
  },
  {
   "cell_type": "code",
   "execution_count": 33,
   "metadata": {},
   "outputs": [
    {
     "name": "stdout",
     "output_type": "stream",
     "text": [
      "(10, 10)\n",
      "[[ 0.         -0.42540055 -0.22390409  0.57542526  0.29096367  0.22043746\n",
      "   0.38389328 -0.47683708 -0.18166339  0.02199784]\n",
      " [-0.42540055  0.          0.90938593  0.34015255 -0.69520997 -0.40062782\n",
      "   0.14489837 -0.45987898  0.52022829  0.67183898]\n",
      " [-0.22390409  0.90938593  0.          0.77937278 -0.71917007 -0.67916418\n",
      "   0.21031513 -0.28355599  0.4314379   0.91184598]\n",
      " [ 0.57542526  0.34015255  0.77937278  0.         -0.11426102 -0.45649162\n",
      "   0.62218336 -0.61942358  0.30036899 -0.13747318]\n",
      " [ 0.29096367 -0.69520997 -0.71917007 -0.11426102  0.          0.69674541\n",
      "   0.27417255  0.38629411  0.7727195  -0.7037521 ]\n",
      " [ 0.22043746 -0.40062782 -0.67916418 -0.45649162  0.69674541  0.\n",
      "   0.9582619   0.19675644  0.50861198 -0.32074218]\n",
      " [ 0.38389328  0.14489837  0.21031513  0.62218336  0.27417255  0.9582619\n",
      "   0.         -0.79286002  0.6131241  -0.35869897]\n",
      " [-0.47683708 -0.45987898 -0.28355599 -0.61942358  0.38629411  0.19675644\n",
      "  -0.79286002  0.          0.26137793 -0.03114659]\n",
      " [-0.18166339  0.52022829  0.4314379   0.30036899  0.7727195   0.50861198\n",
      "   0.6131241   0.26137793  0.          0.41824041]\n",
      " [ 0.02199784  0.67183898  0.91184598 -0.13747318 -0.7037521  -0.32074218\n",
      "  -0.35869897 -0.03114659  0.41824041  0.        ]]\n"
     ]
    }
   ],
   "source": [
    "similarity: np.array = get_similarity_matrix(normalized)\n",
    "print(similarity.shape)\n",
    "print(similarity)"
   ]
  },
  {
   "cell_type": "markdown",
   "metadata": {},
   "source": [
    "#### User-User Adjacency Matrix"
   ]
  },
  {
   "cell_type": "code",
   "execution_count": 34,
   "metadata": {},
   "outputs": [
    {
     "name": "stdout",
     "output_type": "stream",
     "text": [
      "(10, 4)\n",
      "[[5 4 6 3]\n",
      " [3 8 9 2]\n",
      " [8 3 1 9]\n",
      " [1 0 6 2]\n",
      " [0 7 5 8]\n",
      " [0 8 4 6]\n",
      " [0 8 3 5]\n",
      " [7 5 8 4]\n",
      " [5 1 6 4]\n",
      " [0 8 1 2]]\n"
     ]
    }
   ],
   "source": [
    "adjacent: np.array = get_adjacency_matrix(similarity)\n",
    "print(adjacent.shape)\n",
    "print(adjacent)"
   ]
  },
  {
   "cell_type": "markdown",
   "metadata": {},
   "source": [
    "#### Users Entropy Matrix"
   ]
  },
  {
   "cell_type": "code",
   "execution_count": 35,
   "metadata": {},
   "outputs": [
    {
     "name": "stdout",
     "output_type": "stream",
     "text": [
      "(10,)\n",
      "[0.40546511 0.40546511 0.91629073 0.62860866 0.91629073 0.91629073\n",
      " 0.62860866 0.91629073 0.51082562 0.62860866]\n"
     ]
    }
   ],
   "source": [
    "entropy: np.array = get_entropy_array(user_user.T)\n",
    "print(entropy.shape)\n",
    "print(entropy)"
   ]
  },
  {
   "cell_type": "markdown",
   "metadata": {},
   "source": [
    "#### User-User Collaborative Filtering"
   ]
  },
  {
   "cell_type": "code",
   "execution_count": 36,
   "metadata": {},
   "outputs": [
    {
     "name": "stdout",
     "output_type": "stream",
     "text": [
      "1.6664751059725493e-281\n",
      "[[       nan        nan 3.69390322 3.14572367        nan 5.32732815\n",
      "         nan        nan        nan 5.70194466        nan        nan\n",
      "  4.2514252         nan        nan]\n",
      " [       nan 5.91920571        nan        nan 6.04231779 1.27918588\n",
      "  3.57797988        nan        nan        nan        nan        nan\n",
      "         nan 2.02907448        nan]\n",
      " [2.42910134 5.30603178        nan 4.7431195         nan        nan\n",
      "         nan 1.06141892        nan 3.93509632        nan 4.37302843\n",
      "  5.72320814 1.42786588 4.56945767]\n",
      " [4.72068181 2.52784571        nan        nan 4.2020789  2.30669658\n",
      "         nan 1.26078194        nan        nan        nan        nan\n",
      "         nan 3.63313019 2.42630327]\n",
      " [6.04698673 3.98773968        nan 4.9194454  5.22752766 3.98111563\n",
      "         nan 3.23835825 4.60168678 3.8660254         nan        nan\n",
      "  1.88869343        nan        nan]\n",
      " [       nan 2.7716343         nan 6.02591574 4.92386013        nan\n",
      "         nan 1.5382784  5.29094262 4.2308608  2.1619583  3.93341501\n",
      "         nan        nan 2.56276595]\n",
      " [       nan        nan 3.43169655 3.91216527        nan        nan\n",
      "  4.27260604        nan        nan 4.44865172        nan 6.21962845\n",
      "  2.75276837        nan 1.51790803]\n",
      " [5.5382784         nan        nan        nan 5.02591574        nan\n",
      "  5.53223874        nan 5.02591574 3.2308608  1.57465385 2.6110293\n",
      "         nan        nan 1.57465385]\n",
      " [6.17775009 2.44541021        nan        nan        nan        nan\n",
      "         nan        nan        nan        nan 2.74087009 3.11264953\n",
      "  3.6046951         nan 2.8879103 ]\n",
      " [3.4130531         nan        nan        nan        nan 1.47297937\n",
      "  3.95795344 1.82004139 6.37942085        nan        nan 1.43307601\n",
      "  6.36938306        nan        nan]]\n"
     ]
    }
   ],
   "source": [
    "recommendations, nrmse = get_collaborative_filtering(ratings=user_user,\n",
    "                                                     normalized=normalized,\n",
    "                                                     mean=mean,\n",
    "                                                     deviation=deviation,\n",
    "                                                     similarity=similarity,\n",
    "                                                     entropy=entropy,\n",
    "                                                     adjacent=adjacent)\n",
    "print(nrmse)\n",
    "print(recommendations)"
   ]
  },
  {
   "cell_type": "markdown",
   "metadata": {},
   "source": [
    "#### User-User Novelty Recommendations"
   ]
  },
  {
   "cell_type": "code",
   "execution_count": 37,
   "metadata": {},
   "outputs": [
    {
     "name": "stdout",
     "output_type": "stream",
     "text": [
      "[[       nan        nan 3.58526607 3.11457789        nan 5.27458232\n",
      "         nan        nan        nan 5.70194466        nan        nan\n",
      "  4.20933188        nan        nan]\n",
      " [       nan 5.91920571        nan        nan 6.04231779 1.27918588\n",
      "  3.54255434        nan        nan        nan        nan        nan\n",
      "         nan 1.9890937         nan]\n",
      " [2.42910134 5.30603178        nan 4.64966131        nan        nan\n",
      "         nan 1.06141892        nan 3.85755937        nan 4.37302843\n",
      "  5.72320814 1.42786588 4.56945767]\n",
      " [4.58184725 2.47803716        nan        nan 4.2020789  2.283858\n",
      "         nan 1.26078194        nan        nan        nan        nan\n",
      "         nan 3.63313019 2.42630327]\n",
      " [6.04698673 3.87046084        nan 4.9194454  5.22752766 3.94169864\n",
      "         nan 3.14311861 4.55612553 3.75232617        nan        nan\n",
      "  1.86999349        nan        nan]\n",
      " [       nan 2.7716343         nan 5.9662532  4.92386013        nan\n",
      "         nan 1.52304792 5.23855705 4.18897109 2.14055277 3.93341501\n",
      "         nan        nan 2.48739539]\n",
      " [       nan        nan 3.43169655 3.91216527        nan        nan\n",
      "  4.18841882        nan        nan 4.31781753        nan 6.21962845\n",
      "  2.75276837        nan 1.50287924]\n",
      " [5.32217668        nan        nan        nan 5.02591574        nan\n",
      "  5.47746409        nan 5.02591574 3.2308608  1.55906322 2.6110293\n",
      "         nan        nan 1.57465385]\n",
      " [6.11658425 2.42119823        nan        nan        nan        nan\n",
      "         nan        nan        nan        nan 2.74087009 3.08183122\n",
      "  3.53366837        nan 2.61438752]\n",
      " [3.3792605         nan        nan        nan        nan 1.47297937\n",
      "  3.95795344 1.80202117 6.31625827        nan        nan 1.41888714\n",
      "  6.36938306        nan        nan]]\n"
     ]
    }
   ],
   "source": [
    "recommendations: np.matrix = get_novelty_matrix(recommendations, views)\n",
    "print(recommendations)"
   ]
  },
  {
   "cell_type": "markdown",
   "metadata": {},
   "source": [
    "## Item-Based Collaborative Filtering"
   ]
  },
  {
   "cell_type": "markdown",
   "metadata": {},
   "source": [
    "#### Item-Item Matrix"
   ]
  },
  {
   "cell_type": "code",
   "execution_count": 38,
   "metadata": {},
   "outputs": [
    {
     "name": "stdout",
     "output_type": "stream",
     "text": [
      "(15, 10)\n",
      "[[ 5.  2. nan nan nan  5.  5. nan nan nan]\n",
      " [ 3. nan nan nan nan nan  1. nan nan  5.]\n",
      " [nan  0.  0.  1.  5.  3. nan  4.  5.  0.]\n",
      " [nan  5. nan  2. nan nan nan  3.  5.  5.]\n",
      " [ 3. nan  5. nan nan nan  3. nan  5.  5.]\n",
      " [nan nan  0. nan nan  5.  4.  1.  1. nan]\n",
      " [ 1. nan  2.  1.  5.  5. nan nan  5. nan]\n",
      " [ 0.  1. nan nan nan nan  0.  5.  0. nan]\n",
      " [ 0.  5.  5.  3. nan nan  4. nan  5. nan]\n",
      " [nan  5. nan  4. nan nan nan nan  3.  1.]\n",
      " [ 2.  5.  3.  1.  1. nan  0. nan nan  5.]\n",
      " [ 5.  0. nan  5.  2. nan nan nan nan nan]\n",
      " [nan  5. nan  4. nan  1. nan  0. nan nan]\n",
      " [ 5. nan nan nan  4.  1.  2.  1.  1.  1.]\n",
      " [ 1.  3. nan nan  1. nan nan nan nan  5.]]\n"
     ]
    }
   ],
   "source": [
    "item_item: np.array = np.copy(ratings.T)\n",
    "print(item_item.shape)\n",
    "print(item_item)"
   ]
  },
  {
   "cell_type": "markdown",
   "metadata": {},
   "source": [
    "#### Item-Item Normalized Matrix"
   ]
  },
  {
   "cell_type": "code",
   "execution_count": 39,
   "metadata": {},
   "outputs": [
    {
     "name": "stdout",
     "output_type": "stream",
     "text": [
      "(15, 10)\n",
      "[[ 2.84900179  0.53960072         nan         nan         nan  2.84900179\n",
      "   2.84900179         nan         nan         nan]\n",
      " [ 0.83711731         nan         nan         nan         nan         nan\n",
      "  -0.38762756         nan         nan  2.06186218]\n",
      " [        nan -1.         -1.         -0.52528734  1.37356332  0.42413799\n",
      "          nan  0.89885065  1.37356332 -1.        ]\n",
      " [        nan  2.95284708         nan  0.58113883         nan         nan\n",
      "          nan  1.37170825  2.95284708  2.95284708]\n",
      " [ 2.06186218         nan  4.10310363         nan         nan         nan\n",
      "   2.06186218         nan  4.10310363  4.10310363]\n",
      " [        nan         nan -1.                 nan         nan  1.57855312\n",
      "   1.06284249 -0.48428938 -0.48428938         nan]\n",
      " [-0.46334369         nan  0.07331263 -0.46334369  1.68328157  1.68328157\n",
      "          nan         nan  1.68328157         nan]\n",
      " [-1.         -0.48428938         nan         nan         nan         nan\n",
      "  -1.          1.57855312 -1.                 nan]\n",
      " [-1.          1.78543007  1.78543007  0.67125804         nan         nan\n",
      "   1.22834406         nan  1.78543007         nan]\n",
      " [        nan  2.38061702         nan  1.70449362         nan         nan\n",
      "          nan         nan  1.02837021 -0.3238766 ]\n",
      " [ 0.08661074  1.71652684  0.6299161  -0.45669463 -0.45669463         nan\n",
      "  -1.                 nan         nan  1.71652684]\n",
      " [ 1.3570226  -1.                 nan  1.3570226  -0.05719096         nan\n",
      "          nan         nan         nan         nan]\n",
      " [        nan  1.42535625         nan  0.940285           nan -0.51492875\n",
      "          nan -1.                 nan         nan]\n",
      " [ 2.22201116         nan         nan         nan  1.57760893 -0.35559777\n",
      "   0.28880447 -0.35559777 -0.35559777 -0.35559777]\n",
      " [-0.39697731  0.80906807         nan         nan -0.39697731         nan\n",
      "          nan         nan         nan  2.01511345]]\n"
     ]
    }
   ],
   "source": [
    "mean, deviation, normalized = get_normalized_matrix(item_item)\n",
    "print(normalized.shape)\n",
    "print(normalized)"
   ]
  },
  {
   "cell_type": "markdown",
   "metadata": {},
   "source": [
    "#### Item-Item Similarity Matrix"
   ]
  },
  {
   "cell_type": "code",
   "execution_count": 40,
   "metadata": {},
   "outputs": [
    {
     "name": "stdout",
     "output_type": "stream",
     "text": [
      "(15, 15)\n",
      "[[ 0.          0.22969075  0.14155259  0.33333333  0.66666667  0.65431233\n",
      "   0.32939358 -0.98069845  0.16634913  0.33333333 -0.20734415  0.45371541\n",
      "  -0.10587692  0.54846055 -0.17715585]\n",
      " [ 0.22969075  0.         -0.33333333  0.33333333  0.82556145 -0.33333333\n",
      "  -0.33333333 -0.22969075 -0.59917408 -0.33333333  0.89041525  0.33333333\n",
      "   0.          0.19804923  0.55757678]\n",
      " [ 0.14155259 -0.33333333  0.         -0.07763902 -0.18345408  0.14525173\n",
      "   0.81569214  0.14273446 -0.22784925 -0.24184872 -0.75631431  0.0695512\n",
      "  -0.98702109  0.37645452 -0.77424484]\n",
      " [ 0.33333333  0.33333333 -0.07763902  0.          0.66666667 -0.62612933\n",
      "   0.59649779 -0.26135324  0.99262044  0.62890056  0.94789554 -0.28440969\n",
      "   0.51699613 -0.9558946   0.61310225]\n",
      " [ 0.66666667  0.82556145 -0.18345408  0.66666667  0.         -0.41175626\n",
      "   0.58100903 -0.94359478  0.78124794  0.30802451  0.571724    0.33333333\n",
      "   0.          0.15146484  0.52659399]\n",
      " [ 0.65431233 -0.33333333  0.14525173 -0.62612933 -0.41175626  0.\n",
      "   0.38469752 -0.50117518 -0.31142782 -0.33333333 -0.65431223  0.\n",
      "  -0.1179372   0.06544974  0.        ]\n",
      " [ 0.32939358 -0.33333333  0.81569214  0.59649779  0.58100903  0.38469752\n",
      "   0.         -0.32939358  0.65025585  0.1805524  -0.33634224 -0.39035974\n",
      "  -0.46391405  0.05242399 -0.32939358]\n",
      " [-0.98069845 -0.22969075  0.14273446 -0.26135324 -0.94359478 -0.50117518\n",
      "  -0.32939358  0.         -0.53695536 -0.50469086  0.02761842 -0.31064453\n",
      "  -0.52611574 -0.50478161  0.00343159]\n",
      " [ 0.16634913 -0.59917408 -0.22784925  0.99262044  0.78124794 -0.31142782\n",
      "   0.65025585 -0.53695536  0.          0.89181408  0.39361446 -0.47880651\n",
      "   0.65007962 -0.46208467  0.66568015]\n",
      " [ 0.33333333 -0.33333333 -0.24184872  0.62890056  0.30802451 -0.33333333\n",
      "   0.1805524  -0.50469086  0.89181408  0.          0.37821151 -0.0091285\n",
      "   0.66617973 -0.30802451  0.16272696]\n",
      " [-0.20734415  0.89041525 -0.75631431  0.94789554  0.571724   -0.65431223\n",
      "  -0.33634224  0.02761842  0.39361446  0.37821151  0.         -0.55164868\n",
      "   0.44339111 -0.25315224  0.90099118]\n",
      " [ 0.45371541  0.33333333  0.0695512  -0.28440969  0.33333333  0.\n",
      "  -0.39035974 -0.31064453 -0.47880651 -0.0091285  -0.55164868  0.\n",
      "  -0.03459516  0.52685774 -0.79777402]\n",
      " [-0.10587692  0.         -0.98702109  0.51699613  0.         -0.1179372\n",
      "  -0.46391405 -0.52611574  0.65007962  0.66617973  0.44339111 -0.03459516\n",
      "   0.          0.63491365  0.33333333]\n",
      " [ 0.54846055  0.19804923  0.37645452 -0.9558946   0.15146484  0.06544974\n",
      "   0.05242399 -0.50478161 -0.46208467 -0.30802451 -0.25315224  0.52685774\n",
      "   0.63491365  0.         -0.38702212]\n",
      " [-0.17715585  0.55757678 -0.77424484  0.61310225  0.52659399  0.\n",
      "  -0.32939358  0.00343159  0.66568015  0.16272696  0.90099118 -0.79777402\n",
      "   0.33333333 -0.38702212  0.        ]]\n"
     ]
    }
   ],
   "source": [
    "similarity: np.array = get_similarity_matrix(normalized)\n",
    "print(similarity.shape)\n",
    "print(similarity)"
   ]
  },
  {
   "cell_type": "markdown",
   "metadata": {},
   "source": [
    "#### Item-Item Adjacency Matrix"
   ]
  },
  {
   "cell_type": "code",
   "execution_count": 41,
   "metadata": {},
   "outputs": [
    {
     "name": "stdout",
     "output_type": "stream",
     "text": [
      "(15, 4)\n",
      "[[11 13  5  4]\n",
      " [11 14  4 10]\n",
      " [ 7  5 13  6]\n",
      " [ 9  4 10  8]\n",
      " [ 0  3  8  1]\n",
      " [13  2  6  0]\n",
      " [ 4  3  8  2]\n",
      " [ 7 14 10  2]\n",
      " [14  4  9  3]\n",
      " [10  3 12  8]\n",
      " [ 4  1 14  3]\n",
      " [ 1  4  0 13]\n",
      " [ 3 13  8  9]\n",
      " [ 2 11  0 12]\n",
      " [ 1  3  8 10]]\n"
     ]
    }
   ],
   "source": [
    "adjacent: np.array = get_adjacency_matrix(similarity)\n",
    "print(adjacent.shape)\n",
    "print(adjacent)"
   ]
  },
  {
   "cell_type": "markdown",
   "metadata": {},
   "source": [
    "#### Items Entropy Matrix"
   ]
  },
  {
   "cell_type": "code",
   "execution_count": 42,
   "metadata": {},
   "outputs": [
    {
     "name": "stdout",
     "output_type": "stream",
     "text": [
      "(15,)\n",
      "[0.91629073 1.2039728  0.22314355 0.69314718 0.69314718 0.69314718\n",
      " 0.51082562 0.69314718 0.51082562 0.91629073 0.35667494 0.91629073\n",
      " 0.91629073 0.35667494 0.91629073]\n"
     ]
    }
   ],
   "source": [
    "entropy: np.array = get_entropy_array(item_item.T)\n",
    "print(entropy.shape)\n",
    "print(entropy)"
   ]
  },
  {
   "cell_type": "markdown",
   "metadata": {},
   "source": [
    "#### Item-Item Collaborative Filtering"
   ]
  },
  {
   "cell_type": "code",
   "execution_count": 43,
   "metadata": {},
   "outputs": [
    {
     "name": "stdout",
     "output_type": "stream",
     "text": [
      "0.23059615510283857\n",
      "[[           nan            nan 6.29652409e+00 6.01282407e+00\n",
      "  4.85523787e+00            nan            nan 3.67126759e+00\n",
      "  6.12835871e+00 7.85739827e+00]\n",
      " [           nan 3.94051123e+00 7.67604668e+00 3.70621424e+00\n",
      "  2.47388399e+00            nan            nan            nan\n",
      "  9.70034017e+00            nan]\n",
      " [2.27059348e+00            nan            nan            nan\n",
      "             nan            nan 2.54558260e+00            nan\n",
      "             nan            nan]\n",
      " [4.45962634e+00            nan 6.91670294e+00            nan\n",
      "  3.42232191e+00            nan 5.19745520e+00            nan\n",
      "             nan            nan]\n",
      " [           nan 5.80188134e+00            nan 4.81031605e+00\n",
      "             nan 6.99144027e+00            nan 5.54399411e+00\n",
      "             nan            nan]\n",
      " [6.14940643e+00 3.09320762e+00            nan 1.28453725e+00\n",
      "  5.36788096e+00            nan            nan            nan\n",
      "             nan 7.84091977e-01]\n",
      " [           nan 6.44478096e+00            nan            nan\n",
      "             nan            nan 6.30669568e+00 5.45336725e+00\n",
      "             nan 8.19062536e+00]\n",
      " [           nan            nan 7.52021763e-03 2.12849334e-01\n",
      "  2.84314094e+00 2.02243408e+00            nan            nan\n",
      "             nan 8.27931113e-01]\n",
      " [           nan            nan            nan            nan\n",
      "  2.95407059e+00            nan            nan 6.12895832e+00\n",
      "             nan 7.19238361e+00]\n",
      " [2.13814808e+00            nan 5.50023612e+00            nan\n",
      "  2.57453953e+00 2.48841011e+00 4.31378328e+00 3.23238980e+00\n",
      "             nan            nan]\n",
      " [           nan            nan            nan            nan\n",
      "             nan            nan            nan 4.95331778e+00\n",
      "  8.66006929e+00            nan]\n",
      " [           nan            nan 1.17039972e+01            nan\n",
      "             nan 6.92743324e+00 5.67653036e+00 2.24566322e+00\n",
      "  7.46169293e+00 7.41872595e+00]\n",
      " [3.13158318e+00            nan 6.18075839e+00            nan\n",
      "  5.75232413e+00            nan 4.24697674e+00            nan\n",
      "  5.46722295e+00 3.84525581e+00]\n",
      " [           nan 2.64442037e+00 5.91031358e-01 3.70749850e+00\n",
      "             nan            nan            nan            nan\n",
      "             nan            nan]\n",
      " [           nan            nan 4.52976669e+00 3.00138384e+00\n",
      "             nan            nan 2.29607710e+00 4.77472079e+00\n",
      "  6.53622523e+00            nan]]\n"
     ]
    }
   ],
   "source": [
    "recommendations, nrmse = get_collaborative_filtering(ratings=item_item,\n",
    "                                                    normalized=normalized,\n",
    "                                                    mean=mean,\n",
    "                                                    deviation=deviation,\n",
    "                                                    similarity=similarity,\n",
    "                                                    entropy=entropy,\n",
    "                                                    adjacent=adjacent)\n",
    "print(nrmse)\n",
    "print(recommendations)"
   ]
  },
  {
   "cell_type": "markdown",
   "metadata": {},
   "source": [
    "#### Item-Item Novelty Recommendations"
   ]
  },
  {
   "cell_type": "code",
   "execution_count": 44,
   "metadata": {},
   "outputs": [
    {
     "name": "stdout",
     "output_type": "stream",
     "text": [
      "[[           nan            nan 6.29652409e+00 5.83598781e+00\n",
      "  4.85523787e+00            nan            nan 3.52801599e+00\n",
      "  6.06768189e+00 7.77960225e+00]\n",
      " [           nan 3.94051123e+00 7.67604668e+00 3.63318718e+00\n",
      "  2.40112743e+00            nan            nan            nan\n",
      "  9.60429720e+00            nan]\n",
      " [2.20381566e+00            nan            nan            nan\n",
      "             nan            nan 2.54558260e+00            nan\n",
      "             nan            nan]\n",
      " [4.41547163e+00            nan 6.78041657e+00            nan\n",
      "  3.42232191e+00            nan 5.19745520e+00            nan\n",
      "             nan            nan]\n",
      " [           nan 5.80188134e+00            nan 4.81031605e+00\n",
      "             nan 6.99144027e+00            nan 5.54399411e+00\n",
      "             nan            nan]\n",
      " [6.08852122e+00 3.09320762e+00            nan 1.27181906e+00\n",
      "  5.31473363e+00            nan            nan            nan\n",
      "             nan 7.84091977e-01]\n",
      " [           nan 6.38097125e+00            nan            nan\n",
      "             nan            nan 6.18242886e+00 5.39937351e+00\n",
      "             nan 8.19062536e+00]\n",
      " [           nan            nan 7.52021763e-03 2.12849334e-01\n",
      "  2.75952459e+00 2.00240998e+00            nan            nan\n",
      "             nan 8.19733776e-01]\n",
      " [           nan            nan            nan            nan\n",
      "  2.92482236e+00            nan            nan 6.12895832e+00\n",
      "             nan 7.12117189e+00]\n",
      " [2.13814808e+00            nan 5.39185974e+00            nan\n",
      "  2.49882270e+00 2.46377238e+00 4.18691555e+00 3.23238980e+00\n",
      "             nan            nan]\n",
      " [           nan            nan            nan            nan\n",
      "             nan            nan            nan 4.90427503e+00\n",
      "  8.66006929e+00            nan]\n",
      " [           nan            nan 1.17039972e+01            nan\n",
      "             nan 6.92743324e+00 5.67653036e+00 2.24566322e+00\n",
      "  7.38781478e+00 7.34527322e+00]\n",
      " [3.10057741e+00            nan 6.18075839e+00            nan\n",
      "  5.69537042e+00            nan 4.24697674e+00            nan\n",
      "  5.35949706e+00 3.84525581e+00]\n",
      " [           nan 2.59231484e+00 5.91031358e-01 3.70749850e+00\n",
      "             nan            nan            nan            nan\n",
      "             nan            nan]\n",
      " [           nan            nan 4.52976669e+00 3.00138384e+00\n",
      "             nan            nan 2.27334366e+00 4.77472079e+00\n",
      "  5.91715943e+00            nan]]\n"
     ]
    }
   ],
   "source": [
    "recommendations: np.matrix = get_novelty_matrix(recommendations, views.T)\n",
    "print(recommendations)"
   ]
  },
  {
   "cell_type": "markdown",
   "metadata": {},
   "source": [
    "#### Item-Item Top K Recommendations"
   ]
  },
  {
   "cell_type": "code",
   "execution_count": 45,
   "metadata": {},
   "outputs": [
    {
     "name": "stdout",
     "output_type": "stream",
     "text": [
      "[[ 5  3 12]\n",
      " [ 6  4  1]\n",
      " [11  1  3]\n",
      " [ 0  4 13]\n",
      " [12  5  0]\n",
      " [ 4 11  9]\n",
      " [ 6 11  3]\n",
      " [ 8  4  6]\n",
      " [ 1 10 11]\n",
      " [ 6  0 11]]\n"
     ]
    }
   ],
   "source": [
    "top: np.array = get_top_recommendations(recommendations.T)\n",
    "print(top)"
   ]
  },
  {
   "cell_type": "markdown",
   "metadata": {},
   "source": [
    "#### Trending Items"
   ]
  },
  {
   "cell_type": "code",
   "execution_count": 46,
   "metadata": {},
   "outputs": [
    {
     "name": "stdout",
     "output_type": "stream",
     "text": [
      "[5.72717498 5.45103394 2.37469913]\n"
     ]
    }
   ],
   "source": [
    "trending: np.array = get_trending_items(recommendations, 3)\n",
    "print(trending)"
   ]
  },
  {
   "cell_type": "markdown",
   "metadata": {},
   "source": [
    "#### Item-Item Recommendation Explanation"
   ]
  },
  {
   "cell_type": "code",
   "execution_count": 47,
   "metadata": {},
   "outputs": [
    {
     "name": "stdout",
     "output_type": "stream",
     "text": [
      "Item #5 recommended to User #0 because they liked Item #13.\n",
      "Item #12 recommended to User #0 because they liked Item #13.\n",
      "Item #6 recommended to User #1 because they liked Item #3.\n",
      "Item #4 recommended to User #1 because they liked Item #3.\n",
      "Item #1 recommended to User #1 because they liked Item #10.\n",
      "Item #11 recommended to User #2 because they liked Item #4.\n",
      "Item #1 recommended to User #2 because they liked Item #4.\n",
      "Item #3 recommended to User #2 because they liked Item #4.\n",
      "Item #0 recommended to User #3 because they liked Item #11.\n",
      "Item #13 recommended to User #3 because they liked Item #11.\n",
      "Item #5 recommended to User #4 because they liked Item #2.\n",
      "Item #4 recommended to User #5 because they liked Item #0.\n",
      "Item #11 recommended to User #5 because they liked Item #0.\n",
      "Item #11 recommended to User #6 because they liked Item #0.\n",
      "Item #1 recommended to User #8 because they liked Item #4.\n",
      "Item #10 recommended to User #8 because they liked Item #4.\n",
      "Item #11 recommended to User #8 because they liked Item #4.\n",
      "Item #6 recommended to User #9 because they liked Item #4.\n",
      "Item #0 recommended to User #9 because they liked Item #4.\n",
      "Item #11 recommended to User #9 because they liked Item #1.\n",
      "[[13 -1 13]\n",
      " [ 3  3 10]\n",
      " [ 4  4  4]\n",
      " [11 -1 11]\n",
      " [-1  2 -1]\n",
      " [ 0  0 -1]\n",
      " [-1  0 -1]\n",
      " [-1 -1 -1]\n",
      " [ 4  4  4]\n",
      " [ 4  4  1]]\n"
     ]
    }
   ],
   "source": [
    "explained: np.array = explain(top, adjacent, user_user, 4)\n",
    "print(explained)"
   ]
  },
  {
   "cell_type": "markdown",
   "metadata": {},
   "source": [
    "## Dimensionality Reduction"
   ]
  },
  {
   "cell_type": "code",
   "execution_count": 48,
   "metadata": {},
   "outputs": [
    {
     "name": "stderr",
     "output_type": "stream",
     "text": [
      "/home/martin/orleans/.env/lib/python3.7/site-packages/ipykernel_launcher.py:5: VisibleDeprecationWarning: Creating an ndarray from ragged nested sequences (which is a list-or-tuple of lists-or-tuples-or ndarrays with different lengths or shapes) is deprecated. If you meant to do this, you must specify 'dtype=object' when creating the ndarray\n",
      "  \"\"\"\n"
     ]
    },
    {
     "ename": "ValueError",
     "evalue": "operands could not be broadcast together with shapes (2,) (200,1000) ",
     "output_type": "error",
     "traceback": [
      "\u001b[0;31m---------------------------------------------------------------------------\u001b[0m",
      "\u001b[0;31mValueError\u001b[0m                                Traceback (most recent call last)",
      "\u001b[0;32m<ipython-input-48-871d2263a77c>\u001b[0m in \u001b[0;36m<module>\u001b[0;34m\u001b[0m\n\u001b[1;32m     15\u001b[0m                                                          \u001b[0mentropy\u001b[0m\u001b[0;34m=\u001b[0m\u001b[0mentropy\u001b[0m\u001b[0;34m,\u001b[0m\u001b[0;34m\u001b[0m\u001b[0;34m\u001b[0m\u001b[0m\n\u001b[1;32m     16\u001b[0m                                                          adjacent=adjacent)\n\u001b[0;32m---> 17\u001b[0;31m \u001b[0mrecommendations\u001b[0m\u001b[0;34m:\u001b[0m \u001b[0mnp\u001b[0m\u001b[0;34m.\u001b[0m\u001b[0mmatrix\u001b[0m \u001b[0;34m=\u001b[0m \u001b[0mget_novelty_matrix\u001b[0m\u001b[0;34m(\u001b[0m\u001b[0mrecommendations\u001b[0m\u001b[0;34m,\u001b[0m \u001b[0mviews\u001b[0m\u001b[0;34m.\u001b[0m\u001b[0mT\u001b[0m\u001b[0;34m)\u001b[0m\u001b[0;34m\u001b[0m\u001b[0;34m\u001b[0m\u001b[0m\n\u001b[0m\u001b[1;32m     18\u001b[0m \u001b[0mtop\u001b[0m\u001b[0;34m:\u001b[0m \u001b[0mnp\u001b[0m\u001b[0;34m.\u001b[0m\u001b[0marray\u001b[0m \u001b[0;34m=\u001b[0m \u001b[0mget_top_recommendations\u001b[0m\u001b[0;34m(\u001b[0m\u001b[0mrecommendations\u001b[0m\u001b[0;34m.\u001b[0m\u001b[0mT\u001b[0m\u001b[0;34m,\u001b[0m \u001b[0mtop\u001b[0m\u001b[0;34m=\u001b[0m\u001b[0;36m3\u001b[0m\u001b[0;34m)\u001b[0m\u001b[0;34m\u001b[0m\u001b[0;34m\u001b[0m\u001b[0m\n\u001b[1;32m     19\u001b[0m \u001b[0mtrending\u001b[0m\u001b[0;34m:\u001b[0m \u001b[0mnp\u001b[0m\u001b[0;34m.\u001b[0m\u001b[0marray\u001b[0m \u001b[0;34m=\u001b[0m \u001b[0mget_trending_items\u001b[0m\u001b[0;34m(\u001b[0m\u001b[0mrecommendations\u001b[0m\u001b[0;34m,\u001b[0m \u001b[0mtop\u001b[0m\u001b[0;34m=\u001b[0m\u001b[0;36m5\u001b[0m\u001b[0;34m)\u001b[0m\u001b[0;34m\u001b[0m\u001b[0;34m\u001b[0m\u001b[0m\n",
      "\u001b[0;32m<ipython-input-23-3775d401c636>\u001b[0m in \u001b[0;36mget_novelty_matrix\u001b[0;34m(recommendations, views, discount_rate)\u001b[0m\n\u001b[1;32m      3\u001b[0m     \u001b[0mApply\u001b[0m \u001b[0mnovelty\u001b[0m \u001b[0mto\u001b[0m \u001b[0mrecommendations\u001b[0m\u001b[0;34m.\u001b[0m\u001b[0;34m\u001b[0m\u001b[0;34m\u001b[0m\u001b[0m\n\u001b[1;32m      4\u001b[0m     \"\"\"\n\u001b[0;32m----> 5\u001b[0;31m     \u001b[0;32mreturn\u001b[0m \u001b[0mrecommendations\u001b[0m \u001b[0;34m/\u001b[0m \u001b[0;34m(\u001b[0m\u001b[0;36m1\u001b[0m \u001b[0;34m+\u001b[0m \u001b[0mdiscount_rate\u001b[0m\u001b[0;34m)\u001b[0m \u001b[0;34m**\u001b[0m \u001b[0mviews\u001b[0m\u001b[0;34m\u001b[0m\u001b[0;34m\u001b[0m\u001b[0m\n\u001b[0m",
      "\u001b[0;31mValueError\u001b[0m: operands could not be broadcast together with shapes (2,) (200,1000) "
     ]
    }
   ],
   "source": [
    "ratings: np.array = get_random_ratings_matrix(users=1000, items=200)\n",
    "ratings = get_hot_users(ratings, min_ratings=20)\n",
    "views: np.array = get_random_views_matrix(ratings)\n",
    "item_item = ratings.T\n",
    "user_user  = ratings\n",
    "mean, deviation, normalized = get_normalized_matrix(item_item)\n",
    "similarity: np.array = get_similarity_matrix(normalized, min_shared_ratings=50)\n",
    "adjacent: np.array = get_adjacency_matrix(similarity)\n",
    "entropy: np.array = get_entropy_array(item_item.T)\n",
    "recommendations: np.matrix = get_collaborative_filtering(ratings=item_item,\n",
    "                                                         normalized=normalized,\n",
    "                                                         mean=mean,\n",
    "                                                         deviation=deviation,\n",
    "                                                         similarity=similarity,\n",
    "                                                         entropy=entropy,\n",
    "                                                         adjacent=adjacent)\n",
    "recommendations,  = get_novelty_matrix(recommendations, views.T)\n",
    "top: np.array = get_top_recommendations(recommendations.T, top=3)\n",
    "trending: np.array = get_trending_items(recommendations, top=5)\n",
    "explained: np.array = explain(top, adjacent, user_user, min_rating=4)"
   ]
  },
  {
   "cell_type": "code",
   "execution_count": null,
   "metadata": {},
   "outputs": [],
   "source": []
  }
 ],
 "metadata": {
  "kernelspec": {
   "display_name": "Python 3",
   "language": "python",
   "name": "python3"
  },
  "language_info": {
   "codemirror_mode": {
    "name": "ipython",
    "version": 3
   },
   "file_extension": ".py",
   "mimetype": "text/x-python",
   "name": "python",
   "nbconvert_exporter": "python",
   "pygments_lexer": "ipython3",
   "version": "3.7.6"
  }
 },
 "nbformat": 4,
 "nbformat_minor": 4
}
